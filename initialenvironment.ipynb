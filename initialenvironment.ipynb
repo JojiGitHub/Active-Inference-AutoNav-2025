{
 "cells": [
  {
   "cell_type": "markdown",
   "metadata": {},
   "source": [
    "Environment: Gridworld\n",
    "\n",
    "Task: Get to some point X (given). Avoid red spots (some points are red and the agent doesn’t wanna go on those).\n",
    "\n",
    "### Info:\n",
    "GRID: 7 by 5 \\\n",
    "Number of red spots: 4 \\\n",
    "Positions of red spots: red1, red2, red3, red4 = (randomly define locations for each one) \\\n",
    "Red_spots = [(1, 2), (6, 1), (3, 2), (4, 4)]\n",
    "\n",
    "### S\n",
    "Location of Agent \\\n",
    "    Agent_pos = (x, y)\n",
    "\n",
    "Locations of Red Spots: \\\n",
    "Agent Map = Belixef of Possible Locations on Grid \\\n",
    "    Possible_locations = dict((1,1) : False) \\\n",
    "        1st component = location \\\n",
    "        2nd component encodes whether it’s a red spot (true) or safe (false)\n",
    "\n",
    "### T\n",
    "Location of Agent \\\n",
    "    Environmental Constraints \\\n",
    "        If agent_pos[0] == 0: P(a = LEFT) = 0  \\\n",
    "        If agent_pos[1] == 0: P(a = DOWN) = 0  \\\n",
    "        If agent_pos[0] ==  6: P(a = RIGHT) = 0  \\\n",
    "        If agent_pos[1] == 4: P(a = UP) = 0 \\\n",
    "If a == RIGHT: agent_pos[0] += 1 \\\n",
    "If a == LEFT: agent_pos[0] -= 1 \\\n",
    "If a == UP: agent_pos[1] += 1 \\\n",
    "If a == DOWN: agent_pos[1] -= 1\n",
    "\n",
    "### R\n",
    "Reward_points = 0 \\\n",
    "Redspot: If agent_pos in redspots: reward_points -= 5 \\\n",
    "Endgoal \\\n",
    "    If agent_pos == (4, 6): reward_points += 20\n",
    "\n",
    "\n",
    "### set of observations (dimensionality of 2)\n",
    "Observation \\\n",
    "    Observed_spot \\\n",
    "        ((x, y), True/False) \\\n",
    "    Possible_locations.append(observed_spot)\n",
    "\n",
    "O is set of conditional observation probabilities (prior preference) \\\n",
    "    C = C matrix \\\n",
    "    C[(4,6)] = 1"
   ]
  },
  {
   "cell_type": "markdown",
   "metadata": {},
   "source": [
    "## Imports"
   ]
  },
  {
   "cell_type": "code",
   "execution_count": 2,
   "metadata": {},
   "outputs": [],
   "source": [
    "import numpy as np\n",
    "\n",
    "import matplotlib.pyplot as plt\n",
    "import matplotlib.patches as patches\n",
    "import matplotlib.cm as cm\n",
    "\n",
    "import seaborn as sns\n",
    "\n",
    "import pymdp\n",
    "from pymdp import utils"
   ]
  },
  {
   "cell_type": "markdown",
   "metadata": {},
   "source": [
    "## Auxilary Functions"
   ]
  },
  {
   "cell_type": "code",
   "execution_count": 30,
   "metadata": {},
   "outputs": [],
   "source": [
    "def plot_grid(grid_locations, num_x = 3, num_y = 3 ):\n",
    "    \"\"\"\n",
    "    Plots the spatial coordinates of GridWorld as a heatmap, with each (X, Y) coordinate \n",
    "    labeled with its linear index (its `state id`)\n",
    "    \"\"\"\n",
    "\n",
    "    grid_heatmap = np.zeros((num_x, num_y))\n",
    "    for linear_idx, location in enumerate(grid_locations):\n",
    "      y, x = location\n",
    "      grid_heatmap[y, x] = linear_idx\n",
    "    sns.set(font_scale=1.5)\n",
    "    sns.heatmap(grid_heatmap, annot=True, cbar = False, fmt='.0f', cmap='crest')"
   ]
  },
  {
   "cell_type": "markdown",
   "metadata": {},
   "source": [
    "## Parameters"
   ]
  },
  {
   "cell_type": "code",
   "execution_count": 35,
   "metadata": {},
   "outputs": [
    {
     "data": {
      "text/plain": [
       "(array([[ 0,  1,  2,  3,  4],\n",
       "        [ 5,  6,  1,  8,  9],\n",
       "        [10, 11, 12, 13, 14],\n",
       "        [15, 16,  1, 18, 19],\n",
       "        [20, 21, 22, 23,  1],\n",
       "        [25, 26, 27, 28, 29],\n",
       "        [30,  1, 32, 33, 34]]),\n",
       " [(0, 0),\n",
       "  (0, 1),\n",
       "  (0, 2),\n",
       "  (0, 3),\n",
       "  (0, 4),\n",
       "  (1, 0),\n",
       "  (1, 1),\n",
       "  (1, 2),\n",
       "  (1, 3),\n",
       "  (1, 4),\n",
       "  (2, 0),\n",
       "  (2, 1),\n",
       "  (2, 2),\n",
       "  (2, 3),\n",
       "  (2, 4),\n",
       "  (3, 0),\n",
       "  (3, 1),\n",
       "  (3, 2),\n",
       "  (3, 3),\n",
       "  (3, 4),\n",
       "  (4, 0),\n",
       "  (4, 1),\n",
       "  (4, 2),\n",
       "  (4, 3),\n",
       "  (4, 4),\n",
       "  (5, 0),\n",
       "  (5, 1),\n",
       "  (5, 2),\n",
       "  (5, 3),\n",
       "  (5, 4),\n",
       "  (6, 0),\n",
       "  (6, 1),\n",
       "  (6, 2),\n",
       "  (6, 3),\n",
       "  (6, 4)])"
      ]
     },
     "execution_count": 35,
     "metadata": {},
     "output_type": "execute_result"
    }
   ],
   "source": [
    "# grid_dimensions\n",
    "grid_dims = [7,5]\n",
    "num_grid_points = np.prod(grid_dims) # total number of grid locations (rows X columns)\n",
    "\n",
    "# setup matrix\n",
    "grid = np.arange(num_grid_points).reshape(grid_dims) # arange -> creates list; reshape -> makes it in the shape specified by grid_dims\n",
    "\n",
    "# define red spots\n",
    "grid[(1, 2)] = 1\n",
    "grid[(3, 2)] = 1\n",
    "grid[(4, 4)] = 1\n",
    "grid[(6, 1)] = 1\n",
    "\n",
    "# list of grid positiions\n",
    "grid_locations = []\n",
    "it = np.nditer(grid, flags=[\"multi_index\"]) # set up the iterator to go throgh the matrix\n",
    "while not it.finished:\n",
    "    grid_locations.append(it.multi_index)\n",
    "    it.iternext()\n",
    "\n",
    "grid, grid_locations"
   ]
  },
  {
   "cell_type": "code",
   "execution_count": 28,
   "metadata": {},
   "outputs": [],
   "source": [
    "# location of the agent hidden state\n",
    "agent_pos = (0,0)"
   ]
  },
  {
   "cell_type": "markdown",
   "metadata": {},
   "source": [
    "## Visual gridworld"
   ]
  },
  {
   "cell_type": "markdown",
   "metadata": {},
   "source": [
    "### Set up figure & grid\n",
    "fig: The entire figure (canvas) where the grid and visual elements will be plotted; ax: The specific axis (plot area) for drawing the grid."
   ]
  },
  {
   "cell_type": "code",
   "execution_count": 10,
   "metadata": {},
   "outputs": [
    {
     "data": {
      "image/png": "[encoded data removed]",
      "text/plain": [
       "<Figure size 1000x600 with 1 Axes>"
      ]
     },
     "metadata": {},
     "output_type": "display_data"
    }
   ],
   "source": [
    "# fig, ax = plt.subplots(figsize=(10, 6))"
   ]
  },
  {
   "cell_type": "markdown",
   "metadata": {},
   "source": [
    "Next step is to create the visual grid. \\\n",
    "np.meshgrid defines/creates it. \\\n",
    "The other functions are purely visuals. \\\n",
    "FIGURE OUT WHY WE HAVE TO REDEFINE IT LATER"
   ]
  },
  {
   "cell_type": "code",
   "execution_count": 26,
   "metadata": {},
   "outputs": [
    {
     "data": {
      "image/png": "[encoded data removed]",
      "text/plain": [
       "<Figure size 800x600 with 1 Axes>"
      ]
     },
     "metadata": {},
     "output_type": "display_data"
    }
   ],
   "source": [
    "# fig, ax = plt.subplots(figsize=(8, 6))  # Properly sized figure\n",
    "\n",
    "# # Create grid\n",
    "# X, Y = np.meshgrid(np.arange(grid_dims[1] + 1), np.arange(grid_dims[0] + 1))  # 5x7 grid\n",
    "# h = ax.pcolormesh(X, Y, np.zeros(grid_dims), edgecolors='k', linewidth=3, cmap='coolwarm')  # Base grid\n",
    "\n",
    "# # Add goal (green square)\n",
    "# ax.add_patch(\n",
    "#     plt.Rectangle((4, 6), width=1, height=1, color='green')  # Adjusted coordinates for grid alignment\n",
    "# )\n",
    "\n",
    "# # Add red obstacles\n",
    "# red_obstacles = [(2, 1), (1, 6), (2, 3), (4, 4)]  # List of (x, y) coordinates for red obstacles\n",
    "# for red in red_obstacles:\n",
    "#     ax.add_patch(\n",
    "#         plt.Rectangle((red[0], red[1]), width=1, height=1, color='red')\n",
    "#     )\n",
    "\n",
    "# # Add entry point (white square)\n",
    "# ax.add_patch(\n",
    "#     plt.Rectangle((0, 0), width=1, height=1, color='white')\n",
    "# )\n",
    "\n",
    "# # Add agent (black circle)\n",
    "# ax.add_patch(\n",
    "#     plt.Circle((agent_pos[0] + 0.5, agent_pos[1] + 0.5), radius=0.25, color='black')\n",
    "# )\n",
    "\n",
    "# # Set grid limits and labels\n",
    "# ax.set_xlim(0, grid_dims[1])\n",
    "# ax.set_ylim(0, grid_dims[0])\n",
    "# ax.set_aspect('equal')\n",
    "# ax.set_xticks(np.arange(grid_dims[1]) + 0.5)\n",
    "# ax.set_yticks(np.arange(grid_dims[0]) + 0.5)\n",
    "# ax.set_xticklabels(np.arange(grid_dims[1]))\n",
    "# ax.set_yticklabels(np.arange(grid_dims[0]))\n",
    "# plt.gca().invert_yaxis()  # Invert y-axis to match typical grid orientation\n",
    "\n",
    "# # Show plot\n",
    "# plt.show()\n",
    "\n"
   ]
  },
  {
   "cell_type": "code",
   "execution_count": 27,
   "metadata": {},
   "outputs": [],
   "source": [
    "# fig, ax = plt.subplots(figsize=(10, 6)) # idk why we need to redefine this. FIGURE IT OUT LATER\n",
    "\n",
    "# # create grid\n",
    "# X, Y = np.meshgrid(np.arange(grid_dims[1]+1), np.arange(grid_dims[0]+1))\n",
    "# print(X, Y)\n",
    "# # grid visuals\n",
    "# h = ax.pcolormesh(X, Y, np.ones([5, 7]), edgecolors='k', vmin = 0, vmax = 30, linewidth=3, cmap = 'coolwarm')\n",
    "\n",
    "# # goal\n",
    "# desired_location = ax.add_patch(\n",
    "#     plt.Rectangle((4, 6), width=1, height=1, color='green')\n",
    "# )\n",
    "\n",
    "# # red spots\n",
    "# red1 = ax.add_patch(\n",
    "#     plt.Rectangle((1, 2), width=1, height=1, color='red')\n",
    "# )\n",
    "# red2 = ax.add_patch(\n",
    "#     plt.Rectangle((6, 1), width=1, height=1, color='red')\n",
    "# )\n",
    "# red3 = ax.add_patch(\n",
    "#     plt.Rectangle((3, 2), width=1, height=1, color='red')\n",
    "# )\n",
    "# red4 = ax.add_patch(\n",
    "#     plt.Rectangle((4, 4), width=1, height=1, color='red')\n",
    "# )\n",
    "\n",
    "# # entry spot\n",
    "# entry = ax.add_patch(\n",
    "#     plt.Rectangle((0, 0), width=1, height=1, color='white')\n",
    "# )\n",
    "# agent_icon = ax.add_patch(\n",
    "#     plt.Circle((agent_pos[0] + 0.5, agent_pos[1] + 0.5), radius=0.25, color='black')\n",
    "# )\n",
    "\n",
    "\n",
    "# desired_location = ax.add_patch(\n",
    "#     plt.Rectangle((6, 4), width=1, height=1, color='green')\n",
    "# )\n",
    "\n",
    "# # ax.set_xlim(0, grid_dims[1])\n",
    "# # ax.set_ylim(0, grid_dims[0])\n",
    "# # ax.set_aspect('equal')\n",
    "# # ax.set_xticks(np.arange(grid_dims[1]) + 0.5)\n",
    "# # ax.set_yticks(np.arange(grid_dims[0]) + 0.5)\n",
    "# # ax.set_xticklabels(np.arange(grid_dims[1]))\n",
    "# # ax.set_yticklabels(np.arange(grid_dims[0]))\n",
    "\n",
    "# plt.show()"
   ]
  },
  {
   "cell_type": "markdown",
   "metadata": {},
   "source": [
    "## Generative Model"
   ]
  },
  {
   "cell_type": "code",
   "execution_count": 8,
   "metadata": {},
   "outputs": [],
   "source": [
    "# # reward\n",
    "# reward_conditions_positive = ['END GOAL']\n",
    "# reward_locations_positive = [(6,4)]\n",
    "# reward_conditions_negative = ['RED1', 'RED2', 'RED3', 'RED4']\n",
    "# reward_locations_negative = [(1, 2), (6, 1), (3, 2), (4, 4)]"
   ]
  },
  {
   "cell_type": "code",
   "execution_count": 20,
   "metadata": {},
   "outputs": [],
   "source": [
    "# context_names = ['SAFE', 'RED']\n",
    "# choice_names = ['UP', 'DOWN', 'LEFT', 'RIGHT']\n",
    "\n",
    "# num_states = [len(context_names), len(choice_names)]\n",
    "# num_factors = len(num_states)\n",
    "\n",
    "# context_action_names = ['Do-nothing']\n",
    "# choice_action_names = ['Move-up', 'Move-down', 'Move-left', 'Move-right']\n",
    "\n",
    "# num_controls = [len(context_action_names), len(choice_action_names)]\n",
    "\n",
    "# loc_obs_attributes = ['SAFE', 'DANGER', 'GOAL']\n",
    "# # agent's belief about map hidden state\n",
    "# map_obs = {\n",
    "#     (0,0) : False,\n",
    "#     (0, 1) : False,\n",
    "#     (1, 0) : False,\n",
    "#     (1, 1) : False,\n",
    "# }\n",
    "\n",
    "# num_obs = [len(loc_obs_attribute), len(loc_obs_map)]\n",
    "# num_modalities = len(num_obs)"
   ]
  },
  {
   "cell_type": "markdown",
   "metadata": {},
   "source": [
    "The hidden states s have these hidden state factors:\n",
    "1. Location (as many levels as there are grid locations)\n",
    "\n",
    "The observations!!:\n",
    "1. Positions\n",
    "2. Safety (2 hidden state levels - safe or dangerous/red)"
   ]
  },
  {
   "cell_type": "code",
   "execution_count": 67,
   "metadata": {},
   "outputs": [],
   "source": [
    "num_states = [len(grid_locations)] # location\n",
    "\n",
    "safety = ['EMPTY', 'RED'] # obs\n",
    "goal = ['EMPTY', 'GOAL']\n",
    "\n",
    "num_obs = [len(grid_locations), len(safety), len(goal)]\n"
   ]
  },
  {
   "cell_type": "markdown",
   "metadata": {},
   "source": [
    "### A Array"
   ]
  },
  {
   "cell_type": "code",
   "execution_count": 68,
   "metadata": {},
   "outputs": [
    {
     "data": {
      "text/plain": [
       "[[35, 35], [2, 35], [2, 35]]"
      ]
     },
     "execution_count": 68,
     "metadata": {},
     "output_type": "execute_result"
    }
   ],
   "source": [
    "A_m_shapes = [ [o_dim] + num_states for o_dim in num_obs] # list of shapes of modality-specific A[m] arrays\n",
    "A = utils.obj_array_zeros(A_m_shapes) # initialize A array to an object array of all-zero subarrays\n",
    "A_m_shapes # 2 types of observations, one type of state"
   ]
  },
  {
   "cell_type": "markdown",
   "metadata": {},
   "source": [
    "Location observation modality: A[0]"
   ]
  },
  {
   "cell_type": "code",
   "execution_count": 69,
   "metadata": {},
   "outputs": [],
   "source": [
    "A[0] = np.eye(num_grid_points)\n",
    "\n",
    "# Safety observations (probability 1 for the safe state, 0 for the dangerous one)\n",
    "A[1] = np.zeros((2, num_grid_points))  # safety matrix initialized to 0\n",
    "A[1][0, 0] = 1  # Safe state (SAFE) for the first grid point, probability 1\n",
    "A[1][1, 0] = 0  # Danger (RED) for the first grid point, probability 0\n",
    "\n",
    "A[2][0, 0] = 1"
   ]
  },
  {
   "cell_type": "code",
   "execution_count": 70,
   "metadata": {},
   "outputs": [],
   "source": [
    "# A = utils.obj_array(num_modalities)\n",
    "\n",
    "# p_safe = 0.5\n",
    "# p_danger = 1 - p_safe\n",
    "\n",
    "# A_loc_attribute = np.zeros((len(loc_obs_attributes), len(context_names), len(choice_names)))\n",
    "\n",
    "# for choice_id, choice_name in enumerate(choice_names):\n",
    "#     if choice_name == 'UP':\n",
    "#         A_loc_attribute[0,:,choice_id] =  "
   ]
  },
  {
   "cell_type": "markdown",
   "metadata": {},
   "source": [
    "### B Array"
   ]
  },
  {
   "cell_type": "code",
   "execution_count": 71,
   "metadata": {},
   "outputs": [
    {
     "data": {
      "text/plain": [
       "[[35, 35, 5]]"
      ]
     },
     "execution_count": 71,
     "metadata": {},
     "output_type": "execute_result"
    }
   ],
   "source": [
    "num_controls = [5]\n",
    "B_f_shapes = [ [ns, ns, num_controls[f]] for f, ns in enumerate(num_states)]\n",
    "B = utils.obj_array_zeros(B_f_shapes)\n",
    "B_f_shapes\n"
   ]
  },
  {
   "cell_type": "code",
   "execution_count": 72,
   "metadata": {},
   "outputs": [],
   "source": [
    "actions = [\"UP\", \"DOWN\", \"LEFT\", \"RIGHT\", \"STAY\"]\n",
    "\n",
    "for action_id, action_label in enumerate(actions):\n",
    "\n",
    "  for curr_state, grid_location in enumerate(grid_locations):\n",
    "\n",
    "    y, x = grid_location\n",
    "\n",
    "    if action_label == \"UP\":\n",
    "      next_y = y - 1 if y > 0 else y \n",
    "      next_x = x\n",
    "\n",
    "    elif action_label == \"DOWN\":\n",
    "      next_y = y + 1 if y < (grid_dims[0]-1) else y \n",
    "      next_x = x\n",
    "    elif action_label == \"LEFT\":\n",
    "      next_x = x - 1 if x > 0 else x \n",
    "      next_y = y\n",
    "    elif action_label == \"RIGHT\":\n",
    "      next_x = x + 1 if x < (grid_dims[1]-1) else x \n",
    "      next_y = y\n",
    "    elif action_label == \"STAY\":\n",
    "      next_x = x\n",
    "      next_y = y\n",
    "\n",
    "    new_location = (next_y, next_x)\n",
    "    next_state = grid_locations.index(new_location)\n",
    "    B[0][next_state, curr_state, action_id] = 1.0"
   ]
  },
  {
   "cell_type": "markdown",
   "metadata": {},
   "source": [
    "### C Vectors (prior preferences)"
   ]
  },
  {
   "cell_type": "code",
   "execution_count": 74,
   "metadata": {},
   "outputs": [],
   "source": [
    "C = utils.obj_array_zeros(num_obs)\n",
    "\n",
    "C[1][1] = -5\n",
    "C[2][1] = 20"
   ]
  },
  {
   "cell_type": "markdown",
   "metadata": {},
   "source": [
    "### D Vectors: Prior over (initial) hidden states"
   ]
  },
  {
   "cell_type": "code",
   "execution_count": 75,
   "metadata": {},
   "outputs": [],
   "source": [
    "D = utils.obj_array_uniform(num_states)\n",
    "D[0] = utils.onehot(grid_locations.index((0,0)), len(grid_locations))"
   ]
  }
 ],
 "metadata": {
  "kernelspec": {
   "display_name": "base",
   "language": "python",
   "name": "python3"
  },
  "language_info": {
   "codemirror_mode": {
    "name": "ipython",
    "version": 3
   },
   "file_extension": ".py",
   "mimetype": "text/x-python",
   "name": "python",
   "nbconvert_exporter": "python",
   "pygments_lexer": "ipython3",
   "version": "3.11.7"
  }
 },
 "nbformat": 4,
 "nbformat_minor": 2
}
