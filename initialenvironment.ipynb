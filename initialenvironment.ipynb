{
 "cells": [
  {
   "cell_type": "markdown",
   "metadata": {},
   "source": [
    "Environment: Gridworld\n",
    "\n",
    "Task: Get to some point X (given). Avoid red spots (some points are red and the agent doesn’t wanna go on those).\n",
    "\n",
    "### Info:\n",
    "GRID: 7 by 5 \\\n",
    "Number of red spots: 4 \\\n",
    "Positions of red spots: red1, red2, red3, red4 = (randomly define locations for each one) \\\n",
    "Red_spots = [(1, 2), (6, 1), (3, 2), (4, 4)]\n",
    "\n",
    "### S\n",
    "Location of Agent \\\n",
    "    Agent_pos = (x, y)\n",
    "\n",
    "Locations of Red Spots: \\\n",
    "Agent Map = Belixef of Possible Locations on Grid \\\n",
    "    Possible_locations = dict((1,1) : False) \\\n",
    "        1st component = location \\\n",
    "        2nd component encodes whether it’s a red spot (true) or safe (false)\n",
    "\n",
    "### T\n",
    "Location of Agent \\\n",
    "    Environmental Constraints \\\n",
    "        If agent_pos[0] == 0: P(a = LEFT) = 0  \\\n",
    "        If agent_pos[1] == 0: P(a = DOWN) = 0  \\\n",
    "        If agent_pos[0] ==  6: P(a = RIGHT) = 0  \\\n",
    "        If agent_pos[1] == 4: P(a = UP) = 0 \\\n",
    "If a == RIGHT: agent_pos[0] += 1 \\\n",
    "If a == LEFT: agent_pos[0] -= 1 \\\n",
    "If a == UP: agent_pos[1] += 1 \\\n",
    "If a == DOWN: agent_pos[1] -= 1\n",
    "\n",
    "### R\n",
    "Reward_points = 0 \\\n",
    "Redspot: If agent_pos in redspots: reward_points -= 5 \\\n",
    "Endgoal \\\n",
    "    If agent_pos == (4, 6): reward_points += 20\n",
    "\n",
    "\n",
    "### set of observations (dimensionality of 2)\n",
    "Observation \\\n",
    "    Observed_spot \\\n",
    "        ((x, y), True/False) \\\n",
    "    Possible_locations.append(observed_spot)\n",
    "\n",
    "O is set of conditional observation probabilities (prior preference) \\\n",
    "    C = C matrix \\\n",
    "    C[(4,6)] = 1"
   ]
  },
  {
   "cell_type": "markdown",
   "metadata": {},
   "source": [
    "## Imports"
   ]
  },
  {
   "cell_type": "code",
   "execution_count": null,
   "metadata": {},
   "outputs": [],
   "source": []
  },
  {
   "cell_type": "code",
   "execution_count": null,
   "metadata": {},
   "outputs": [],
   "source": []
  },
  {
   "cell_type": "code",
   "execution_count": null,
   "metadata": {},
   "outputs": [],
   "source": []
  },
  {
   "cell_type": "code",
   "execution_count": 16,
   "metadata": {},
   "outputs": [],
   "source": [
    "import numpy as np\n",
    "\n",
    "import matplotlib.pyplot as plt\n",
    "import matplotlib.patches as patches\n",
    "import matplotlib.cm as cm\n",
    "\n",
    "import seaborn as sns\n",
    "\n",
    "import pymdp\n",
    "from pymdp import utils"
   ]
  },
  {
   "cell_type": "markdown",
   "metadata": {},
   "source": [
    "## Auxilary Functions"
   ]
  },
  {
   "cell_type": "code",
   "execution_count": 17,
   "metadata": {},
   "outputs": [],
   "source": [
    "def plot_grid(grid_locations, num_x = 3, num_y = 3 ):\n",
    "    \"\"\"\n",
    "    Plots the spatial coordinates of GridWorld as a heatmap, with each (X, Y) coordinate \n",
    "    labeled with its linear index (its `state id`)\n",
    "    \"\"\"\n",
    "\n",
    "    grid_heatmap = np.zeros((num_x, num_y))\n",
    "    for linear_idx, location in enumerate(grid_locations):\n",
    "      y, x = location\n",
    "      grid_heatmap[y, x] = linear_idx\n",
    "    sns.set(font_scale=1.5)\n",
    "    sns.heatmap(grid_heatmap, annot=True, cbar = False, fmt='.0f', cmap='crest')\n",
    "\n",
    "def plot_likelihood(matrix, title_str = \"Likelihood distribution (A)\"):\n",
    "    \"\"\"\n",
    "    Plots a 2-D likelihood matrix as a heatmap\n",
    "    \"\"\"\n",
    "\n",
    "    if not np.isclose(matrix.sum(axis=0), 1.0).all():\n",
    "      raise ValueError(\"Distribution not column-normalized! Please normalize (ensure matrix.sum(axis=0) == 1.0 for all columns)\")\n",
    "    \n",
    "    fig = plt.figure(figsize = (6,6))\n",
    "    ax = sns.heatmap(matrix, cmap = 'gray', cbar = False, vmin = 0.0, vmax = 1.0)\n",
    "    plt.title(title_str)\n",
    "    plt.show()\n",
    "\n",
    "\n",
    "def plot_beliefs(belief_dist, title_str=\"\"):\n",
    "    \"\"\"\n",
    "    Plot a categorical distribution or belief distribution, stored in the 1-D numpy vector `belief_dist`\n",
    "    \"\"\"\n",
    "\n",
    "    if not np.isclose(belief_dist.sum(), 1.0):\n",
    "      raise ValueError(\"Distribution not normalized! Please normalize\")\n",
    "\n",
    "    plt.grid(zorder=0)\n",
    "    plt.bar(range(belief_dist.shape[0]), belief_dist, color='r', zorder=3)\n",
    "    plt.xticks(range(belief_dist.shape[0]))\n",
    "    plt.title(title_str)\n",
    "    plt.show()"
   ]
  },
  {
   "cell_type": "markdown",
   "metadata": {},
   "source": [
    "## Parameters"
   ]
  },
  {
   "cell_type": "code",
   "execution_count": 18,
   "metadata": {},
   "outputs": [],
   "source": [
    "# grid_dimensions\n",
    "grid_dims = [7,5]\n",
    "num_grid_points = np.prod(grid_dims) # total number of grid locations (rows X columns)\n",
    "\n",
    "# setup matrix\n",
    "grid = np.arange(num_grid_points).reshape(grid_dims) # arange -> creates list; reshape -> makes it in the shape specified by grid_dims\n",
    "\n",
    "# define red spots\n",
    "grid[(1, 2)] = 1\n",
    "grid[(3, 2)] = 1\n",
    "grid[(4, 4)] = 1\n",
    "grid[(6, 1)] = 1\n",
    "\n",
    "# list of grid positiions\n",
    "grid_locations = []\n",
    "it = np.nditer(grid, flags=[\"multi_index\"]) # set up the iterator to go throgh the matrix\n",
    "while not it.finished:\n",
    "    grid_locations.append(it.multi_index)\n",
    "    it.iternext()\n",
    "\n",
    "grid, grid_locations\n",
    "\n",
    "redspots = [(1,2), (3,2), (4,4), (6,1)]"
   ]
  },
  {
   "cell_type": "code",
   "execution_count": 19,
   "metadata": {},
   "outputs": [],
   "source": [
    "# location of the agent hidden state\n",
    "agent_pos = (0,0)\n",
    "\n",
    "goal_location = (6,4)"
   ]
  },
  {
   "cell_type": "markdown",
   "metadata": {},
   "source": [
    "## Visual gridworld"
   ]
  },
  {
   "cell_type": "markdown",
   "metadata": {},
   "source": [
    "### Set up figure & grid\n",
    "fig: The entire figure (canvas) where the grid and visual elements will be plotted; ax: The specific axis (plot area) for drawing the grid."
   ]
  },
  {
   "cell_type": "code",
   "execution_count": 20,
   "metadata": {},
   "outputs": [],
   "source": [
    "# fig, ax = plt.subplots(figsize=(10, 6))"
   ]
  },
  {
   "cell_type": "markdown",
   "metadata": {},
   "source": [
    "Next step is to create the visual grid. \\\n",
    "np.meshgrid defines/creates it. \\\n",
    "The other functions are purely visuals. \\\n",
    "FIGURE OUT WHY WE HAVE TO REDEFINE IT LATER"
   ]
  },
  {
   "cell_type": "code",
   "execution_count": 21,
   "metadata": {},
   "outputs": [],
   "source": [
    "# fig, ax = plt.subplots(figsize=(8, 6))  # Properly sized figure\n",
    "\n",
    "# # Create grid\n",
    "# X, Y = np.meshgrid(np.arange(grid_dims[1] + 1), np.arange(grid_dims[0] + 1))  # 5x7 grid\n",
    "# h = ax.pcolormesh(X, Y, np.zeros(grid_dims), edgecolors='k', linewidth=3, cmap='coolwarm')  # Base grid\n",
    "\n",
    "# # Add goal (green square)\n",
    "# ax.add_patch(\n",
    "#     plt.Rectangle((4, 6), width=1, height=1, color='green')  # Adjusted coordinates for grid alignment\n",
    "# )\n",
    "\n",
    "# # Add red obstacles\n",
    "# red_obstacles = [(2, 1), (1, 6), (2, 3), (4, 4)]  # List of (x, y) coordinates for red obstacles\n",
    "# for red in red_obstacles:\n",
    "#     ax.add_patch(\n",
    "#         plt.Rectangle((red[0], red[1]), width=1, height=1, color='red')\n",
    "#     )\n",
    "\n",
    "# # Add entry point (white square)\n",
    "# ax.add_patch(\n",
    "#     plt.Rectangle((0, 0), width=1, height=1, color='white')\n",
    "# )\n",
    "\n",
    "# # Add agent (black circle)\n",
    "# ax.add_patch(\n",
    "#     plt.Circle((agent_pos[0] + 0.5, agent_pos[1] + 0.5), radius=0.25, color='black')\n",
    "# )\n",
    "\n",
    "# # Set grid limits and labels\n",
    "# ax.set_xlim(0, grid_dims[1])\n",
    "# ax.set_ylim(0, grid_dims[0])\n",
    "# ax.set_aspect('equal')\n",
    "# ax.set_xticks(np.arange(grid_dims[1]) + 0.5)\n",
    "# ax.set_yticks(np.arange(grid_dims[0]) + 0.5)\n",
    "# ax.set_xticklabels(np.arange(grid_dims[1]))\n",
    "# ax.set_yticklabels(np.arange(grid_dims[0]))\n",
    "# plt.gca().invert_yaxis()  # Invert y-axis to match typical grid orientation\n",
    "\n",
    "# # Show plot\n",
    "# plt.show()\n",
    "\n"
   ]
  },
  {
   "cell_type": "code",
   "execution_count": 22,
   "metadata": {},
   "outputs": [],
   "source": [
    "# fig, ax = plt.subplots(figsize=(10, 6)) # idk why we need to redefine this. FIGURE IT OUT LATER\n",
    "\n",
    "# # create grid\n",
    "# X, Y = np.meshgrid(np.arange(grid_dims[1]+1), np.arange(grid_dims[0]+1))\n",
    "# print(X, Y)\n",
    "# # grid visuals\n",
    "# h = ax.pcolormesh(X, Y, np.ones([5, 7]), edgecolors='k', vmin = 0, vmax = 30, linewidth=3, cmap = 'coolwarm')\n",
    "\n",
    "# # goal\n",
    "# desired_location = ax.add_patch(\n",
    "#     plt.Rectangle((4, 6), width=1, height=1, color='green')\n",
    "# )\n",
    "\n",
    "# # red spots\n",
    "# red1 = ax.add_patch(\n",
    "#     plt.Rectangle((1, 2), width=1, height=1, color='red')\n",
    "# )\n",
    "# red2 = ax.add_patch(\n",
    "#     plt.Rectangle((6, 1), width=1, height=1, color='red')\n",
    "# )\n",
    "# red3 = ax.add_patch(\n",
    "#     plt.Rectangle((3, 2), width=1, height=1, color='red')\n",
    "# )\n",
    "# red4 = ax.add_patch(\n",
    "#     plt.Rectangle((4, 4), width=1, height=1, color='red')\n",
    "# )\n",
    "\n",
    "# # entry spot\n",
    "# entry = ax.add_patch(\n",
    "#     plt.Rectangle((0, 0), width=1, height=1, color='white')\n",
    "# )\n",
    "# agent_icon = ax.add_patch(\n",
    "#     plt.Circle((agent_pos[0] + 0.5, agent_pos[1] + 0.5), radius=0.25, color='black')\n",
    "# )\n",
    "\n",
    "\n",
    "# desired_location = ax.add_patch(\n",
    "#     plt.Rectangle((6, 4), width=1, height=1, color='green')\n",
    "# )\n",
    "\n",
    "# # ax.set_xlim(0, grid_dims[1])\n",
    "# # ax.set_ylim(0, grid_dims[0])\n",
    "# # ax.set_aspect('equal')\n",
    "# # ax.set_xticks(np.arange(grid_dims[1]) + 0.5)\n",
    "# # ax.set_yticks(np.arange(grid_dims[0]) + 0.5)\n",
    "# # ax.set_xticklabels(np.arange(grid_dims[1]))\n",
    "# # ax.set_yticklabels(np.arange(grid_dims[0]))\n",
    "\n",
    "# plt.show()"
   ]
  },
  {
   "cell_type": "markdown",
   "metadata": {},
   "source": [
    "## Generative Model"
   ]
  },
  {
   "cell_type": "code",
   "execution_count": 23,
   "metadata": {},
   "outputs": [],
   "source": [
    "# # reward\n",
    "# reward_conditions_positive = ['END GOAL']\n",
    "# reward_locations_positive = [(6,4)]\n",
    "# reward_conditions_negative = ['RED1', 'RED2', 'RED3', 'RED4']\n",
    "# reward_locations_negative = [(1, 2), (6, 1), (3, 2), (4, 4)]"
   ]
  },
  {
   "cell_type": "code",
   "execution_count": 24,
   "metadata": {},
   "outputs": [],
   "source": [
    "# context_names = ['SAFE', 'RED']\n",
    "# choice_names = ['UP', 'DOWN', 'LEFT', 'RIGHT']\n",
    "\n",
    "# num_states = [len(context_names), len(choice_names)]\n",
    "# num_factors = len(num_states)\n",
    "\n",
    "# context_action_names = ['Do-nothing']\n",
    "# choice_action_names = ['Move-up', 'Move-down', 'Move-left', 'Move-right']\n",
    "\n",
    "# num_controls = [len(context_action_names), len(choice_action_names)]\n",
    "\n",
    "# loc_obs_attributes = ['SAFE', 'DANGER', 'GOAL']\n",
    "# # agent's belief about map hidden state\n",
    "# map_obs = {\n",
    "#     (0,0) : False,\n",
    "#     (0, 1) : False,\n",
    "#     (1, 0) : False,\n",
    "#     (1, 1) : False,\n",
    "# }\n",
    "\n",
    "# num_obs = [len(loc_obs_attribute), len(loc_obs_map)]\n",
    "# num_modalities = len(num_obs)"
   ]
  },
  {
   "cell_type": "markdown",
   "metadata": {},
   "source": [
    "The hidden states s have these hidden state factors:\n",
    "1. Location (as many levels as there are grid locations)\n",
    "\n",
    "The observations!!:\n",
    "1. Positions\n",
    "2. Safety (2 hidden state levels - safe or dangerous/red)"
   ]
  },
  {
   "cell_type": "code",
   "execution_count": 25,
   "metadata": {},
   "outputs": [],
   "source": [
    "safety_level_state = ['SAFE', 'DANGER', 'REWARDING']\n",
    "# grid_location hidden states\n",
    "num_states = [len(grid_locations), len(safety_level_state)] # location\n",
    "\n",
    "# observation modalities\n",
    "color = ['WHITE', 'RED', 'GREEN']\n",
    "# grid_locations\n",
    "num_obs = [len(grid_locations), len(color)]\n"
   ]
  },
  {
   "cell_type": "code",
   "execution_count": 26,
   "metadata": {},
   "outputs": [
    {
     "data": {
      "text/plain": [
       "[(0, 0),\n",
       " (0, 1),\n",
       " (0, 2),\n",
       " (0, 3),\n",
       " (0, 4),\n",
       " (1, 0),\n",
       " (1, 1),\n",
       " (1, 2),\n",
       " (1, 3),\n",
       " (1, 4),\n",
       " (2, 0),\n",
       " (2, 1),\n",
       " (2, 2),\n",
       " (2, 3),\n",
       " (2, 4),\n",
       " (3, 0),\n",
       " (3, 1),\n",
       " (3, 2),\n",
       " (3, 3),\n",
       " (3, 4),\n",
       " (4, 0),\n",
       " (4, 1),\n",
       " (4, 2),\n",
       " (4, 3),\n",
       " (4, 4),\n",
       " (5, 0),\n",
       " (5, 1),\n",
       " (5, 2),\n",
       " (5, 3),\n",
       " (5, 4),\n",
       " (6, 0),\n",
       " (6, 1),\n",
       " (6, 2),\n",
       " (6, 3),\n",
       " (6, 4)]"
      ]
     },
     "execution_count": 26,
     "metadata": {},
     "output_type": "execute_result"
    }
   ],
   "source": [
    "grid_locations"
   ]
  },
  {
   "cell_type": "markdown",
   "metadata": {},
   "source": [
    "### Add Noise Function"
   ]
  },
  {
   "cell_type": "code",
   "execution_count": 27,
   "metadata": {},
   "outputs": [],
   "source": [
    "def add_noise(A, noise_level=0.1):\n",
    "    \"\"\"\n",
    "    Add noise to transition matrix while preserving normalization\n",
    "    \n",
    "    Args:\n",
    "        A: Original transition matrix\n",
    "        noise_level: Amount of noise to add (0-1)\n",
    "    \"\"\"\n",
    "    # Generate random noise\n",
    "    noise = np.random.uniform(-noise_level, noise_level, size=A.shape)\n",
    "\n",
    "    print(noise) \n",
    "    \n",
    "    # Add noise to matrix\n",
    "    noisy_A = A + noise\n",
    "    \n",
    "    # Ensure non-negative\n",
    "    noisy_A = np.maximum(noisy_A, 0.0)\n",
    "    \n",
    "    # Normalize columns to sum to 1\n",
    "    noisy_A = noisy_A / noisy_A.sum(axis=0, keepdims=True)\n",
    "    \n",
    "    return noisy_A\n",
    "\n",
    "# Usage:\n",
    "# A = add_noise_to_transition(A, noise_level=0.1)"
   ]
  },
  {
   "cell_type": "markdown",
   "metadata": {},
   "source": [
    "### A Array"
   ]
  },
  {
   "cell_type": "code",
   "execution_count": 28,
   "metadata": {},
   "outputs": [
    {
     "name": "stdout",
     "output_type": "stream",
     "text": [
      "[[35, 35], [3, 35, 3]]\n"
     ]
    }
   ],
   "source": [
    "A_m_shapes = [\n",
    "    [num_obs[0], num_states[0]],       # Location observations depend only on location state\n",
    "    [num_obs[1], num_states[0], num_states[1]]  # Color observations depend on location and safety state\n",
    "]\n",
    "\n",
    "# Initialize A array\n",
    "A = utils.obj_array_zeros(A_m_shapes)\n",
    "\n",
    "# Output shapes\n",
    "print(A_m_shapes)  # [[35, 35], [3, 35, 3]]"
   ]
  },
  {
   "cell_type": "code",
   "execution_count": 29,
   "metadata": {},
   "outputs": [
    {
     "data": {
      "text/plain": [
       "(35, 35)"
      ]
     },
     "execution_count": 29,
     "metadata": {},
     "output_type": "execute_result"
    }
   ],
   "source": [
    "A[0].shape"
   ]
  },
  {
   "cell_type": "markdown",
   "metadata": {},
   "source": [
    "Location observation modality: A[0]"
   ]
  },
  {
   "cell_type": "code",
   "execution_count": 30,
   "metadata": {},
   "outputs": [
    {
     "name": "stdout",
     "output_type": "stream",
     "text": [
      "[[-0.18963867  0.04397068 -0.12553264 ... -0.00284671  0.07326344\n",
      "  -0.09801661]\n",
      " [ 0.011279    0.0652143   0.03788212 ... -0.07759679 -0.14304319\n",
      "   0.1308739 ]\n",
      " [-0.1350668  -0.18063871  0.00823114 ...  0.13440061  0.0142972\n",
      "  -0.04445479]\n",
      " ...\n",
      " [-0.01545706  0.11683173 -0.1285865  ... -0.0489745  -0.10998321\n",
      "  -0.01788157]\n",
      " [-0.0298821   0.05095189  0.15618993 ...  0.14658313 -0.18747828\n",
      "   0.02469613]\n",
      " [-0.01704704 -0.05585969 -0.11653347 ... -0.06629424 -0.11807483\n",
      "   0.19244368]]\n",
      "[[[-1.36621069e-01  8.21960663e-02 -1.20683583e-01]\n",
      "  [-8.09477440e-03 -3.48783721e-02  1.08894804e-01]\n",
      "  [-1.72090052e-01  4.85129697e-02  9.41243821e-02]\n",
      "  [ 1.85236042e-01  1.12941755e-01  1.30078567e-02]\n",
      "  [-1.77781317e-02 -2.46065656e-03 -8.01803152e-02]\n",
      "  [-1.71120822e-01 -1.19331500e-02  9.03158421e-02]\n",
      "  [ 6.68890150e-02  2.54017903e-02 -4.90855838e-02]\n",
      "  [-8.26740685e-02 -6.60769587e-02  8.49411974e-02]\n",
      "  [-3.32307324e-02  2.42169365e-03 -8.02016987e-02]\n",
      "  [-9.09289924e-02 -1.24660111e-01 -6.15414083e-02]\n",
      "  [-1.29863343e-01  1.67497506e-01  4.83034158e-02]\n",
      "  [ 1.48264440e-01  1.54639851e-01 -1.98899530e-01]\n",
      "  [-1.76832247e-01  1.57386660e-01  9.29801827e-02]\n",
      "  [ 1.99885901e-01 -1.68881242e-01  1.33077673e-01]\n",
      "  [-5.06139940e-02 -1.25861909e-01 -1.53735341e-01]\n",
      "  [-8.57917815e-02 -3.72171325e-02 -4.25805350e-02]\n",
      "  [-1.98101211e-01  1.72344007e-01 -1.77716978e-01]\n",
      "  [-1.37956924e-02  7.22678818e-02  6.00807112e-02]\n",
      "  [-6.21574633e-02 -8.00774173e-02 -1.17278486e-01]\n",
      "  [-1.47109650e-01 -5.33375776e-02  2.87866332e-02]\n",
      "  [-2.79179833e-02 -5.56819193e-02 -3.66444422e-02]\n",
      "  [-5.87138810e-02 -1.08840323e-01  1.18711266e-03]\n",
      "  [-1.53207009e-01  1.26832402e-01 -4.50413483e-02]\n",
      "  [ 1.36011382e-01 -1.28392039e-01 -2.58442809e-02]\n",
      "  [-7.97816529e-02 -1.97819784e-01 -1.31403705e-01]\n",
      "  [ 4.89069577e-02 -1.80779227e-01  3.73678731e-02]\n",
      "  [ 8.92228414e-02  2.61470294e-02  1.88999542e-01]\n",
      "  [ 1.90709156e-01 -1.92508308e-01  9.79301098e-03]\n",
      "  [-4.26067284e-02  1.56560441e-01  6.29567143e-02]\n",
      "  [-4.23319349e-02  1.79450297e-01  1.31665844e-04]\n",
      "  [-8.97697825e-02  4.56661565e-02 -1.16499647e-01]\n",
      "  [ 1.25516790e-01  2.56849225e-02  1.29346674e-01]\n",
      "  [-9.05367856e-03  1.03936557e-02  8.30561455e-02]\n",
      "  [ 1.87733558e-01 -7.05667819e-02 -1.46299232e-01]\n",
      "  [-5.40676004e-02 -1.94516940e-01 -8.82920842e-02]]\n",
      "\n",
      " [[-7.60774924e-03  1.81628006e-01  7.42287522e-02]\n",
      "  [-7.70691148e-02 -1.94456908e-01 -1.61572098e-01]\n",
      "  [-1.93909992e-01 -9.68804355e-02  1.07346921e-01]\n",
      "  [ 1.30150760e-02  1.48787147e-01 -1.09149199e-01]\n",
      "  [-9.59007839e-02 -3.32005432e-02  1.17586814e-01]\n",
      "  [ 1.45958412e-01 -8.57828772e-02  1.11839843e-01]\n",
      "  [-9.40928815e-02 -1.60067871e-01 -1.61740202e-01]\n",
      "  [-9.35872681e-02  7.83989189e-03  8.44104198e-03]\n",
      "  [-1.56139642e-02 -3.59192755e-02 -1.38111211e-01]\n",
      "  [-2.13960263e-02 -1.34035845e-01 -2.29408005e-02]\n",
      "  [-4.07403797e-02 -6.86427484e-02 -1.58977438e-02]\n",
      "  [ 1.86333362e-01 -1.64501240e-01 -9.23834980e-02]\n",
      "  [ 1.70213798e-01 -1.19234399e-01  5.04386881e-02]\n",
      "  [ 2.15092473e-02 -1.99271971e-01 -1.76082040e-01]\n",
      "  [ 4.53642525e-02  1.65001404e-01 -6.61833762e-02]\n",
      "  [ 3.04549217e-02 -1.08857794e-01 -1.56919660e-01]\n",
      "  [-1.80224343e-02  1.39942972e-01 -5.61831299e-03]\n",
      "  [ 5.28349571e-02 -8.02594836e-02  1.68734255e-01]\n",
      "  [ 8.38952659e-02 -9.89819195e-02  5.03561441e-02]\n",
      "  [-1.23406156e-01 -1.81534374e-01 -2.79339424e-02]\n",
      "  [ 7.84526444e-03 -1.32831011e-01  1.32227105e-01]\n",
      "  [ 2.31310505e-02 -1.56008774e-01 -1.11869417e-01]\n",
      "  [-1.83671927e-01 -6.85444916e-02 -8.13951342e-02]\n",
      "  [ 1.54407125e-01 -2.42571464e-02  9.86049801e-03]\n",
      "  [-3.32423429e-02  2.25059963e-02 -8.61459804e-02]\n",
      "  [ 9.35982429e-02  1.20420431e-02 -1.22101764e-01]\n",
      "  [ 1.98637920e-01  1.66026642e-01  6.40297810e-02]\n",
      "  [-8.68881297e-02  2.57409480e-02 -5.45654580e-03]\n",
      "  [ 7.13878641e-02  6.78940567e-02  1.65853486e-01]\n",
      "  [-1.87106929e-01  9.13696585e-02  1.28248853e-01]\n",
      "  [ 3.71200314e-02 -7.95698611e-02 -1.89275658e-01]\n",
      "  [-1.28336508e-01 -6.20520581e-02  8.89366786e-02]\n",
      "  [ 7.24250507e-02 -1.73546976e-01 -6.25168104e-03]\n",
      "  [ 1.65112402e-02  6.43286111e-02  3.61025345e-02]\n",
      "  [ 6.93578632e-02  7.02196603e-02 -9.70818169e-02]]\n",
      "\n",
      " [[-8.56350425e-02  2.56397714e-02  8.26904973e-02]\n",
      "  [ 1.22918226e-01 -2.57512529e-03 -9.79271099e-02]\n",
      "  [-1.96468632e-01  1.11407136e-01  1.50986120e-01]\n",
      "  [-1.32200417e-01 -1.85347592e-01 -1.91720142e-01]\n",
      "  [ 1.57351558e-01 -7.95588583e-02 -1.57970456e-01]\n",
      "  [-1.29745289e-01 -7.98046425e-02 -1.33770930e-01]\n",
      "  [ 1.96576355e-01 -3.16829970e-02  1.37832511e-01]\n",
      "  [-1.38457311e-01 -1.28175822e-01  1.51368953e-01]\n",
      "  [-1.15525299e-01 -2.00082237e-02  2.89509350e-02]\n",
      "  [-7.32833241e-02 -4.48832146e-02 -5.59806705e-02]\n",
      "  [ 4.40749404e-02 -3.34766864e-02  2.65281399e-02]\n",
      "  [-1.12519712e-01  7.36307566e-02  7.15762993e-02]\n",
      "  [-4.00021637e-02 -7.17631330e-02 -1.05134133e-01]\n",
      "  [ 1.13840562e-01  1.37515702e-01  1.04789258e-01]\n",
      "  [-1.36894361e-01 -5.48402438e-02 -9.31544130e-02]\n",
      "  [ 5.24402680e-02 -1.47332930e-01 -1.45583629e-01]\n",
      "  [ 1.58968926e-01 -1.90129046e-01  1.91885546e-01]\n",
      "  [-7.42221054e-02 -1.35080515e-01  2.70358637e-03]\n",
      "  [ 1.57099301e-02  1.10024601e-01 -5.62065636e-02]\n",
      "  [ 1.55239147e-01  1.41885483e-01 -4.33970899e-02]\n",
      "  [ 1.14819180e-01  1.58586026e-01 -4.81352321e-03]\n",
      "  [ 1.37153023e-01 -8.36145267e-02  7.21420533e-02]\n",
      "  [-1.34223940e-01  1.87941589e-01 -1.54716375e-01]\n",
      "  [-1.79970075e-02 -1.16576941e-01 -5.07845149e-02]\n",
      "  [ 1.36840155e-01  9.24414990e-02 -1.18545436e-01]\n",
      "  [-1.33256584e-01 -1.43800312e-02  5.71679402e-02]\n",
      "  [ 1.67284326e-02  4.86602054e-02  1.30855549e-01]\n",
      "  [ 1.84844288e-01 -1.28740505e-01 -5.07719623e-02]\n",
      "  [-1.75398411e-01 -3.85793524e-02 -1.11844646e-01]\n",
      "  [-5.87664974e-03  6.76944593e-03 -5.05808335e-02]\n",
      "  [-1.39219810e-01 -1.08431866e-01  1.54848647e-01]\n",
      "  [-1.91744133e-01 -1.80354090e-01  1.54193029e-01]\n",
      "  [-1.76956426e-01 -1.19757765e-01 -1.35519202e-01]\n",
      "  [-5.00156349e-02 -9.14554263e-02 -8.87341891e-02]\n",
      "  [-1.89562829e-02 -8.97319238e-02  2.81675914e-02]]]\n",
      "Modality 0 column sums before check: [1. 1. 1. 1. 1. 1. 1. 1. 1. 1. 1. 1. 1. 1. 1. 1. 1. 1. 1. 1. 1. 1. 1. 1.\n",
      " 1. 1. 1. 1. 1. 1. 1. 1. 1. 1. 1.]\n",
      "Modality 1 column sums before check: [[1. 1. 1.]\n",
      " [1. 1. 1.]\n",
      " [1. 1. 1.]\n",
      " [1. 1. 1.]\n",
      " [1. 1. 1.]\n",
      " [1. 1. 1.]\n",
      " [1. 1. 1.]\n",
      " [1. 1. 1.]\n",
      " [1. 1. 1.]\n",
      " [1. 1. 1.]\n",
      " [1. 1. 1.]\n",
      " [1. 1. 1.]\n",
      " [1. 1. 1.]\n",
      " [1. 1. 1.]\n",
      " [1. 1. 1.]\n",
      " [1. 1. 1.]\n",
      " [1. 1. 1.]\n",
      " [1. 1. 1.]\n",
      " [1. 1. 1.]\n",
      " [1. 1. 1.]\n",
      " [1. 1. 1.]\n",
      " [1. 1. 1.]\n",
      " [1. 1. 1.]\n",
      " [1. 1. 1.]\n",
      " [1. 1. 1.]\n",
      " [1. 1. 1.]\n",
      " [1. 1. 1.]\n",
      " [1. 1. 1.]\n",
      " [1. 1. 1.]\n",
      " [1. 1. 1.]\n",
      " [1. 1. 1.]\n",
      " [1. 1. 1.]\n",
      " [1. 1. 1.]\n",
      " [1. 1. 1.]\n",
      " [1. 1. 1.]]\n",
      "A Matrix successfully populated and normalized!\n"
     ]
    }
   ],
   "source": [
    "# Define A Matrix\n",
    "A = utils.obj_array_zeros(A_m_shapes)\n",
    "\n",
    "# Location observation modality\n",
    "A[0] = np.eye(len(grid_locations))  # Location observations (one-hot encoded)\n",
    "\n",
    "# Probabilities for each color given the safety level (in correct heatmap order: RED, GREEN, WHITE)\n",
    "probabilities = {\n",
    "    \"SAFE\": [0.7, 0.1, 0.2],        # ['WHITE', 'RED', 'GREEN']\n",
    "    \"DANGER\": [0.1, 0.85, 0.05],      # ['WHITE', 'RED', 'GREEN']\n",
    "    \"REWARDING\": [0.15, 0.05, 0.8]    # ['WHITE', 'RED', 'GREEN']\n",
    "}\n",
    "\n",
    "# Map safety levels to indices\n",
    "safety_level_to_index = {state: i for i, state in enumerate(safety_level_state)}  # {'SAFE': 0, 'DANGER': 1, 'REWARDING': 2}\n",
    "\n",
    "# Populate A[1]\n",
    "for safety_level, probs in probabilities.items():\n",
    "    safety_idx = safety_level_to_index[safety_level]\n",
    "    for loc in range(len(grid_locations)):  # Iterate over grid locations\n",
    "        for color_idx, prob in enumerate(probs):  # Iterate over colors (RED, GREEN, WHITE)\n",
    "            A[1][color_idx, loc, safety_idx] = prob  # Assign probabilities\n",
    "\n",
    "# Add noise to each modality separately\n",
    "for modality in range(len(A)):\n",
    "    A[modality] = add_noise(A[modality], noise_level=0.2)\n",
    "\n",
    "# Verify normalization\n",
    "for modality in range(len(A)):\n",
    "    column_sums = np.sum(A[modality], axis=0)\n",
    "    print(f\"Modality {modality} column sums before check:\", column_sums)\n",
    "    \n",
    "    # Each column should sum to 1\n",
    "    assert np.allclose(column_sums, 1.0), f\"Modality {modality} is not normalized\"\n",
    "\n",
    "print(\"A Matrix successfully populated and normalized!\")\n"
   ]
  },
  {
   "cell_type": "code",
   "execution_count": 31,
   "metadata": {},
   "outputs": [
    {
     "data": {
      "image/png": "[encoded data removed]",
      "text/plain": [
       "<Figure size 600x600 with 1 Axes>"
      ]
     },
     "metadata": {},
     "output_type": "display_data"
    }
   ],
   "source": [
    "plot_likelihood((A[0]))"
   ]
  },
  {
   "cell_type": "code",
   "execution_count": 32,
   "metadata": {},
   "outputs": [
    {
     "data": {
      "image/png": "[encoded data removed]",
      "text/plain": [
       "<Figure size 1500x500 with 6 Axes>"
      ]
     },
     "metadata": {},
     "output_type": "display_data"
    }
   ],
   "source": [
    "fig, axes = plt.subplots(1, 3, figsize=(15, 5))\n",
    "safety_labels = ['SAFE', 'DANGER', 'REWARDING']\n",
    "\n",
    "# Plot each safety level separately\n",
    "for i in range(3):  # 3 safety levels\n",
    "    # Extract the matrix for this safety level\n",
    "    safety_matrix = A[1][:, :, i]  # shape: (3 colors, 35 locations)\n",
    "    \n",
    "    # Create heatmap\n",
    "    sns.heatmap(safety_matrix, \n",
    "                ax=axes[i],\n",
    "                cmap='YlOrRd',\n",
    "                vmin=0,\n",
    "                vmax=1,\n",
    "                cbar_kws={'label': 'Probability'})\n",
    "    \n",
    "    # Customize the plot\n",
    "    axes[i].set_title(f'Safety Level: {safety_labels[i]}')\n",
    "    axes[i].set_xlabel('Location')\n",
    "    axes[i].set_ylabel('Color (White/Red/Green)')\n",
    "    axes[i].set_yticks([0.5, 1.5, 2.5])\n",
    "    axes[i].set_yticklabels(['WHITE', 'RED', 'GREEN'])\n",
    "\n",
    "plt.tight_layout()\n",
    "plt.show()"
   ]
  },
  {
   "cell_type": "markdown",
   "metadata": {},
   "source": [
    "### B Array"
   ]
  },
  {
   "cell_type": "code",
   "execution_count": 33,
   "metadata": {},
   "outputs": [
    {
     "data": {
      "text/plain": [
       "[[35, 35, 5], [3, 3, 1]]"
      ]
     },
     "execution_count": 33,
     "metadata": {},
     "output_type": "execute_result"
    }
   ],
   "source": [
    "num_controls = [5, 1]\n",
    "B_f_shapes = [ [ns, ns, num_controls[f]] for f, ns in enumerate(num_states)]\n",
    "B = utils.obj_array_zeros(B_f_shapes)\n",
    "B_f_shapes\n"
   ]
  },
  {
   "cell_type": "code",
   "execution_count": 34,
   "metadata": {},
   "outputs": [],
   "source": [
    "actions = [\"UP\", \"DOWN\", \"LEFT\", \"RIGHT\", \"STAY\"]\n",
    "\n",
    "for action_id, action_label in enumerate(actions):\n",
    "\n",
    "  for curr_state, grid_location in enumerate(grid_locations):\n",
    "\n",
    "    y, x = grid_location\n",
    "\n",
    "    if action_label == \"UP\":\n",
    "      next_y = y - 1 if y > 0 else y \n",
    "      next_x = x\n",
    "\n",
    "    elif action_label == \"DOWN\":\n",
    "      next_y = y + 1 if y < (grid_dims[0]-1) else y \n",
    "      next_x = x\n",
    "      \n",
    "    elif action_label == \"LEFT\":\n",
    "      next_x = x - 1 if x > 0 else x \n",
    "      next_y = y\n",
    "    elif action_label == \"RIGHT\":\n",
    "      next_x = x + 1 if x < (grid_dims[1]-1) else x \n",
    "      next_y = y\n",
    "    elif action_label == \"STAY\":\n",
    "      next_x = x\n",
    "      next_y = y\n",
    "\n",
    "    new_location = (next_y, next_x)\n",
    "    next_state = grid_locations.index(new_location)\n",
    "    B[0][next_state, curr_state, action_id] = 1.0"
   ]
  },
  {
   "cell_type": "code",
   "execution_count": 35,
   "metadata": {},
   "outputs": [],
   "source": [
    "# Initialize safety level transition matrix (no changes for safety levels)\n",
    "B[1][:,:,0] = np.eye(3)  # Identity matrix for safety level transitions\n",
    "\n",
    "# Normalize B matrix columns for each action\n",
    "for action_id in range(len(actions)):\n",
    "    # Get slice for current action\n",
    "    B_action = B[0][..., action_id]\n",
    "    \n",
    "    # Replace zero columns with ones in appropriate positions\n",
    "    zero_cols = (B_action.sum(axis=0) == 0)\n",
    "    for col in range(B_action.shape[1]):\n",
    "        if zero_cols[col]:\n",
    "            # Stay in the same state if no transition is defined\n",
    "            B_action[col, col] = 1.0\n",
    "    \n",
    "    # Normalize columns\n",
    "    column_sums = B_action.sum(axis=0)\n",
    "    B[0][..., action_id] = B_action / column_sums[None, :]\n",
    "\n",
    "# Verify normalization\n",
    "for action_id in range(len(actions)):\n",
    "    assert np.allclose(B[0][..., action_id].sum(axis=0), 1.0), f\"Action {actions[action_id]} not normalized\""
   ]
  },
  {
   "cell_type": "markdown",
   "metadata": {},
   "source": [
    "### C Vectors (prior preferences)"
   ]
  },
  {
   "cell_type": "code",
   "execution_count": 36,
   "metadata": {},
   "outputs": [],
   "source": [
    "# white, red, green"
   ]
  },
  {
   "cell_type": "code",
   "execution_count": 37,
   "metadata": {},
   "outputs": [
    {
     "name": "stdout",
     "output_type": "stream",
     "text": [
      "(2,)\n",
      "[0. 0. 0. 0. 0. 0. 0. 0. 0. 0. 0. 0. 0. 0. 0. 0. 0. 0. 0. 0. 0. 0. 0. 0.\n",
      " 0. 0. 0. 0. 0. 0. 0. 0. 0. 0. 0.]\n",
      "[ 0. -1.  1.]\n"
     ]
    }
   ],
   "source": [
    "C = utils.obj_array_zeros(num_obs)  # Initialize C array with shape matching num_obs\n",
    "print(C.shape)\n",
    "\n",
    "# Set preferences for state observations (location)\n",
    "C[0] = np.zeros(len(grid_locations))\n",
    "print(C[0])\n",
    "\n",
    "# Set preferences for color observations\n",
    "C[1] = np.zeros((3,))  # 3 colors: red, green, white\n",
    "C[1][1] = -1.0 \n",
    "C[1][2] = 1.0 \n",
    "\n",
    "print(C[1])\n"
   ]
  },
  {
   "cell_type": "markdown",
   "metadata": {},
   "source": [
    "### D Vectors: Prior over (initial) hidden states"
   ]
  },
  {
   "cell_type": "code",
   "execution_count": 38,
   "metadata": {},
   "outputs": [
    {
     "data": {
      "text/plain": [
       "[35, 3]"
      ]
     },
     "execution_count": 38,
     "metadata": {},
     "output_type": "execute_result"
    }
   ],
   "source": [
    "num_states"
   ]
  },
  {
   "cell_type": "code",
   "execution_count": 39,
   "metadata": {},
   "outputs": [
    {
     "name": "stdout",
     "output_type": "stream",
     "text": [
      "D[0] shape (Location prior): (35,)\n",
      "D[1] shape (Attribute prior for all locations): (35, 3)\n"
     ]
    },
    {
     "data": {
      "text/plain": [
       "((2,), (35,), (35, 3))"
      ]
     },
     "execution_count": 39,
     "metadata": {},
     "output_type": "execute_result"
    }
   ],
   "source": [
    "D = utils.obj_array_uniform(num_states)\n",
    "\n",
    "# Define prior belief about agent's location (same as before)\n",
    "D[0] = np.zeros(num_states[0])  # Shape (35,)\n",
    "agent_initial_state = grid_locations.index(agent_pos)\n",
    "D[0][agent_initial_state] = 1.0  # One-hot encoding for location\n",
    "\n",
    "# Define prior belief about attributes for EACH location\n",
    "D[1] = np.zeros((num_states[0], num_states[1]))  # Shape (35, 3)\n",
    "\n",
    "# Assign probabilities to attributes for each location\n",
    "for loc in range(num_states[0]):\n",
    "    # Example: Assume all locations have [SAFE: 0.7, DANGER: 0.2, REWARDING: 0.1]\n",
    "    D[1][loc] = np.array([0.7, 0.2, 0.1])\n",
    "\n",
    "    # Normalize each location's attribute distribution (ensure sum = 1)\n",
    "    D[1][loc] /= D[1][loc].sum()\n",
    "\n",
    "# Verify D matrix shapes\n",
    "print(\"D[0] shape (Location prior):\", D[0].shape)  # (35,)\n",
    "print(\"D[1] shape (Attribute prior for all locations):\", D[1].shape)  # (35, 3)\n",
    "\n",
    "D.shape, D[0].shape, D[1].shape"
   ]
  },
  {
   "cell_type": "markdown",
   "metadata": {},
   "source": [
    "# Generative Process"
   ]
  },
  {
   "cell_type": "code",
   "execution_count": 40,
   "metadata": {},
   "outputs": [],
   "source": [
    "def update_vision(current_location, grid_dims, distance):\n",
    "    \"\"\"\n",
    "    Update the agent's field of vision based on the current location and distance\n",
    "    Returns a list of all grid positions within the vision range\n",
    "    \n",
    "    Args:\n",
    "        current_location (tuple): Current (y,x) position of the agent\n",
    "        grid_dims (list): Dimensions of the grid [height, width]\n",
    "        distance (int): Vision range/distance\n",
    "        \n",
    "    Returns:\n",
    "        list: List of (y,x) tuples representing visible grid positions\n",
    "    \"\"\"\n",
    "    y, x = current_location\n",
    "    y_min = max(0, y - distance)\n",
    "    y_max = min(grid_dims[0], y + distance + 1)\n",
    "    x_min = max(0, x - distance)\n",
    "    x_max = min(grid_dims[1], x + distance + 1)\n",
    "    \n",
    "    visible_locations = []\n",
    "    for y_pos in range(y_min, y_max):\n",
    "        for x_pos in range(x_min, x_max):\n",
    "            visible_locations.append((y_pos, x_pos))\n",
    "            \n",
    "    return visible_locations"
   ]
  },
  {
   "cell_type": "code",
   "execution_count": 41,
   "metadata": {},
   "outputs": [],
   "source": [
    "X, Y = 0, 0\n",
    "\n",
    "class GridWorldEnv():\n",
    "\n",
    "    def __init__(self, starting_loc = (0, 0), red1_loc = (1, 2), red2_loc = (3,2), red3_loc = (4,4), red4_loc = (6, 1), goal = (6 ,4)):\n",
    "        self.init_loc = starting_loc\n",
    "        self.current_location = self.init_loc\n",
    "        Y, X = self.current_location\n",
    "\n",
    "        self.red1_loc = red1_loc\n",
    "        self.red2_loc = red2_loc\n",
    "        self.red3_loc = red3_loc\n",
    "        self.red4_loc = red4_loc\n",
    "        self.redspots = [self.red1_loc, self.red2_loc, self.red3_loc, self.red4_loc]\n",
    "\n",
    "        self.goal = goal\n",
    "\n",
    "        self.red_obs = ['Null']\n",
    "        self.green_obs = 'Null'\n",
    "        self.white_obs = ['Null']\n",
    "\n",
    "        self.agent_reward = 0 # not observation or state\n",
    "        \n",
    "        print(f\"Starting location is {self.init_loc} | Red spot locations are {self.red1_loc, self.red2_loc, self.red3_loc, self.red4_loc} | Goal is {self.goal}\")\n",
    "    \n",
    "    def step(self, action_label):\n",
    "\n",
    "        Y, X = self.current_location\n",
    "\n",
    "\n",
    "        if action_label == \"UP\": \n",
    "          if Y < grid_dims[0] - 1: Y_new = Y + 1\n",
    "          else: Y_new = Y\n",
    "          X_new = X\n",
    "\n",
    "        elif action_label == \"DOWN\": \n",
    "        \n",
    "          if Y > 0: Y_new = Y - 1\n",
    "          else: Y_new = Y\n",
    "          X_new = X      \n",
    "\n",
    "        elif action_label == \"LEFT\": \n",
    "          \n",
    "          if X > 0: X_new = X - 1\n",
    "          else: X_new = X\n",
    "          Y_new = Y\n",
    "\n",
    "        elif action_label == \"RIGHT\": \n",
    "          \n",
    "          if X < grid_dims[1] - 1: X_new = X + 1\n",
    "          else: X_new = X\n",
    "          Y_new = Y\n",
    "\n",
    "        elif action_label == \"STAY\":\n",
    "          Y_new, X_new = Y, X\n",
    "        \n",
    "        X, Y = X_new, Y_new\n",
    "        self.current_location = (Y_new, X_new) # store the new grid location\n",
    "        print(f\" self.current_location: {self.current_location}\")\n",
    "        self.vision = update_vision(self.current_location, grid_dims, 6)\n",
    "\n",
    "        self.loc_obs = self.current_location # agent directly observes its position in grid\n",
    "\n",
    "        for spot in self.vision:\n",
    "            if spot in self.redspots:\n",
    "                if 'Null' in self.red_obs:\n",
    "                    self.red_obs = [spot]\n",
    "                else:\n",
    "                    self.red_obs.append(spot)\n",
    "            elif spot == self.goal:\n",
    "                self.green_obs = spot\n",
    "            else:\n",
    "                if 'Null' in self.white_obs:\n",
    "                    self.white_obs = [spot]\n",
    "                else:\n",
    "                    self.white_obs.append(spot)\n",
    "\n",
    "\n",
    "        if self.current_location in self.redspots:\n",
    "            self.agent_reward -= 5\n",
    "            if 'Null' in self.red_obs:\n",
    "                self.red_obs = [self.current_location]\n",
    "            else:\n",
    "                self.red_obs.append(self.current_location)\n",
    "        elif self.current_location == self.goal:\n",
    "            self.agent_reward += 20\n",
    "            self.green_obs = self.current_location\n",
    "        else:\n",
    "            if 'Null' in self.white_obs:\n",
    "                self.white_obs = [self.current_location]\n",
    "            else:\n",
    "                self.white_obs.append(self.current_location)\n",
    "        \n",
    "        return self.agent_reward, self.loc_obs, self.green_obs, self.white_obs, self.red_obs\n",
    "    \n",
    "    def reset(self):\n",
    "        self.current_location = self.init_loc\n",
    "        print(f'Re-initialized location to {self.init_loc}')\n",
    "        self.loc_obs = self.current_location\n",
    "        self.green_obs, self.white_obs, self.red_obs, self.agent_reward = 'Null', ['Null'], ['Null'], 0\n",
    "\n",
    "        return self.loc_obs, self.green_obs, self.white_obs, self.red_obs, self.agent_reward"
   ]
  },
  {
   "cell_type": "markdown",
   "metadata": {},
   "source": [
    "# Active Inference"
   ]
  },
  {
   "cell_type": "code",
   "execution_count": 42,
   "metadata": {},
   "outputs": [],
   "source": [
    "from pymdp.agent import Agent"
   ]
  },
  {
   "cell_type": "code",
   "execution_count": 43,
   "metadata": {},
   "outputs": [
    {
     "ename": "AssertionError",
     "evalue": "Check D vector: number of entries of D vector for factor 1 should be equal to 3",
     "output_type": "error",
     "traceback": [
      "\u001b[0;31m---------------------------------------------------------------------------\u001b[0m",
      "\u001b[0;31mAssertionError\u001b[0m                            Traceback (most recent call last)",
      "Cell \u001b[0;32mIn[43], line 1\u001b[0m\n\u001b[0;32m----> 1\u001b[0m my_agent \u001b[38;5;241m=\u001b[39m Agent(A \u001b[38;5;241m=\u001b[39m A, B \u001b[38;5;241m=\u001b[39m B, C \u001b[38;5;241m=\u001b[39m C, D \u001b[38;5;241m=\u001b[39m D, policy_len \u001b[38;5;241m=\u001b[39m \u001b[38;5;241m4\u001b[39m)\n\u001b[1;32m      3\u001b[0m my_env \u001b[38;5;241m=\u001b[39m GridWorldEnv(starting_loc \u001b[38;5;241m=\u001b[39m (\u001b[38;5;241m0\u001b[39m, \u001b[38;5;241m0\u001b[39m), red1_loc \u001b[38;5;241m=\u001b[39m (\u001b[38;5;241m1\u001b[39m, \u001b[38;5;241m2\u001b[39m), red2_loc \u001b[38;5;241m=\u001b[39m (\u001b[38;5;241m3\u001b[39m,\u001b[38;5;241m2\u001b[39m), red3_loc \u001b[38;5;241m=\u001b[39m (\u001b[38;5;241m4\u001b[39m,\u001b[38;5;241m4\u001b[39m), red4_loc \u001b[38;5;241m=\u001b[39m (\u001b[38;5;241m6\u001b[39m, \u001b[38;5;241m1\u001b[39m), goal \u001b[38;5;241m=\u001b[39m (\u001b[38;5;241m6\u001b[39m ,\u001b[38;5;241m4\u001b[39m))\n\u001b[1;32m      5\u001b[0m loc_obs, green_obs, white_obs, red_obs, agent_reward \u001b[38;5;241m=\u001b[39m my_env\u001b[38;5;241m.\u001b[39mreset()\n",
      "File \u001b[0;32m/opt/anaconda3/lib/python3.11/site-packages/pymdp/agent.py:179\u001b[0m, in \u001b[0;36mAgent.__init__\u001b[0;34m(self, A, B, C, D, E, pA, pB, pD, num_controls, policy_len, inference_horizon, control_fac_idx, policies, gamma, alpha, use_utility, use_states_info_gain, use_param_info_gain, action_selection, sampling_mode, inference_algo, inference_params, modalities_to_learn, lr_pA, factors_to_learn, lr_pB, lr_pD, use_BMA, policy_sep_prior, save_belief_hist)\u001b[0m\n\u001b[1;32m    176\u001b[0m     \u001b[38;5;28;01massert\u001b[39;00m \u001b[38;5;28mlen\u001b[39m(\u001b[38;5;28mself\u001b[39m\u001b[38;5;241m.\u001b[39mD) \u001b[38;5;241m==\u001b[39m \u001b[38;5;28mself\u001b[39m\u001b[38;5;241m.\u001b[39mnum_factors, \u001b[38;5;124mf\u001b[39m\u001b[38;5;124m\"\u001b[39m\u001b[38;5;124mCheck D vector: number of sub-arrays must be equal to number of hidden state factors: \u001b[39m\u001b[38;5;132;01m{\u001b[39;00m\u001b[38;5;28mself\u001b[39m\u001b[38;5;241m.\u001b[39mnum_factors\u001b[38;5;132;01m}\u001b[39;00m\u001b[38;5;124m\"\u001b[39m\n\u001b[1;32m    178\u001b[0m     \u001b[38;5;28;01mfor\u001b[39;00m f, d_f \u001b[38;5;129;01min\u001b[39;00m \u001b[38;5;28menumerate\u001b[39m(\u001b[38;5;28mself\u001b[39m\u001b[38;5;241m.\u001b[39mD):\n\u001b[0;32m--> 179\u001b[0m         \u001b[38;5;28;01massert\u001b[39;00m d_f\u001b[38;5;241m.\u001b[39mshape[\u001b[38;5;241m0\u001b[39m] \u001b[38;5;241m==\u001b[39m \u001b[38;5;28mself\u001b[39m\u001b[38;5;241m.\u001b[39mnum_states[f], \u001b[38;5;124mf\u001b[39m\u001b[38;5;124m\"\u001b[39m\u001b[38;5;124mCheck D vector: number of entries of D vector for factor \u001b[39m\u001b[38;5;132;01m{\u001b[39;00mf\u001b[38;5;132;01m}\u001b[39;00m\u001b[38;5;124m should be equal to \u001b[39m\u001b[38;5;132;01m{\u001b[39;00m\u001b[38;5;28mself\u001b[39m\u001b[38;5;241m.\u001b[39mnum_states[f]\u001b[38;5;132;01m}\u001b[39;00m\u001b[38;5;124m\"\u001b[39m\n\u001b[1;32m    180\u001b[0m \u001b[38;5;28;01melse\u001b[39;00m:\n\u001b[1;32m    181\u001b[0m     \u001b[38;5;28;01mif\u001b[39;00m pD \u001b[38;5;129;01mis\u001b[39;00m \u001b[38;5;129;01mnot\u001b[39;00m \u001b[38;5;28;01mNone\u001b[39;00m:\n",
      "\u001b[0;31mAssertionError\u001b[0m: Check D vector: number of entries of D vector for factor 1 should be equal to 3"
     ]
    }
   ],
   "source": [
    "my_agent = Agent(A = A, B = B, C = C, D = D, policy_len = 4)\n",
    "\n",
    "my_env = GridWorldEnv(starting_loc = (0, 0), red1_loc = (1, 2), red2_loc = (3,2), red3_loc = (4,4), red4_loc = (6, 1), goal = (6 ,4))\n",
    "\n",
    "loc_obs, green_obs, white_obs, red_obs, agent_reward = my_env.reset()"
   ]
  },
  {
   "cell_type": "code",
   "execution_count": 367,
   "metadata": {},
   "outputs": [
    {
     "data": {
      "text/plain": [
       "((0, 0), 'Null', ['Null'], ['Null'], 0)"
      ]
     },
     "execution_count": 367,
     "metadata": {},
     "output_type": "execute_result"
    }
   ],
   "source": [
    "loc_obs, green_obs, white_obs, red_obs, agent_reward"
   ]
  },
  {
   "cell_type": "markdown",
   "metadata": {},
   "source": [
    "## Create Observation"
   ]
  },
  {
   "cell_type": "code",
   "execution_count": 378,
   "metadata": {},
   "outputs": [],
   "source": [
    "# def create_current_loc_observation(loc_obs, grid_locations):\n",
    "#     \"\"\"\n",
    "#     Create a single observation vector from the individual components\n",
    "#     Will be added to agent's belief about its current_location\n",
    "#     \"\"\"\n",
    "\n",
    "#     return [grid_locations.index(loc_obs), None]\n",
    "\n",
    "def create_current_loc_observation(loc_obs, grid_locations):\n",
    "    \"\"\"\n",
    "    Create a single observation vector for the current location.\n",
    "    \"\"\"\n",
    "    loc_index = grid_locations.index(loc_obs)\n",
    "    loc_vector = [0] * len(grid_locations)\n",
    "    loc_vector[loc_index] = 1  # Set the current location to 1 (one-hot encoding)\n",
    "    return loc_vector  # Length 35 vector for location modality"
   ]
  },
  {
   "cell_type": "code",
   "execution_count": 379,
   "metadata": {},
   "outputs": [
    {
     "data": {
      "text/plain": [
       "[1,\n",
       " 0,\n",
       " 0,\n",
       " 0,\n",
       " 0,\n",
       " 0,\n",
       " 0,\n",
       " 0,\n",
       " 0,\n",
       " 0,\n",
       " 0,\n",
       " 0,\n",
       " 0,\n",
       " 0,\n",
       " 0,\n",
       " 0,\n",
       " 0,\n",
       " 0,\n",
       " 0,\n",
       " 0,\n",
       " 0,\n",
       " 0,\n",
       " 0,\n",
       " 0,\n",
       " 0,\n",
       " 0,\n",
       " 0,\n",
       " 0,\n",
       " 0,\n",
       " 0,\n",
       " 0,\n",
       " 0,\n",
       " 0,\n",
       " 0,\n",
       " 0]"
      ]
     },
     "execution_count": 379,
     "metadata": {},
     "output_type": "execute_result"
    }
   ],
   "source": [
    "create_current_loc_observation(loc_obs, grid_locations)"
   ]
  },
  {
   "cell_type": "code",
   "execution_count": 380,
   "metadata": {},
   "outputs": [],
   "source": [
    "# def create_color_observation(position, red_obs, green_obs, white_obs):\n",
    "#     \"\"\"\n",
    "#     Create a single observation vector from the individual components\n",
    "#     Will be added to agent's belief about the color of the current_location\n",
    "#     \"\"\"\n",
    "\n",
    "#     if position in red_obs: return [None, color.index('RED')]\n",
    "#     elif position in green_obs: return [None, color.index('GREEN')]\n",
    "#     elif position in white_obs: return [None, color.index('WHITE')]\n",
    "#     return [None, None]\n",
    "\n",
    "def create_color_observation(position, red_obs, green_obs, white_obs):\n",
    "    \"\"\"\n",
    "    Create a single observation vector for the color of the current location.\n",
    "    \"\"\"\n",
    "    color_vector = [0] * 3  # Length 3 vector for color modality (RED, GREEN, WHITE)\n",
    "    if position in red_obs:\n",
    "        color_vector[0] = 1  # RED\n",
    "    elif position in green_obs:\n",
    "        color_vector[1] = 1  # GREEN\n",
    "    elif position in white_obs:\n",
    "        color_vector[2] = 1  # WHITE\n",
    "    return color_vector"
   ]
  },
  {
   "cell_type": "code",
   "execution_count": 381,
   "metadata": {},
   "outputs": [
    {
     "name": "stdout",
     "output_type": "stream",
     "text": [
      "[0, 0, 0]\n",
      "[0, 0, 0]\n",
      "[0, 0, 0]\n",
      "[0, 0, 0]\n",
      "[0, 0, 0]\n",
      "[0, 0, 0]\n",
      "[0, 0, 0]\n",
      "[0, 0, 0]\n",
      "[0, 0, 0]\n",
      "[0, 0, 0]\n",
      "[0, 0, 0]\n",
      "[0, 0, 0]\n",
      "[0, 0, 0]\n",
      "[0, 0, 0]\n",
      "[0, 0, 0]\n",
      "[0, 0, 0]\n",
      "[0, 0, 0]\n",
      "[0, 0, 0]\n",
      "[0, 0, 0]\n",
      "[0, 0, 0]\n",
      "[0, 0, 0]\n",
      "[0, 0, 0]\n",
      "[0, 0, 0]\n",
      "[0, 0, 0]\n",
      "[0, 0, 0]\n",
      "[0, 0, 0]\n",
      "[0, 0, 0]\n",
      "[0, 0, 0]\n",
      "[0, 0, 0]\n",
      "[0, 0, 0]\n",
      "[0, 0, 0]\n",
      "[0, 0, 0]\n",
      "[0, 0, 0]\n",
      "[0, 0, 0]\n",
      "[0, 0, 0]\n"
     ]
    }
   ],
   "source": [
    "for position in grid_locations: #iterate over position in grid\n",
    "    color_observation = create_color_observation(position, red_obs, green_obs, white_obs) #create observation about color (red,green,white)\n",
    "    print(color_observation)"
   ]
  },
  {
   "cell_type": "markdown",
   "metadata": {},
   "source": [
    "## Loop"
   ]
  },
  {
   "cell_type": "code",
   "execution_count": 382,
   "metadata": {},
   "outputs": [
    {
     "ename": "ValueError",
     "evalue": "operands could not be broadcast together with shapes (35,) (35,3) ",
     "output_type": "error",
     "traceback": [
      "\u001b[0;31m---------------------------------------------------------------------------\u001b[0m",
      "\u001b[0;31mValueError\u001b[0m                                Traceback (most recent call last)",
      "Cell \u001b[0;32mIn[382], line 9\u001b[0m\n\u001b[1;32m      5\u001b[0m \u001b[38;5;28;01mfor\u001b[39;00m t \u001b[38;5;129;01min\u001b[39;00m \u001b[38;5;28mrange\u001b[39m(T):\n\u001b[1;32m      6\u001b[0m \n\u001b[1;32m      7\u001b[0m     \u001b[38;5;66;03m# Observation about current_location\u001b[39;00m\n\u001b[1;32m      8\u001b[0m     obs \u001b[38;5;241m=\u001b[39m create_current_loc_observation(loc_obs, grid_locations)\n\u001b[0;32m----> 9\u001b[0m     qs[\u001b[38;5;241m0\u001b[39m] \u001b[38;5;241m=\u001b[39m my_agent\u001b[38;5;241m.\u001b[39minfer_states(obs)\n\u001b[1;32m     10\u001b[0m     plot_beliefs(qs[\u001b[38;5;241m0\u001b[39m]) \u001b[38;5;66;03m# qs[0] = first modality for grid locations\u001b[39;00m\n\u001b[1;32m     12\u001b[0m     \u001b[38;5;66;03m# Color Observations\u001b[39;00m\n",
      "File \u001b[0;32m/opt/anaconda3/lib/python3.11/site-packages/pymdp/agent.py:429\u001b[0m, in \u001b[0;36mAgent.infer_states\u001b[0;34m(self, observation, distr_obs)\u001b[0m\n\u001b[1;32m    427\u001b[0m     \u001b[38;5;28;01melse\u001b[39;00m:\n\u001b[1;32m    428\u001b[0m         empirical_prior \u001b[38;5;241m=\u001b[39m \u001b[38;5;28mself\u001b[39m\u001b[38;5;241m.\u001b[39mD\n\u001b[0;32m--> 429\u001b[0m     qs \u001b[38;5;241m=\u001b[39m inference\u001b[38;5;241m.\u001b[39mupdate_posterior_states(\n\u001b[1;32m    430\u001b[0m     \u001b[38;5;28mself\u001b[39m\u001b[38;5;241m.\u001b[39mA,\n\u001b[1;32m    431\u001b[0m     observation,\n\u001b[1;32m    432\u001b[0m     empirical_prior,\n\u001b[1;32m    433\u001b[0m     \u001b[38;5;241m*\u001b[39m\u001b[38;5;241m*\u001b[39m\u001b[38;5;28mself\u001b[39m\u001b[38;5;241m.\u001b[39minference_params\n\u001b[1;32m    434\u001b[0m     )\n\u001b[1;32m    435\u001b[0m \u001b[38;5;28;01melif\u001b[39;00m \u001b[38;5;28mself\u001b[39m\u001b[38;5;241m.\u001b[39minference_algo \u001b[38;5;241m==\u001b[39m \u001b[38;5;124m\"\u001b[39m\u001b[38;5;124mMMP\u001b[39m\u001b[38;5;124m\"\u001b[39m:\n\u001b[1;32m    437\u001b[0m     \u001b[38;5;28mself\u001b[39m\u001b[38;5;241m.\u001b[39mprev_obs\u001b[38;5;241m.\u001b[39mappend(observation)\n",
      "File \u001b[0;32m/opt/anaconda3/lib/python3.11/site-packages/pymdp/inference.py:242\u001b[0m, in \u001b[0;36mupdate_posterior_states\u001b[0;34m(A, obs, prior, **kwargs)\u001b[0m\n\u001b[1;32m    239\u001b[0m \u001b[38;5;28;01mif\u001b[39;00m prior \u001b[38;5;129;01mis\u001b[39;00m \u001b[38;5;129;01mnot\u001b[39;00m \u001b[38;5;28;01mNone\u001b[39;00m:\n\u001b[1;32m    240\u001b[0m     prior \u001b[38;5;241m=\u001b[39m utils\u001b[38;5;241m.\u001b[39mto_obj_array(prior)\n\u001b[0;32m--> 242\u001b[0m \u001b[38;5;28;01mreturn\u001b[39;00m run_vanilla_fpi(A, obs, num_obs, num_states, prior, \u001b[38;5;241m*\u001b[39m\u001b[38;5;241m*\u001b[39mkwargs)\n",
      "File \u001b[0;32m/opt/anaconda3/lib/python3.11/site-packages/pymdp/algos/fpi.py:57\u001b[0m, in \u001b[0;36mrun_vanilla_fpi\u001b[0;34m(A, obs, num_obs, num_states, prior, num_iter, dF, dF_tol)\u001b[0m\n\u001b[1;32m     48\u001b[0m n_factors \u001b[38;5;241m=\u001b[39m \u001b[38;5;28mlen\u001b[39m(num_states)\n\u001b[1;32m     50\u001b[0m \u001b[38;5;250m\u001b[39m\u001b[38;5;124;03m\"\"\"\u001b[39;00m\n\u001b[1;32m     51\u001b[0m \u001b[38;5;124;03m=========== Step 1 ===========\u001b[39;00m\n\u001b[1;32m     52\u001b[0m \u001b[38;5;124;03m    Loop over the observation modalities and use assumption of independence \u001b[39;00m\n\u001b[1;32m     53\u001b[0m \u001b[38;5;124;03m    among observation modalitiesto multiply each modality-specific likelihood \u001b[39;00m\n\u001b[1;32m     54\u001b[0m \u001b[38;5;124;03m    onto a single joint likelihood over hidden factors [size num_states]\u001b[39;00m\n\u001b[1;32m     55\u001b[0m \u001b[38;5;124;03m\"\"\"\u001b[39;00m\n\u001b[0;32m---> 57\u001b[0m likelihood \u001b[38;5;241m=\u001b[39m get_joint_likelihood(A, obs, num_states)\n\u001b[1;32m     59\u001b[0m likelihood \u001b[38;5;241m=\u001b[39m spm_log_single(likelihood)\n\u001b[1;32m     61\u001b[0m \u001b[38;5;250m\u001b[39m\u001b[38;5;124;03m\"\"\"\u001b[39;00m\n\u001b[1;32m     62\u001b[0m \u001b[38;5;124;03m=========== Step 2 ===========\u001b[39;00m\n\u001b[1;32m     63\u001b[0m \u001b[38;5;124;03m    Create a flat posterior (and prior if necessary)\u001b[39;00m\n\u001b[1;32m     64\u001b[0m \u001b[38;5;124;03m\"\"\"\u001b[39;00m\n",
      "File \u001b[0;32m/opt/anaconda3/lib/python3.11/site-packages/pymdp/maths.py:243\u001b[0m, in \u001b[0;36mget_joint_likelihood\u001b[0;34m(A, obs, num_states)\u001b[0m\n\u001b[1;32m    241\u001b[0m ll \u001b[38;5;241m=\u001b[39m np\u001b[38;5;241m.\u001b[39mones(\u001b[38;5;28mtuple\u001b[39m(num_states))\n\u001b[1;32m    242\u001b[0m \u001b[38;5;28;01mfor\u001b[39;00m modality \u001b[38;5;129;01min\u001b[39;00m \u001b[38;5;28mrange\u001b[39m(\u001b[38;5;28mlen\u001b[39m(A)):\n\u001b[0;32m--> 243\u001b[0m     ll \u001b[38;5;241m=\u001b[39m ll \u001b[38;5;241m*\u001b[39m dot_likelihood(A[modality], obs[modality])\n\u001b[1;32m    244\u001b[0m \u001b[38;5;28;01mreturn\u001b[39;00m ll\n",
      "\u001b[0;31mValueError\u001b[0m: operands could not be broadcast together with shapes (35,) (35,3) "
     ]
    }
   ],
   "source": [
    "history_of_locs = [loc_obs]\n",
    "\n",
    "T = 15\n",
    "\n",
    "for t in range(T):\n",
    "\n",
    "    # Feed Observations ft. infer_states function\n",
    "    for spot in grid_locations:\n",
    "        obs = [grid_locations.index(spot)]\n",
    "\n",
    "        # spot, safety, goal\n",
    "        if spot in red_obs:\n",
    "            obs.append(1)\n",
    "        else:\n",
    "            obs.append(0)\n",
    "        \n",
    "        if spot == green_obs:\n",
    "            obs.append(1)\n",
    "        else:\n",
    "            obs.append(0)\n",
    "\n",
    "        obs = np.array(obs)\n",
    "\n",
    "        noise = np.random.normal(loc=0, scale=0.1, size=obs.shape)\n",
    "        noisy_obs = obs + noise\n",
    "\n",
    "        noisy_obs = np.round(noisy_obs).astype(int)\n",
    "        \n",
    "        print(obs)\n",
    "        print(noisy_obs)\n",
    "        qs = my_agent.infer_states(noisy_obs)\n",
    "\n",
    "        print(qs.shape)\n",
    "        plot_beliefs(qs.all())\n",
    "\n",
    "    \n",
    "    my_agent.infer_policies()\n",
    "    chosen_action_id = my_agent.sample_action()\n",
    "\n",
    "    movement_id = int(chosen_action_id[0])\n",
    "\n",
    "    choice_action = actions[movement_id]\n",
    "\n",
    "    print(f'Action at time {t}: {choice_action}')\n",
    "\n",
    "    \n",
    "    agent_reward, loc_obs, green_obs, white_obs, red_obs = my_env.step(choice_action)\n",
    "    \n",
    "    print(agent_reward, loc_obs, green_obs, white_obs, red_obs)\n",
    "\n",
    "\n",
    "    history_of_locs.append(loc_obs)\n",
    "\n",
    "    print(f'Grid location at time {t}: {loc_obs}')\n",
    "\n",
    "    print(f'Reward at time {t}: {agent_reward}')"
   ]
  }
 ],
 "metadata": {
  "kernelspec": {
   "display_name": "base",
   "language": "python",
   "name": "python3"
  },
  "language_info": {
   "codemirror_mode": {
    "name": "ipython",
    "version": 3
   },
   "file_extension": ".py",
   "mimetype": "text/x-python",
   "name": "python",
   "nbconvert_exporter": "python",
   "pygments_lexer": "ipython3",
   "version": "3.11.7"
  }
 },
 "nbformat": 4,
 "nbformat_minor": 2
}
