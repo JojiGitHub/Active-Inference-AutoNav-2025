{
 "cells": [
  {
   "cell_type": "markdown",
   "metadata": {},
   "source": [
    "Environment: Gridworld\n",
    "\n",
    "Task: Get to some point X (given). Avoid red spots (some points are red and the agent doesn’t wanna go on those).\n",
    "\n",
    "### Info:\n",
    "GRID: 7 by 5 \\\n",
    "Number of red spots: 4 \\\n",
    "Positions of red spots: red1, red2, red3, red4 = (randomly define locations for each one) \\\n",
    "Red_spots = [(1, 2), (6, 1), (3, 2), (4, 4)]\n",
    "\n",
    "### S\n",
    "Location of Agent \\\n",
    "    Agent_pos = (x, y)\n",
    "\n",
    "Locations of Red Spots: \\\n",
    "Agent Map = Belixef of Possible Locations on Grid \\\n",
    "    Possible_locations = dict((1,1) : False) \\\n",
    "        1st component = location \\\n",
    "        2nd component encodes whether it’s a red spot (true) or safe (false)\n",
    "\n",
    "### T\n",
    "Location of Agent \\\n",
    "    Environmental Constraints \\\n",
    "        If agent_pos[0] == 0: P(a = LEFT) = 0  \\\n",
    "        If agent_pos[1] == 0: P(a = DOWN) = 0  \\\n",
    "        If agent_pos[0] ==  6: P(a = RIGHT) = 0  \\\n",
    "        If agent_pos[1] == 4: P(a = UP) = 0 \\\n",
    "If a == RIGHT: agent_pos[0] += 1 \\\n",
    "If a == LEFT: agent_pos[0] -= 1 \\\n",
    "If a == UP: agent_pos[1] += 1 \\\n",
    "If a == DOWN: agent_pos[1] -= 1\n",
    "\n",
    "### R\n",
    "Reward_points = 0 \\\n",
    "Redspot: If agent_pos in redspots: reward_points -= 5 \\\n",
    "Endgoal \\\n",
    "    If agent_pos == (4, 6): reward_points += 20\n",
    "\n",
    "\n",
    "### set of observations (dimensionality of 2)\n",
    "Observation \\\n",
    "    Observed_spot \\\n",
    "        ((x, y), True/False) \\\n",
    "    Possible_locations.append(observed_spot)\n",
    "\n",
    "O is set of conditional observation probabilities (prior preference) \\\n",
    "    C = C matrix \\\n",
    "    C[(4,6)] = 1"
   ]
  },
  {
   "cell_type": "markdown",
   "metadata": {},
   "source": [
    "## Imports"
   ]
  },
  {
   "cell_type": "code",
   "execution_count": null,
   "metadata": {},
   "outputs": [],
   "source": []
  },
  {
   "cell_type": "code",
   "execution_count": null,
   "metadata": {},
   "outputs": [],
   "source": []
  },
  {
   "cell_type": "code",
   "execution_count": null,
   "metadata": {},
   "outputs": [],
   "source": []
  },
  {
   "cell_type": "code",
   "execution_count": 340,
   "metadata": {},
   "outputs": [],
   "source": [
    "import numpy as np\n",
    "\n",
    "import matplotlib.pyplot as plt\n",
    "import matplotlib.patches as patches\n",
    "import matplotlib.cm as cm\n",
    "\n",
    "import seaborn as sns\n",
    "\n",
    "import pymdp\n",
    "from pymdp import utils"
   ]
  },
  {
   "cell_type": "markdown",
   "metadata": {},
   "source": [
    "## Auxilary Functions"
   ]
  },
  {
   "cell_type": "code",
   "execution_count": 341,
   "metadata": {},
   "outputs": [],
   "source": [
    "def plot_grid(grid_locations, num_x = 3, num_y = 3 ):\n",
    "    \"\"\"\n",
    "    Plots the spatial coordinates of GridWorld as a heatmap, with each (X, Y) coordinate \n",
    "    labeled with its linear index (its `state id`)\n",
    "    \"\"\"\n",
    "\n",
    "    grid_heatmap = np.zeros((num_x, num_y))\n",
    "    for linear_idx, location in enumerate(grid_locations):\n",
    "      y, x = location\n",
    "      grid_heatmap[y, x] = linear_idx\n",
    "    sns.set(font_scale=1.5)\n",
    "    sns.heatmap(grid_heatmap, annot=True, cbar = False, fmt='.0f', cmap='crest')\n",
    "\n",
    "def plot_likelihood(matrix, title_str = \"Likelihood distribution (A)\"):\n",
    "    \"\"\"\n",
    "    Plots a 2-D likelihood matrix as a heatmap\n",
    "    \"\"\"\n",
    "\n",
    "    if not np.isclose(matrix.sum(axis=0), 1.0).all():\n",
    "      raise ValueError(\"Distribution not column-normalized! Please normalize (ensure matrix.sum(axis=0) == 1.0 for all columns)\")\n",
    "    \n",
    "    fig = plt.figure(figsize = (6,6))\n",
    "    ax = sns.heatmap(matrix, cmap = 'gray', cbar = False, vmin = 0.0, vmax = 1.0)\n",
    "    plt.title(title_str)\n",
    "    plt.show()\n",
    "\n",
    "\n",
    "def plot_beliefs(belief_dist, title_str=\"\"):\n",
    "    \"\"\"\n",
    "    Plot a categorical distribution or belief distribution, stored in the 1-D numpy vector `belief_dist`\n",
    "    \"\"\"\n",
    "\n",
    "    if not np.isclose(belief_dist.sum(), 1.0):\n",
    "      raise ValueError(\"Distribution not normalized! Please normalize\")\n",
    "\n",
    "    plt.grid(zorder=0)\n",
    "    plt.bar(range(belief_dist.shape[0]), belief_dist, color='r', zorder=3)\n",
    "    plt.xticks(range(belief_dist.shape[0]))\n",
    "    plt.title(title_str)\n",
    "    plt.show()"
   ]
  },
  {
   "cell_type": "markdown",
   "metadata": {},
   "source": [
    "## Parameters"
   ]
  },
  {
   "cell_type": "code",
   "execution_count": 342,
   "metadata": {},
   "outputs": [],
   "source": [
    "# grid_dimensions\n",
    "grid_dims = [7,5]\n",
    "num_grid_points = np.prod(grid_dims) # total number of grid locations (rows X columns)\n",
    "\n",
    "# setup matrix\n",
    "grid = np.arange(num_grid_points).reshape(grid_dims) # arange -> creates list; reshape -> makes it in the shape specified by grid_dims\n",
    "\n",
    "# define red spots\n",
    "grid[(1, 2)] = 1\n",
    "grid[(3, 2)] = 1\n",
    "grid[(4, 4)] = 1\n",
    "grid[(6, 1)] = 1\n",
    "\n",
    "# list of grid positiions\n",
    "grid_locations = []\n",
    "it = np.nditer(grid, flags=[\"multi_index\"]) # set up the iterator to go throgh the matrix\n",
    "while not it.finished:\n",
    "    grid_locations.append(it.multi_index)\n",
    "    it.iternext()\n",
    "\n",
    "grid, grid_locations\n",
    "\n",
    "redspots = [(1,2), (3,2), (4,4), (6,1)]"
   ]
  },
  {
   "cell_type": "code",
   "execution_count": 343,
   "metadata": {},
   "outputs": [],
   "source": [
    "# location of the agent hidden state\n",
    "agent_pos = (0,0)\n",
    "\n",
    "goal_location = (6,4)"
   ]
  },
  {
   "cell_type": "markdown",
   "metadata": {},
   "source": [
    "## Visual gridworld"
   ]
  },
  {
   "cell_type": "markdown",
   "metadata": {},
   "source": [
    "### Set up figure & grid\n",
    "fig: The entire figure (canvas) where the grid and visual elements will be plotted; ax: The specific axis (plot area) for drawing the grid."
   ]
  },
  {
   "cell_type": "code",
   "execution_count": 344,
   "metadata": {},
   "outputs": [],
   "source": [
    "# fig, ax = plt.subplots(figsize=(10, 6))"
   ]
  },
  {
   "cell_type": "markdown",
   "metadata": {},
   "source": [
    "Next step is to create the visual grid. \\\n",
    "np.meshgrid defines/creates it. \\\n",
    "The other functions are purely visuals. \\\n",
    "FIGURE OUT WHY WE HAVE TO REDEFINE IT LATER"
   ]
  },
  {
   "cell_type": "code",
   "execution_count": 345,
   "metadata": {},
   "outputs": [],
   "source": [
    "# fig, ax = plt.subplots(figsize=(8, 6))  # Properly sized figure\n",
    "\n",
    "# # Create grid\n",
    "# X, Y = np.meshgrid(np.arange(grid_dims[1] + 1), np.arange(grid_dims[0] + 1))  # 5x7 grid\n",
    "# h = ax.pcolormesh(X, Y, np.zeros(grid_dims), edgecolors='k', linewidth=3, cmap='coolwarm')  # Base grid\n",
    "\n",
    "# # Add goal (green square)\n",
    "# ax.add_patch(\n",
    "#     plt.Rectangle((4, 6), width=1, height=1, color='green')  # Adjusted coordinates for grid alignment\n",
    "# )\n",
    "\n",
    "# # Add red obstacles\n",
    "# red_obstacles = [(2, 1), (1, 6), (2, 3), (4, 4)]  # List of (x, y) coordinates for red obstacles\n",
    "# for red in red_obstacles:\n",
    "#     ax.add_patch(\n",
    "#         plt.Rectangle((red[0], red[1]), width=1, height=1, color='red')\n",
    "#     )\n",
    "\n",
    "# # Add entry point (white square)\n",
    "# ax.add_patch(\n",
    "#     plt.Rectangle((0, 0), width=1, height=1, color='white')\n",
    "# )\n",
    "\n",
    "# # Add agent (black circle)\n",
    "# ax.add_patch(\n",
    "#     plt.Circle((agent_pos[0] + 0.5, agent_pos[1] + 0.5), radius=0.25, color='black')\n",
    "# )\n",
    "\n",
    "# # Set grid limits and labels\n",
    "# ax.set_xlim(0, grid_dims[1])\n",
    "# ax.set_ylim(0, grid_dims[0])\n",
    "# ax.set_aspect('equal')\n",
    "# ax.set_xticks(np.arange(grid_dims[1]) + 0.5)\n",
    "# ax.set_yticks(np.arange(grid_dims[0]) + 0.5)\n",
    "# ax.set_xticklabels(np.arange(grid_dims[1]))\n",
    "# ax.set_yticklabels(np.arange(grid_dims[0]))\n",
    "# plt.gca().invert_yaxis()  # Invert y-axis to match typical grid orientation\n",
    "\n",
    "# # Show plot\n",
    "# plt.show()\n",
    "\n"
   ]
  },
  {
   "cell_type": "code",
   "execution_count": 346,
   "metadata": {},
   "outputs": [],
   "source": [
    "# fig, ax = plt.subplots(figsize=(10, 6)) # idk why we need to redefine this. FIGURE IT OUT LATER\n",
    "\n",
    "# # create grid\n",
    "# X, Y = np.meshgrid(np.arange(grid_dims[1]+1), np.arange(grid_dims[0]+1))\n",
    "# print(X, Y)\n",
    "# # grid visuals\n",
    "# h = ax.pcolormesh(X, Y, np.ones([5, 7]), edgecolors='k', vmin = 0, vmax = 30, linewidth=3, cmap = 'coolwarm')\n",
    "\n",
    "# # goal\n",
    "# desired_location = ax.add_patch(\n",
    "#     plt.Rectangle((4, 6), width=1, height=1, color='green')\n",
    "# )\n",
    "\n",
    "# # red spots\n",
    "# red1 = ax.add_patch(\n",
    "#     plt.Rectangle((1, 2), width=1, height=1, color='red')\n",
    "# )\n",
    "# red2 = ax.add_patch(\n",
    "#     plt.Rectangle((6, 1), width=1, height=1, color='red')\n",
    "# )\n",
    "# red3 = ax.add_patch(\n",
    "#     plt.Rectangle((3, 2), width=1, height=1, color='red')\n",
    "# )\n",
    "# red4 = ax.add_patch(\n",
    "#     plt.Rectangle((4, 4), width=1, height=1, color='red')\n",
    "# )\n",
    "\n",
    "# # entry spot\n",
    "# entry = ax.add_patch(\n",
    "#     plt.Rectangle((0, 0), width=1, height=1, color='white')\n",
    "# )\n",
    "# agent_icon = ax.add_patch(\n",
    "#     plt.Circle((agent_pos[0] + 0.5, agent_pos[1] + 0.5), radius=0.25, color='black')\n",
    "# )\n",
    "\n",
    "\n",
    "# desired_location = ax.add_patch(\n",
    "#     plt.Rectangle((6, 4), width=1, height=1, color='green')\n",
    "# )\n",
    "\n",
    "# # ax.set_xlim(0, grid_dims[1])\n",
    "# # ax.set_ylim(0, grid_dims[0])\n",
    "# # ax.set_aspect('equal')\n",
    "# # ax.set_xticks(np.arange(grid_dims[1]) + 0.5)\n",
    "# # ax.set_yticks(np.arange(grid_dims[0]) + 0.5)\n",
    "# # ax.set_xticklabels(np.arange(grid_dims[1]))\n",
    "# # ax.set_yticklabels(np.arange(grid_dims[0]))\n",
    "\n",
    "# plt.show()"
   ]
  },
  {
   "cell_type": "markdown",
   "metadata": {},
   "source": [
    "## Generative Model"
   ]
  },
  {
   "cell_type": "code",
   "execution_count": 347,
   "metadata": {},
   "outputs": [],
   "source": [
    "# # reward\n",
    "# reward_conditions_positive = ['END GOAL']\n",
    "# reward_locations_positive = [(6,4)]\n",
    "# reward_conditions_negative = ['RED1', 'RED2', 'RED3', 'RED4']\n",
    "# reward_locations_negative = [(1, 2), (6, 1), (3, 2), (4, 4)]"
   ]
  },
  {
   "cell_type": "code",
   "execution_count": 348,
   "metadata": {},
   "outputs": [],
   "source": [
    "# context_names = ['SAFE', 'RED']\n",
    "# choice_names = ['UP', 'DOWN', 'LEFT', 'RIGHT']\n",
    "\n",
    "# num_states = [len(context_names), len(choice_names)]\n",
    "# num_factors = len(num_states)\n",
    "\n",
    "# context_action_names = ['Do-nothing']\n",
    "# choice_action_names = ['Move-up', 'Move-down', 'Move-left', 'Move-right']\n",
    "\n",
    "# num_controls = [len(context_action_names), len(choice_action_names)]\n",
    "\n",
    "# loc_obs_attributes = ['SAFE', 'DANGER', 'GOAL']\n",
    "# # agent's belief about map hidden state\n",
    "# map_obs = {\n",
    "#     (0,0) : False,\n",
    "#     (0, 1) : False,\n",
    "#     (1, 0) : False,\n",
    "#     (1, 1) : False,\n",
    "# }\n",
    "\n",
    "# num_obs = [len(loc_obs_attribute), len(loc_obs_map)]\n",
    "# num_modalities = len(num_obs)"
   ]
  },
  {
   "cell_type": "markdown",
   "metadata": {},
   "source": [
    "The hidden states s have these hidden state factors:\n",
    "1. Location (as many levels as there are grid locations)\n",
    "\n",
    "The observations!!:\n",
    "1. Positions\n",
    "2. Safety (2 hidden state levels - safe or dangerous/red)"
   ]
  },
  {
   "cell_type": "code",
   "execution_count": 349,
   "metadata": {},
   "outputs": [],
   "source": [
    "safety_level_state = ['SAFE', 'DANGER', 'REWARDING']\n",
    "# grid_location hidden states\n",
    "num_states = [len(grid_locations), len(safety_level_state)] # location\n",
    "\n",
    "# observation modalities\n",
    "color = ['WHITE', 'RED', 'GREEN']\n",
    "# grid_locations\n",
    "num_obs = [len(grid_locations), len(color)]\n"
   ]
  },
  {
   "cell_type": "code",
   "execution_count": 350,
   "metadata": {},
   "outputs": [
    {
     "data": {
      "text/plain": [
       "[(0, 0),\n",
       " (0, 1),\n",
       " (0, 2),\n",
       " (0, 3),\n",
       " (0, 4),\n",
       " (1, 0),\n",
       " (1, 1),\n",
       " (1, 2),\n",
       " (1, 3),\n",
       " (1, 4),\n",
       " (2, 0),\n",
       " (2, 1),\n",
       " (2, 2),\n",
       " (2, 3),\n",
       " (2, 4),\n",
       " (3, 0),\n",
       " (3, 1),\n",
       " (3, 2),\n",
       " (3, 3),\n",
       " (3, 4),\n",
       " (4, 0),\n",
       " (4, 1),\n",
       " (4, 2),\n",
       " (4, 3),\n",
       " (4, 4),\n",
       " (5, 0),\n",
       " (5, 1),\n",
       " (5, 2),\n",
       " (5, 3),\n",
       " (5, 4),\n",
       " (6, 0),\n",
       " (6, 1),\n",
       " (6, 2),\n",
       " (6, 3),\n",
       " (6, 4)]"
      ]
     },
     "execution_count": 350,
     "metadata": {},
     "output_type": "execute_result"
    }
   ],
   "source": [
    "grid_locations"
   ]
  },
  {
   "cell_type": "markdown",
   "metadata": {},
   "source": [
    "### Add Noise Function"
   ]
  },
  {
   "cell_type": "code",
   "execution_count": 351,
   "metadata": {},
   "outputs": [],
   "source": [
    "def add_noise(A, noise_level=0.1):\n",
    "    \"\"\"\n",
    "    Add noise to transition matrix while preserving normalization\n",
    "    \n",
    "    Args:\n",
    "        A: Original transition matrix\n",
    "        noise_level: Amount of noise to add (0-1)\n",
    "    \"\"\"\n",
    "    # Generate random noise\n",
    "    noise = np.random.uniform(-noise_level, noise_level, size=A.shape)\n",
    "\n",
    "    print(noise) \n",
    "    \n",
    "    # Add noise to matrix\n",
    "    noisy_A = A + noise\n",
    "    \n",
    "    # Ensure non-negative\n",
    "    noisy_A = np.maximum(noisy_A, 0.0)\n",
    "    \n",
    "    # Normalize columns to sum to 1\n",
    "    noisy_A = noisy_A / noisy_A.sum(axis=0, keepdims=True)\n",
    "    \n",
    "    return noisy_A\n",
    "\n",
    "# Usage:\n",
    "# A = add_noise_to_transition(A, noise_level=0.1)"
   ]
  },
  {
   "cell_type": "markdown",
   "metadata": {},
   "source": [
    "### A Array"
   ]
  },
  {
   "cell_type": "code",
   "execution_count": 352,
   "metadata": {},
   "outputs": [
    {
     "data": {
      "text/plain": [
       "[[35, 35, 3], [3, 35, 3]]"
      ]
     },
     "execution_count": 352,
     "metadata": {},
     "output_type": "execute_result"
    }
   ],
   "source": [
    "A_m_shapes = [\n",
    "    [num_obs[0], num_states[0]],       # Location observations depend only on location state\n",
    "    [num_obs[1], num_states[0], num_states[1]]  # Color observations depend on location and safety state\n",
    "]\n",
    "\n",
    "# Initialize A array\n",
    "A = utils.obj_array_zeros(A_m_shapes)\n",
    "\n",
    "# Output shapes\n",
    "print(A_m_shapes)  # [[35, 35], [3, 35, 3]]"
   ]
  },
  {
   "cell_type": "code",
   "execution_count": 383,
   "metadata": {},
   "outputs": [
    {
     "data": {
      "text/plain": [
       "(35, 35)"
      ]
     },
     "execution_count": 383,
     "metadata": {},
     "output_type": "execute_result"
    }
   ],
   "source": [
    "A[0].shape"
   ]
  },
  {
   "cell_type": "markdown",
   "metadata": {},
   "source": [
    "Location observation modality: A[0]"
   ]
  },
  {
   "cell_type": "code",
   "execution_count": 353,
   "metadata": {},
   "outputs": [
    {
     "name": "stdout",
     "output_type": "stream",
     "text": [
      "[[ 0.10288035 -0.13209461  0.04944992 ... -0.13230963 -0.08527818\n",
      "  -0.08219005]\n",
      " [-0.16889004 -0.17074346  0.01428609 ...  0.05908697  0.17861803\n",
      "   0.08727303]\n",
      " [ 0.02496636 -0.01714154 -0.13262689 ...  0.16207498 -0.1558743\n",
      "  -0.12099925]\n",
      " ...\n",
      " [-0.02473887  0.18185511  0.19216088 ... -0.17404579  0.1647892\n",
      "  -0.17884027]\n",
      " [-0.16166274  0.13320169 -0.16519783 ... -0.1767616  -0.01445425\n",
      "  -0.15427616]\n",
      " [-0.00773926 -0.01751905 -0.09184832 ... -0.18550159 -0.12214496\n",
      "   0.02611383]]\n",
      "[[[ 0.15961835  0.12944256  0.15968787]\n",
      "  [-0.06310539 -0.07238795  0.0641981 ]\n",
      "  [-0.06006207  0.10347942 -0.19510838]\n",
      "  [-0.19306048  0.05265892  0.1810423 ]\n",
      "  [-0.05211028  0.15629629  0.19601501]\n",
      "  [-0.06659701 -0.17748548  0.14975382]\n",
      "  [-0.15260973  0.07572154 -0.08564959]\n",
      "  [-0.16428055  0.1759142  -0.07785841]\n",
      "  [-0.0437138   0.02450158  0.10918155]\n",
      "  [-0.19291267  0.15440604 -0.08901144]\n",
      "  [ 0.19746409  0.14883031 -0.09181671]\n",
      "  [ 0.12320907 -0.01632375  0.03284581]\n",
      "  [ 0.07207869  0.07248563  0.15133024]\n",
      "  [ 0.05665958  0.03737648  0.15471593]\n",
      "  [-0.15171105  0.16921748  0.18650211]\n",
      "  [-0.03447938  0.09983055 -0.01799942]\n",
      "  [ 0.19017101  0.07552743  0.13032812]\n",
      "  [-0.08483637 -0.09850712 -0.01222425]\n",
      "  [-0.12822631  0.05957287 -0.0504711 ]\n",
      "  [-0.01152345 -0.01059439  0.17035502]\n",
      "  [-0.00044617 -0.12534713 -0.07288761]\n",
      "  [ 0.17940074  0.15034546 -0.09115195]\n",
      "  [ 0.03237075 -0.10316961  0.17280154]\n",
      "  [-0.1564257   0.12248687  0.11957898]\n",
      "  [ 0.00272409 -0.18192498 -0.13445356]\n",
      "  [-0.12667206 -0.15533203  0.04123575]\n",
      "  [-0.15782392  0.18548564  0.0811    ]\n",
      "  [ 0.15527912 -0.08134485  0.00490698]\n",
      "  [-0.07379765  0.14984427 -0.1812194 ]\n",
      "  [ 0.11671964 -0.04583251  0.10676172]\n",
      "  [ 0.07771456 -0.11542553  0.15048582]\n",
      "  [ 0.15551548  0.10390314 -0.1385113 ]\n",
      "  [-0.12089793  0.00867167  0.17358882]\n",
      "  [-0.18349201  0.02176959  0.15788093]\n",
      "  [ 0.11220674 -0.0111285  -0.19239014]]\n",
      "\n",
      " [[-0.11752693 -0.05479446  0.07744025]\n",
      "  [ 0.01275071  0.14831309  0.10397283]\n",
      "  [ 0.11976682 -0.18208561  0.17244447]\n",
      "  [-0.16573535 -0.06472937 -0.11955125]\n",
      "  [ 0.18321188 -0.14985263  0.09278054]\n",
      "  [-0.17820903 -0.15871613 -0.15302271]\n",
      "  [ 0.13684879 -0.02662026 -0.1080096 ]\n",
      "  [ 0.00377504  0.00665403 -0.00352843]\n",
      "  [ 0.14720606  0.17836195  0.16250514]\n",
      "  [-0.14380271  0.05575406  0.17225252]\n",
      "  [ 0.06185971  0.07864411 -0.16216783]\n",
      "  [-0.13399771  0.00387874  0.02279999]\n",
      "  [-0.06441944 -0.16196145 -0.03602289]\n",
      "  [-0.19300773 -0.15696764  0.16428066]\n",
      "  [-0.06532716  0.03744257 -0.08381666]\n",
      "  [-0.18766718 -0.0101305   0.06262693]\n",
      "  [-0.1386566  -0.19715888 -0.04531257]\n",
      "  [-0.09697299  0.18180205  0.07437361]\n",
      "  [-0.04666174 -0.05573456 -0.17217831]\n",
      "  [-0.04955871 -0.12297662 -0.18787755]\n",
      "  [-0.01147063 -0.10820047  0.15684117]\n",
      "  [ 0.10651751 -0.1709406  -0.07037815]\n",
      "  [ 0.06138213 -0.0233074  -0.01845057]\n",
      "  [-0.09189109  0.16195997  0.01836007]\n",
      "  [ 0.00760273  0.01878448 -0.10997201]\n",
      "  [ 0.19916505 -0.04104846 -0.09474775]\n",
      "  [ 0.14993277 -0.05196531  0.02066916]\n",
      "  [ 0.09716289 -0.09910822  0.02236332]\n",
      "  [-0.15568439 -0.06883291  0.07563261]\n",
      "  [-0.01682044  0.06242785 -0.10922046]\n",
      "  [-0.01706409  0.0901013  -0.13921344]\n",
      "  [ 0.08351933  0.14124782  0.08375768]\n",
      "  [ 0.16103502 -0.05050294 -0.1660996 ]\n",
      "  [-0.00314772  0.1550393  -0.11271244]\n",
      "  [ 0.01765461  0.18830766  0.00287608]]\n",
      "\n",
      " [[ 0.04701827  0.19321576  0.0682499 ]\n",
      "  [ 0.00840578 -0.00276043  0.00112421]\n",
      "  [-0.14502513 -0.08980751 -0.1943863 ]\n",
      "  [-0.18636465 -0.14174806 -0.01633648]\n",
      "  [ 0.08164842 -0.0932166  -0.15160335]\n",
      "  [-0.00031667  0.08078604 -0.12782835]\n",
      "  [ 0.11602656 -0.14797535 -0.02624971]\n",
      "  [ 0.10257994  0.14449098  0.03967806]\n",
      "  [ 0.12462896 -0.12454952  0.11925342]\n",
      "  [-0.12333725 -0.05555357  0.08659963]\n",
      "  [ 0.11104212 -0.13952061 -0.09244093]\n",
      "  [ 0.03338704  0.06149418  0.01236854]\n",
      "  [-0.01521371  0.02380972  0.18822495]\n",
      "  [ 0.09766401 -0.12088885 -0.12832437]\n",
      "  [-0.01941199 -0.16274161  0.19633017]\n",
      "  [ 0.13494004  0.1091985   0.01061604]\n",
      "  [-0.09125249  0.01451305  0.10457393]\n",
      "  [ 0.00656472  0.07070092  0.14021923]\n",
      "  [ 0.06132967 -0.19906573  0.09389677]\n",
      "  [ 0.17764478  0.10431063  0.12601323]\n",
      "  [-0.19264781  0.06228719 -0.02530956]\n",
      "  [-0.17811902 -0.09492475  0.16207163]\n",
      "  [-0.14598968  0.14025037  0.18930109]\n",
      "  [-0.1727317  -0.04714045 -0.06107062]\n",
      "  [-0.03376216 -0.0190483   0.08914202]\n",
      "  [-0.10635096 -0.10394926  0.07238829]\n",
      "  [ 0.03430365  0.01659291  0.08733798]\n",
      "  [-0.05448137  0.16255833  0.0633472 ]\n",
      "  [ 0.03787972 -0.08891676  0.02883064]\n",
      "  [-0.05123314  0.17839782  0.00923542]\n",
      "  [ 0.02440621  0.10883669  0.14494057]\n",
      "  [ 0.08417785 -0.13221366 -0.01659446]\n",
      "  [-0.0156809   0.14209864 -0.11348229]\n",
      "  [-0.05920517  0.01977807  0.13484818]\n",
      "  [-0.00690583  0.00036951  0.08372199]]]\n",
      "Modality 0 column sums before check: [1. 1. 1. 1. 1. 1. 1. 1. 1. 1. 1. 1. 1. 1. 1. 1. 1. 1. 1. 1. 1. 1. 1. 1.\n",
      " 1. 1. 1. 1. 1. 1. 1. 1. 1. 1. 1.]\n",
      "Modality 1 column sums before check: [[1. 1. 1.]\n",
      " [1. 1. 1.]\n",
      " [1. 1. 1.]\n",
      " [1. 1. 1.]\n",
      " [1. 1. 1.]\n",
      " [1. 1. 1.]\n",
      " [1. 1. 1.]\n",
      " [1. 1. 1.]\n",
      " [1. 1. 1.]\n",
      " [1. 1. 1.]\n",
      " [1. 1. 1.]\n",
      " [1. 1. 1.]\n",
      " [1. 1. 1.]\n",
      " [1. 1. 1.]\n",
      " [1. 1. 1.]\n",
      " [1. 1. 1.]\n",
      " [1. 1. 1.]\n",
      " [1. 1. 1.]\n",
      " [1. 1. 1.]\n",
      " [1. 1. 1.]\n",
      " [1. 1. 1.]\n",
      " [1. 1. 1.]\n",
      " [1. 1. 1.]\n",
      " [1. 1. 1.]\n",
      " [1. 1. 1.]\n",
      " [1. 1. 1.]\n",
      " [1. 1. 1.]\n",
      " [1. 1. 1.]\n",
      " [1. 1. 1.]\n",
      " [1. 1. 1.]\n",
      " [1. 1. 1.]\n",
      " [1. 1. 1.]\n",
      " [1. 1. 1.]\n",
      " [1. 1. 1.]\n",
      " [1. 1. 1.]]\n",
      "A Matrix successfully populated and normalized!\n"
     ]
    }
   ],
   "source": [
    "# Define A Matrix\n",
    "A = utils.obj_array_zeros(A_m_shapes)\n",
    "\n",
    "# Location observation modality\n",
    "A[0] = np.eye(len(grid_locations))  # Location observations (one-hot encoded)\n",
    "\n",
    "# Probabilities for each color given the safety level (in correct heatmap order: RED, GREEN, WHITE)\n",
    "probabilities = {\n",
    "    \"SAFE\": [0.7, 0.1, 0.2],        # ['WHITE', 'RED', 'GREEN']\n",
    "    \"DANGER\": [0.1, 0.85, 0.05],      # ['WHITE', 'RED', 'GREEN']\n",
    "    \"REWARDING\": [0.15, 0.05, 0.8]    # ['WHITE', 'RED', 'GREEN']\n",
    "}\n",
    "\n",
    "# Map safety levels to indices\n",
    "safety_level_to_index = {state: i for i, state in enumerate(safety_level_state)}  # {'SAFE': 0, 'DANGER': 1, 'REWARDING': 2}\n",
    "\n",
    "# Populate A[1]\n",
    "for safety_level, probs in probabilities.items():\n",
    "    safety_idx = safety_level_to_index[safety_level]\n",
    "    for loc in range(len(grid_locations)):  # Iterate over grid locations\n",
    "        for color_idx, prob in enumerate(probs):  # Iterate over colors (RED, GREEN, WHITE)\n",
    "            A[1][color_idx, loc, safety_idx] = prob  # Assign probabilities\n",
    "\n",
    "# Add noise to each modality separately\n",
    "for modality in range(len(A)):\n",
    "    A[modality] = add_noise_to_transition(A[modality], noise_level=0.2)\n",
    "\n",
    "# Verify normalization\n",
    "for modality in range(len(A)):\n",
    "    column_sums = np.sum(A[modality], axis=0)\n",
    "    print(f\"Modality {modality} column sums before check:\", column_sums)\n",
    "    \n",
    "    # Each column should sum to 1\n",
    "    assert np.allclose(column_sums, 1.0), f\"Modality {modality} is not normalized\"\n",
    "\n",
    "print(\"A Matrix successfully populated and normalized!\")\n"
   ]
  },
  {
   "cell_type": "code",
   "execution_count": 354,
   "metadata": {},
   "outputs": [
    {
     "data": {
      "image/png": "[encoded data removed]",
      "text/plain": [
       "<Figure size 600x600 with 1 Axes>"
      ]
     },
     "metadata": {},
     "output_type": "display_data"
    }
   ],
   "source": [
    "plot_likelihood((A[0]))"
   ]
  },
  {
   "cell_type": "code",
   "execution_count": 355,
   "metadata": {},
   "outputs": [
    {
     "data": {
      "image/png": "[encoded data removed]",
      "text/plain": [
       "<Figure size 1500x500 with 6 Axes>"
      ]
     },
     "metadata": {},
     "output_type": "display_data"
    }
   ],
   "source": [
    "fig, axes = plt.subplots(1, 3, figsize=(15, 5))\n",
    "safety_labels = ['SAFE', 'DANGER', 'REWARDING']\n",
    "\n",
    "# Plot each safety level separately\n",
    "for i in range(3):  # 3 safety levels\n",
    "    # Extract the matrix for this safety level\n",
    "    safety_matrix = A[1][:, :, i]  # shape: (3 colors, 35 locations)\n",
    "    \n",
    "    # Create heatmap\n",
    "    sns.heatmap(safety_matrix, \n",
    "                ax=axes[i],\n",
    "                cmap='YlOrRd',\n",
    "                vmin=0,\n",
    "                vmax=1,\n",
    "                cbar_kws={'label': 'Probability'})\n",
    "    \n",
    "    # Customize the plot\n",
    "    axes[i].set_title(f'Safety Level: {safety_labels[i]}')\n",
    "    axes[i].set_xlabel('Location')\n",
    "    axes[i].set_ylabel('Color (White/Red/Green)')\n",
    "    axes[i].set_yticks([0.5, 1.5, 2.5])\n",
    "    axes[i].set_yticklabels(['WHITE', 'RED', 'GREEN'])\n",
    "\n",
    "plt.tight_layout()\n",
    "plt.show()"
   ]
  },
  {
   "cell_type": "markdown",
   "metadata": {},
   "source": [
    "### B Array"
   ]
  },
  {
   "cell_type": "code",
   "execution_count": 356,
   "metadata": {},
   "outputs": [
    {
     "data": {
      "text/plain": [
       "[[35, 35, 5], [3, 3, 1]]"
      ]
     },
     "execution_count": 356,
     "metadata": {},
     "output_type": "execute_result"
    }
   ],
   "source": [
    "num_controls = [5, 1]\n",
    "B_f_shapes = [ [ns, ns, num_controls[f]] for f, ns in enumerate(num_states)]\n",
    "B = utils.obj_array_zeros(B_f_shapes)\n",
    "B_f_shapes\n"
   ]
  },
  {
   "cell_type": "code",
   "execution_count": 357,
   "metadata": {},
   "outputs": [],
   "source": [
    "actions = [\"UP\", \"DOWN\", \"LEFT\", \"RIGHT\", \"STAY\"]\n",
    "\n",
    "for action_id, action_label in enumerate(actions):\n",
    "\n",
    "  for curr_state, grid_location in enumerate(grid_locations):\n",
    "\n",
    "    y, x = grid_location\n",
    "\n",
    "    if action_label == \"UP\":\n",
    "      next_y = y - 1 if y > 0 else y \n",
    "      next_x = x\n",
    "\n",
    "    elif action_label == \"DOWN\":\n",
    "      next_y = y + 1 if y < (grid_dims[0]-1) else y \n",
    "      next_x = x\n",
    "      \n",
    "    elif action_label == \"LEFT\":\n",
    "      next_x = x - 1 if x > 0 else x \n",
    "      next_y = y\n",
    "    elif action_label == \"RIGHT\":\n",
    "      next_x = x + 1 if x < (grid_dims[1]-1) else x \n",
    "      next_y = y\n",
    "    elif action_label == \"STAY\":\n",
    "      next_x = x\n",
    "      next_y = y\n",
    "\n",
    "    new_location = (next_y, next_x)\n",
    "    next_state = grid_locations.index(new_location)\n",
    "    B[0][next_state, curr_state, action_id] = 1.0"
   ]
  },
  {
   "cell_type": "code",
   "execution_count": 358,
   "metadata": {},
   "outputs": [],
   "source": [
    "# Initialize safety level transition matrix (no changes for safety levels)\n",
    "B[1][:,:,0] = np.eye(3)  # Identity matrix for safety level transitions\n",
    "\n",
    "# Normalize B matrix columns for each action\n",
    "for action_id in range(len(actions)):\n",
    "    # Get slice for current action\n",
    "    B_action = B[0][..., action_id]\n",
    "    \n",
    "    # Replace zero columns with ones in appropriate positions\n",
    "    zero_cols = (B_action.sum(axis=0) == 0)\n",
    "    for col in range(B_action.shape[1]):\n",
    "        if zero_cols[col]:\n",
    "            # Stay in the same state if no transition is defined\n",
    "            B_action[col, col] = 1.0\n",
    "    \n",
    "    # Normalize columns\n",
    "    column_sums = B_action.sum(axis=0)\n",
    "    B[0][..., action_id] = B_action / column_sums[None, :]\n",
    "\n",
    "# Verify normalization\n",
    "for action_id in range(len(actions)):\n",
    "    assert np.allclose(B[0][..., action_id].sum(axis=0), 1.0), f\"Action {actions[action_id]} not normalized\""
   ]
  },
  {
   "cell_type": "markdown",
   "metadata": {},
   "source": [
    "### C Vectors (prior preferences)"
   ]
  },
  {
   "cell_type": "code",
   "execution_count": 359,
   "metadata": {},
   "outputs": [],
   "source": [
    "# white, red, green"
   ]
  },
  {
   "cell_type": "code",
   "execution_count": 360,
   "metadata": {},
   "outputs": [
    {
     "name": "stdout",
     "output_type": "stream",
     "text": [
      "(2,)\n",
      "[0. 0. 0. 0. 0. 0. 0. 0. 0. 0. 0. 0. 0. 0. 0. 0. 0. 0. 0. 0. 0. 0. 0. 0.\n",
      " 0. 0. 0. 0. 0. 0. 0. 0. 0. 0. 0.]\n",
      "[ 0. -1.  1.]\n"
     ]
    }
   ],
   "source": [
    "C = utils.obj_array_zeros(num_obs)  # Initialize C array with shape matching num_obs\n",
    "print(C.shape)\n",
    "\n",
    "# Set preferences for state observations (location)\n",
    "C[0] = np.zeros(len(grid_locations))\n",
    "print(C[0])\n",
    "\n",
    "# Set preferences for color observations\n",
    "C[1] = np.zeros((3,))  # 3 colors: red, green, white\n",
    "C[1][1] = -1.0 \n",
    "C[1][2] = 1.0 \n",
    "\n",
    "print(C[1])\n"
   ]
  },
  {
   "cell_type": "markdown",
   "metadata": {},
   "source": [
    "### D Vectors: Prior over (initial) hidden states"
   ]
  },
  {
   "cell_type": "code",
   "execution_count": 361,
   "metadata": {},
   "outputs": [
    {
     "data": {
      "text/plain": [
       "[35, 3]"
      ]
     },
     "execution_count": 361,
     "metadata": {},
     "output_type": "execute_result"
    }
   ],
   "source": [
    "num_states"
   ]
  },
  {
   "cell_type": "code",
   "execution_count": 362,
   "metadata": {},
   "outputs": [
    {
     "name": "stdout",
     "output_type": "stream",
     "text": [
      "D[0] shape (Location prior): (35,)\n",
      "D[1] shape (Attribute prior for all locations): (35, 3)\n"
     ]
    },
    {
     "data": {
      "text/plain": [
       "((2,), (35,), (35, 3))"
      ]
     },
     "execution_count": 190,
     "metadata": {},
     "output_type": "execute_result"
    }
   ],
   "source": [
    "D = utils.obj_array_uniform(num_states)\n",
    "\n",
    "# Define prior belief about agent's location (same as before)\n",
    "D[0] = np.zeros(num_states[0])  # Shape (35,)\n",
    "agent_initial_state = grid_locations.index(agent_pos)\n",
    "D[0][agent_initial_state] = 1.0  # One-hot encoding for location\n",
    "\n",
    "# Define prior belief about attributes for EACH location\n",
    "D[1] = np.zeros((num_states[0], num_states[1]))  # Shape (35, 3)\n",
    "\n",
    "# Assign probabilities to attributes for each location\n",
    "for loc in range(num_states[0]):\n",
    "    # Example: Assume all locations have [SAFE: 0.7, DANGER: 0.2, REWARDING: 0.1]\n",
    "    D[1][loc] = np.array([0.7, 0.2, 0.1])\n",
    "\n",
    "    # Normalize each location's attribute distribution (ensure sum = 1)\n",
    "    D[1][loc] /= D[1][loc].sum()\n",
    "\n",
    "# Verify D matrix shapes\n",
    "print(\"D[0] shape (Location prior):\", D[0].shape)  # (35,)\n",
    "print(\"D[1] shape (Attribute prior for all locations):\", D[1].shape)  # (35, 3)\n",
    "\n",
    "D.shape, D[0].shape, D[1].shape"
   ]
  },
  {
   "cell_type": "markdown",
   "metadata": {},
   "source": [
    "# Generative Process"
   ]
  },
  {
   "cell_type": "code",
   "execution_count": 363,
   "metadata": {},
   "outputs": [],
   "source": [
    "def update_vision(current_location, grid_dims, distance):\n",
    "    \"\"\"\n",
    "    Update the agent's field of vision based on the current location and distance\n",
    "    Returns a list of all grid positions within the vision range\n",
    "    \n",
    "    Args:\n",
    "        current_location (tuple): Current (y,x) position of the agent\n",
    "        grid_dims (list): Dimensions of the grid [height, width]\n",
    "        distance (int): Vision range/distance\n",
    "        \n",
    "    Returns:\n",
    "        list: List of (y,x) tuples representing visible grid positions\n",
    "    \"\"\"\n",
    "    y, x = current_location\n",
    "    y_min = max(0, y - distance)\n",
    "    y_max = min(grid_dims[0], y + distance + 1)\n",
    "    x_min = max(0, x - distance)\n",
    "    x_max = min(grid_dims[1], x + distance + 1)\n",
    "    \n",
    "    visible_locations = []\n",
    "    for y_pos in range(y_min, y_max):\n",
    "        for x_pos in range(x_min, x_max):\n",
    "            visible_locations.append((y_pos, x_pos))\n",
    "            \n",
    "    return visible_locations"
   ]
  },
  {
   "cell_type": "code",
   "execution_count": 364,
   "metadata": {},
   "outputs": [],
   "source": [
    "X, Y = 0, 0\n",
    "\n",
    "class GridWorldEnv():\n",
    "\n",
    "    def __init__(self, starting_loc = (0, 0), red1_loc = (1, 2), red2_loc = (3,2), red3_loc = (4,4), red4_loc = (6, 1), goal = (6 ,4)):\n",
    "        self.init_loc = starting_loc\n",
    "        self.current_location = self.init_loc\n",
    "        Y, X = self.current_location\n",
    "\n",
    "        self.red1_loc = red1_loc\n",
    "        self.red2_loc = red2_loc\n",
    "        self.red3_loc = red3_loc\n",
    "        self.red4_loc = red4_loc\n",
    "        self.redspots = [self.red1_loc, self.red2_loc, self.red3_loc, self.red4_loc]\n",
    "\n",
    "        self.goal = goal\n",
    "\n",
    "        self.red_obs = ['Null']\n",
    "        self.green_obs = 'Null'\n",
    "        self.white_obs = ['Null']\n",
    "\n",
    "        self.agent_reward = 0 # not observation or state\n",
    "        \n",
    "        print(f\"Starting location is {self.init_loc} | Red spot locations are {self.red1_loc, self.red2_loc, self.red3_loc, self.red4_loc} | Goal is {self.goal}\")\n",
    "    \n",
    "    def step(self, action_label):\n",
    "\n",
    "        Y, X = self.current_location\n",
    "\n",
    "\n",
    "        if action_label == \"UP\": \n",
    "          if Y < grid_dims[0] - 1: Y_new = Y + 1\n",
    "          else: Y_new = Y\n",
    "          X_new = X\n",
    "\n",
    "        elif action_label == \"DOWN\": \n",
    "        \n",
    "          if Y > 0: Y_new = Y - 1\n",
    "          else: Y_new = Y\n",
    "          X_new = X      \n",
    "\n",
    "        elif action_label == \"LEFT\": \n",
    "          \n",
    "          if X > 0: X_new = X - 1\n",
    "          else: X_new = X\n",
    "          Y_new = Y\n",
    "\n",
    "        elif action_label == \"RIGHT\": \n",
    "          \n",
    "          if X < grid_dims[1] - 1: X_new = X + 1\n",
    "          else: X_new = X\n",
    "          Y_new = Y\n",
    "\n",
    "        elif action_label == \"STAY\":\n",
    "          Y_new, X_new = Y, X\n",
    "        \n",
    "        X, Y = X_new, Y_new\n",
    "        self.current_location = (Y_new, X_new) # store the new grid location\n",
    "        print(f\" self.current_location: {self.current_location}\")\n",
    "        self.vision = update_vision(self.current_location, grid_dims, 6)\n",
    "\n",
    "        self.loc_obs = self.current_location # agent directly observes its position in grid\n",
    "\n",
    "        for spot in self.vision:\n",
    "            if spot in self.redspots:\n",
    "                if 'Null' in self.red_obs:\n",
    "                    self.red_obs = [spot]\n",
    "                else:\n",
    "                    self.red_obs.append(spot)\n",
    "            elif spot == self.goal:\n",
    "                self.green_obs = spot\n",
    "            else:\n",
    "                if 'Null' in self.white_obs:\n",
    "                    self.white_obs = [spot]\n",
    "                else:\n",
    "                    self.white_obs.append(spot)\n",
    "\n",
    "\n",
    "        if self.current_location in self.redspots:\n",
    "            self.agent_reward -= 5\n",
    "            if 'Null' in self.red_obs:\n",
    "                self.red_obs = [self.current_location]\n",
    "            else:\n",
    "                self.red_obs.append(self.current_location)\n",
    "        elif self.current_location == self.goal:\n",
    "            self.agent_reward += 20\n",
    "            self.green_obs = self.current_location\n",
    "        else:\n",
    "            if 'Null' in self.white_obs:\n",
    "                self.white_obs = [self.current_location]\n",
    "            else:\n",
    "                self.white_obs.append(self.current_location)\n",
    "        \n",
    "        return self.agent_reward, self.loc_obs, self.green_obs, self.white_obs, self.red_obs\n",
    "    \n",
    "    def reset(self):\n",
    "        self.current_location = self.init_loc\n",
    "        print(f'Re-initialized location to {self.init_loc}')\n",
    "        self.loc_obs = self.current_location\n",
    "        self.green_obs, self.white_obs, self.red_obs, self.agent_reward = 'Null', ['Null'], ['Null'], 0\n",
    "\n",
    "        return self.loc_obs, self.green_obs, self.white_obs, self.red_obs, self.agent_reward"
   ]
  },
  {
   "cell_type": "markdown",
   "metadata": {},
   "source": [
    "# Active Inference"
   ]
  },
  {
   "cell_type": "code",
   "execution_count": 365,
   "metadata": {},
   "outputs": [],
   "source": [
    "from pymdp.agent import Agent"
   ]
  },
  {
   "cell_type": "code",
   "execution_count": 366,
   "metadata": {},
   "outputs": [
    {
     "ename": "AssertionError",
     "evalue": "Check D vector: number of entries of D vector for factor 1 should be equal to 3",
     "output_type": "error",
     "traceback": [
      "\u001b[0;31m---------------------------------------------------------------------------\u001b[0m",
      "\u001b[0;31mAssertionError\u001b[0m                            Traceback (most recent call last)",
      "Cell \u001b[0;32mIn[194], line 1\u001b[0m\n\u001b[0;32m----> 1\u001b[0m my_agent \u001b[38;5;241m=\u001b[39m Agent(A \u001b[38;5;241m=\u001b[39m A, B \u001b[38;5;241m=\u001b[39m B, C \u001b[38;5;241m=\u001b[39m C, D \u001b[38;5;241m=\u001b[39m D, policy_len \u001b[38;5;241m=\u001b[39m \u001b[38;5;241m4\u001b[39m) \u001b[38;5;66;03m#form Agent with Agent class\u001b[39;00m\n\u001b[1;32m      3\u001b[0m my_env \u001b[38;5;241m=\u001b[39m GridWorldEnv(starting_loc \u001b[38;5;241m=\u001b[39m (\u001b[38;5;241m0\u001b[39m, \u001b[38;5;241m0\u001b[39m), red1_loc \u001b[38;5;241m=\u001b[39m (\u001b[38;5;241m1\u001b[39m, \u001b[38;5;241m2\u001b[39m), red2_loc \u001b[38;5;241m=\u001b[39m (\u001b[38;5;241m3\u001b[39m,\u001b[38;5;241m2\u001b[39m), red3_loc \u001b[38;5;241m=\u001b[39m (\u001b[38;5;241m4\u001b[39m,\u001b[38;5;241m4\u001b[39m), red4_loc \u001b[38;5;241m=\u001b[39m (\u001b[38;5;241m6\u001b[39m, \u001b[38;5;241m1\u001b[39m), goal \u001b[38;5;241m=\u001b[39m (\u001b[38;5;241m6\u001b[39m ,\u001b[38;5;241m4\u001b[39m)) \u001b[38;5;66;03m#Define environment\u001b[39;00m\n\u001b[1;32m      5\u001b[0m loc_obs, green_obs, white_obs, red_obs, agent_reward \u001b[38;5;241m=\u001b[39m my_env\u001b[38;5;241m.\u001b[39mreset()\n",
      "File \u001b[0;32m/opt/anaconda3/lib/python3.11/site-packages/pymdp/agent.py:179\u001b[0m, in \u001b[0;36mAgent.__init__\u001b[0;34m(self, A, B, C, D, E, pA, pB, pD, num_controls, policy_len, inference_horizon, control_fac_idx, policies, gamma, alpha, use_utility, use_states_info_gain, use_param_info_gain, action_selection, sampling_mode, inference_algo, inference_params, modalities_to_learn, lr_pA, factors_to_learn, lr_pB, lr_pD, use_BMA, policy_sep_prior, save_belief_hist)\u001b[0m\n\u001b[1;32m    176\u001b[0m     \u001b[38;5;28;01massert\u001b[39;00m \u001b[38;5;28mlen\u001b[39m(\u001b[38;5;28mself\u001b[39m\u001b[38;5;241m.\u001b[39mD) \u001b[38;5;241m==\u001b[39m \u001b[38;5;28mself\u001b[39m\u001b[38;5;241m.\u001b[39mnum_factors, \u001b[38;5;124mf\u001b[39m\u001b[38;5;124m\"\u001b[39m\u001b[38;5;124mCheck D vector: number of sub-arrays must be equal to number of hidden state factors: \u001b[39m\u001b[38;5;132;01m{\u001b[39;00m\u001b[38;5;28mself\u001b[39m\u001b[38;5;241m.\u001b[39mnum_factors\u001b[38;5;132;01m}\u001b[39;00m\u001b[38;5;124m\"\u001b[39m\n\u001b[1;32m    178\u001b[0m     \u001b[38;5;28;01mfor\u001b[39;00m f, d_f \u001b[38;5;129;01min\u001b[39;00m \u001b[38;5;28menumerate\u001b[39m(\u001b[38;5;28mself\u001b[39m\u001b[38;5;241m.\u001b[39mD):\n\u001b[0;32m--> 179\u001b[0m         \u001b[38;5;28;01massert\u001b[39;00m d_f\u001b[38;5;241m.\u001b[39mshape[\u001b[38;5;241m0\u001b[39m] \u001b[38;5;241m==\u001b[39m \u001b[38;5;28mself\u001b[39m\u001b[38;5;241m.\u001b[39mnum_states[f], \u001b[38;5;124mf\u001b[39m\u001b[38;5;124m\"\u001b[39m\u001b[38;5;124mCheck D vector: number of entries of D vector for factor \u001b[39m\u001b[38;5;132;01m{\u001b[39;00mf\u001b[38;5;132;01m}\u001b[39;00m\u001b[38;5;124m should be equal to \u001b[39m\u001b[38;5;132;01m{\u001b[39;00m\u001b[38;5;28mself\u001b[39m\u001b[38;5;241m.\u001b[39mnum_states[f]\u001b[38;5;132;01m}\u001b[39;00m\u001b[38;5;124m\"\u001b[39m\n\u001b[1;32m    180\u001b[0m \u001b[38;5;28;01melse\u001b[39;00m:\n\u001b[1;32m    181\u001b[0m     \u001b[38;5;28;01mif\u001b[39;00m pD \u001b[38;5;129;01mis\u001b[39;00m \u001b[38;5;129;01mnot\u001b[39;00m \u001b[38;5;28;01mNone\u001b[39;00m:\n",
      "\u001b[0;31mAssertionError\u001b[0m: Check D vector: number of entries of D vector for factor 1 should be equal to 3"
     ]
    }
   ],
   "source": [
    "my_agent = Agent(A = A, B = B, C = C, D = D, policy_len = 4)\n",
    "\n",
    "my_env = GridWorldEnv(starting_loc = (0, 0), red1_loc = (1, 2), red2_loc = (3,2), red3_loc = (4,4), red4_loc = (6, 1), goal = (6 ,4))\n",
    "\n",
    "loc_obs, green_obs, white_obs, red_obs, agent_reward = my_env.reset()"
   ]
  },
  {
   "cell_type": "code",
   "execution_count": 367,
   "metadata": {},
   "outputs": [
    {
     "data": {
      "text/plain": [
       "((0, 0), 'Null', ['Null'], ['Null'], 0)"
      ]
     },
     "execution_count": 367,
     "metadata": {},
     "output_type": "execute_result"
    }
   ],
   "source": [
    "loc_obs, green_obs, white_obs, red_obs, agent_reward"
   ]
  },
  {
   "cell_type": "markdown",
   "metadata": {},
   "source": [
    "## Create Observation"
   ]
  },
  {
   "cell_type": "code",
   "execution_count": 378,
   "metadata": {},
   "outputs": [],
   "source": [
    "# def create_current_loc_observation(loc_obs, grid_locations):\n",
    "#     \"\"\"\n",
    "#     Create a single observation vector from the individual components\n",
    "#     Will be added to agent's belief about its current_location\n",
    "#     \"\"\"\n",
    "\n",
    "#     return [grid_locations.index(loc_obs), None]\n",
    "\n",
    "def create_current_loc_observation(loc_obs, grid_locations):\n",
    "    \"\"\"\n",
    "    Create a single observation vector for the current location.\n",
    "    \"\"\"\n",
    "    loc_index = grid_locations.index(loc_obs)\n",
    "    loc_vector = [0] * len(grid_locations)\n",
    "    loc_vector[loc_index] = 1  # Set the current location to 1 (one-hot encoding)\n",
    "    return loc_vector  # Length 35 vector for location modality"
   ]
  },
  {
   "cell_type": "code",
   "execution_count": 379,
   "metadata": {},
   "outputs": [
    {
     "data": {
      "text/plain": [
       "[1,\n",
       " 0,\n",
       " 0,\n",
       " 0,\n",
       " 0,\n",
       " 0,\n",
       " 0,\n",
       " 0,\n",
       " 0,\n",
       " 0,\n",
       " 0,\n",
       " 0,\n",
       " 0,\n",
       " 0,\n",
       " 0,\n",
       " 0,\n",
       " 0,\n",
       " 0,\n",
       " 0,\n",
       " 0,\n",
       " 0,\n",
       " 0,\n",
       " 0,\n",
       " 0,\n",
       " 0,\n",
       " 0,\n",
       " 0,\n",
       " 0,\n",
       " 0,\n",
       " 0,\n",
       " 0,\n",
       " 0,\n",
       " 0,\n",
       " 0,\n",
       " 0]"
      ]
     },
     "execution_count": 379,
     "metadata": {},
     "output_type": "execute_result"
    }
   ],
   "source": [
    "create_current_loc_observation(loc_obs, grid_locations)"
   ]
  },
  {
   "cell_type": "code",
   "execution_count": 380,
   "metadata": {},
   "outputs": [],
   "source": [
    "# def create_color_observation(position, red_obs, green_obs, white_obs):\n",
    "#     \"\"\"\n",
    "#     Create a single observation vector from the individual components\n",
    "#     Will be added to agent's belief about the color of the current_location\n",
    "#     \"\"\"\n",
    "\n",
    "#     if position in red_obs: return [None, color.index('RED')]\n",
    "#     elif position in green_obs: return [None, color.index('GREEN')]\n",
    "#     elif position in white_obs: return [None, color.index('WHITE')]\n",
    "#     return [None, None]\n",
    "\n",
    "def create_color_observation(position, red_obs, green_obs, white_obs):\n",
    "    \"\"\"\n",
    "    Create a single observation vector for the color of the current location.\n",
    "    \"\"\"\n",
    "    color_vector = [0] * 3  # Length 3 vector for color modality (RED, GREEN, WHITE)\n",
    "    if position in red_obs:\n",
    "        color_vector[0] = 1  # RED\n",
    "    elif position in green_obs:\n",
    "        color_vector[1] = 1  # GREEN\n",
    "    elif position in white_obs:\n",
    "        color_vector[2] = 1  # WHITE\n",
    "    return color_vector"
   ]
  },
  {
   "cell_type": "code",
   "execution_count": 381,
   "metadata": {},
   "outputs": [
    {
     "name": "stdout",
     "output_type": "stream",
     "text": [
      "[0, 0, 0]\n",
      "[0, 0, 0]\n",
      "[0, 0, 0]\n",
      "[0, 0, 0]\n",
      "[0, 0, 0]\n",
      "[0, 0, 0]\n",
      "[0, 0, 0]\n",
      "[0, 0, 0]\n",
      "[0, 0, 0]\n",
      "[0, 0, 0]\n",
      "[0, 0, 0]\n",
      "[0, 0, 0]\n",
      "[0, 0, 0]\n",
      "[0, 0, 0]\n",
      "[0, 0, 0]\n",
      "[0, 0, 0]\n",
      "[0, 0, 0]\n",
      "[0, 0, 0]\n",
      "[0, 0, 0]\n",
      "[0, 0, 0]\n",
      "[0, 0, 0]\n",
      "[0, 0, 0]\n",
      "[0, 0, 0]\n",
      "[0, 0, 0]\n",
      "[0, 0, 0]\n",
      "[0, 0, 0]\n",
      "[0, 0, 0]\n",
      "[0, 0, 0]\n",
      "[0, 0, 0]\n",
      "[0, 0, 0]\n",
      "[0, 0, 0]\n",
      "[0, 0, 0]\n",
      "[0, 0, 0]\n",
      "[0, 0, 0]\n",
      "[0, 0, 0]\n"
     ]
    }
   ],
   "source": [
    "for position in grid_locations: #iterate over position in grid\n",
    "    color_observation = create_color_observation(position, red_obs, green_obs, white_obs) #create observation about color (red,green,white)\n",
    "    print(color_observation)"
   ]
  },
  {
   "cell_type": "markdown",
   "metadata": {},
   "source": [
    "## Loop"
   ]
  },
  {
   "cell_type": "code",
   "execution_count": 382,
   "metadata": {},
   "outputs": [
    {
     "ename": "ValueError",
     "evalue": "operands could not be broadcast together with shapes (35,) (35,3) ",
     "output_type": "error",
     "traceback": [
      "\u001b[0;31m---------------------------------------------------------------------------\u001b[0m",
      "\u001b[0;31mValueError\u001b[0m                                Traceback (most recent call last)",
      "Cell \u001b[0;32mIn[382], line 9\u001b[0m\n\u001b[1;32m      5\u001b[0m \u001b[38;5;28;01mfor\u001b[39;00m t \u001b[38;5;129;01min\u001b[39;00m \u001b[38;5;28mrange\u001b[39m(T):\n\u001b[1;32m      6\u001b[0m \n\u001b[1;32m      7\u001b[0m     \u001b[38;5;66;03m# Observation about current_location\u001b[39;00m\n\u001b[1;32m      8\u001b[0m     obs \u001b[38;5;241m=\u001b[39m create_current_loc_observation(loc_obs, grid_locations)\n\u001b[0;32m----> 9\u001b[0m     qs[\u001b[38;5;241m0\u001b[39m] \u001b[38;5;241m=\u001b[39m my_agent\u001b[38;5;241m.\u001b[39minfer_states(obs)\n\u001b[1;32m     10\u001b[0m     plot_beliefs(qs[\u001b[38;5;241m0\u001b[39m]) \u001b[38;5;66;03m# qs[0] = first modality for grid locations\u001b[39;00m\n\u001b[1;32m     12\u001b[0m     \u001b[38;5;66;03m# Color Observations\u001b[39;00m\n",
      "File \u001b[0;32m/opt/anaconda3/lib/python3.11/site-packages/pymdp/agent.py:429\u001b[0m, in \u001b[0;36mAgent.infer_states\u001b[0;34m(self, observation, distr_obs)\u001b[0m\n\u001b[1;32m    427\u001b[0m     \u001b[38;5;28;01melse\u001b[39;00m:\n\u001b[1;32m    428\u001b[0m         empirical_prior \u001b[38;5;241m=\u001b[39m \u001b[38;5;28mself\u001b[39m\u001b[38;5;241m.\u001b[39mD\n\u001b[0;32m--> 429\u001b[0m     qs \u001b[38;5;241m=\u001b[39m inference\u001b[38;5;241m.\u001b[39mupdate_posterior_states(\n\u001b[1;32m    430\u001b[0m     \u001b[38;5;28mself\u001b[39m\u001b[38;5;241m.\u001b[39mA,\n\u001b[1;32m    431\u001b[0m     observation,\n\u001b[1;32m    432\u001b[0m     empirical_prior,\n\u001b[1;32m    433\u001b[0m     \u001b[38;5;241m*\u001b[39m\u001b[38;5;241m*\u001b[39m\u001b[38;5;28mself\u001b[39m\u001b[38;5;241m.\u001b[39minference_params\n\u001b[1;32m    434\u001b[0m     )\n\u001b[1;32m    435\u001b[0m \u001b[38;5;28;01melif\u001b[39;00m \u001b[38;5;28mself\u001b[39m\u001b[38;5;241m.\u001b[39minference_algo \u001b[38;5;241m==\u001b[39m \u001b[38;5;124m\"\u001b[39m\u001b[38;5;124mMMP\u001b[39m\u001b[38;5;124m\"\u001b[39m:\n\u001b[1;32m    437\u001b[0m     \u001b[38;5;28mself\u001b[39m\u001b[38;5;241m.\u001b[39mprev_obs\u001b[38;5;241m.\u001b[39mappend(observation)\n",
      "File \u001b[0;32m/opt/anaconda3/lib/python3.11/site-packages/pymdp/inference.py:242\u001b[0m, in \u001b[0;36mupdate_posterior_states\u001b[0;34m(A, obs, prior, **kwargs)\u001b[0m\n\u001b[1;32m    239\u001b[0m \u001b[38;5;28;01mif\u001b[39;00m prior \u001b[38;5;129;01mis\u001b[39;00m \u001b[38;5;129;01mnot\u001b[39;00m \u001b[38;5;28;01mNone\u001b[39;00m:\n\u001b[1;32m    240\u001b[0m     prior \u001b[38;5;241m=\u001b[39m utils\u001b[38;5;241m.\u001b[39mto_obj_array(prior)\n\u001b[0;32m--> 242\u001b[0m \u001b[38;5;28;01mreturn\u001b[39;00m run_vanilla_fpi(A, obs, num_obs, num_states, prior, \u001b[38;5;241m*\u001b[39m\u001b[38;5;241m*\u001b[39mkwargs)\n",
      "File \u001b[0;32m/opt/anaconda3/lib/python3.11/site-packages/pymdp/algos/fpi.py:57\u001b[0m, in \u001b[0;36mrun_vanilla_fpi\u001b[0;34m(A, obs, num_obs, num_states, prior, num_iter, dF, dF_tol)\u001b[0m\n\u001b[1;32m     48\u001b[0m n_factors \u001b[38;5;241m=\u001b[39m \u001b[38;5;28mlen\u001b[39m(num_states)\n\u001b[1;32m     50\u001b[0m \u001b[38;5;250m\u001b[39m\u001b[38;5;124;03m\"\"\"\u001b[39;00m\n\u001b[1;32m     51\u001b[0m \u001b[38;5;124;03m=========== Step 1 ===========\u001b[39;00m\n\u001b[1;32m     52\u001b[0m \u001b[38;5;124;03m    Loop over the observation modalities and use assumption of independence \u001b[39;00m\n\u001b[1;32m     53\u001b[0m \u001b[38;5;124;03m    among observation modalitiesto multiply each modality-specific likelihood \u001b[39;00m\n\u001b[1;32m     54\u001b[0m \u001b[38;5;124;03m    onto a single joint likelihood over hidden factors [size num_states]\u001b[39;00m\n\u001b[1;32m     55\u001b[0m \u001b[38;5;124;03m\"\"\"\u001b[39;00m\n\u001b[0;32m---> 57\u001b[0m likelihood \u001b[38;5;241m=\u001b[39m get_joint_likelihood(A, obs, num_states)\n\u001b[1;32m     59\u001b[0m likelihood \u001b[38;5;241m=\u001b[39m spm_log_single(likelihood)\n\u001b[1;32m     61\u001b[0m \u001b[38;5;250m\u001b[39m\u001b[38;5;124;03m\"\"\"\u001b[39;00m\n\u001b[1;32m     62\u001b[0m \u001b[38;5;124;03m=========== Step 2 ===========\u001b[39;00m\n\u001b[1;32m     63\u001b[0m \u001b[38;5;124;03m    Create a flat posterior (and prior if necessary)\u001b[39;00m\n\u001b[1;32m     64\u001b[0m \u001b[38;5;124;03m\"\"\"\u001b[39;00m\n",
      "File \u001b[0;32m/opt/anaconda3/lib/python3.11/site-packages/pymdp/maths.py:243\u001b[0m, in \u001b[0;36mget_joint_likelihood\u001b[0;34m(A, obs, num_states)\u001b[0m\n\u001b[1;32m    241\u001b[0m ll \u001b[38;5;241m=\u001b[39m np\u001b[38;5;241m.\u001b[39mones(\u001b[38;5;28mtuple\u001b[39m(num_states))\n\u001b[1;32m    242\u001b[0m \u001b[38;5;28;01mfor\u001b[39;00m modality \u001b[38;5;129;01min\u001b[39;00m \u001b[38;5;28mrange\u001b[39m(\u001b[38;5;28mlen\u001b[39m(A)):\n\u001b[0;32m--> 243\u001b[0m     ll \u001b[38;5;241m=\u001b[39m ll \u001b[38;5;241m*\u001b[39m dot_likelihood(A[modality], obs[modality])\n\u001b[1;32m    244\u001b[0m \u001b[38;5;28;01mreturn\u001b[39;00m ll\n",
      "\u001b[0;31mValueError\u001b[0m: operands could not be broadcast together with shapes (35,) (35,3) "
     ]
    }
   ],
   "source": [
    "history_of_locs = [loc_obs]\n",
    "\n",
    "T = 15\n",
    "\n",
    "for t in range(T):\n",
    "\n",
    "    # Feed Observations ft. infer_states function\n",
    "    for spot in grid_locations:\n",
    "        obs = [grid_locations.index(spot)]\n",
    "\n",
    "        # spot, safety, goal\n",
    "        if spot in red_obs:\n",
    "            obs.append(1)\n",
    "        else:\n",
    "            obs.append(0)\n",
    "        \n",
    "        if spot == green_obs:\n",
    "            obs.append(1)\n",
    "        else:\n",
    "            obs.append(0)\n",
    "\n",
    "        obs = np.array(obs)\n",
    "\n",
    "        noise = np.random.normal(loc=0, scale=0.1, size=obs.shape)\n",
    "        noisy_obs = obs + noise\n",
    "\n",
    "        noisy_obs = np.round(noisy_obs).astype(int)\n",
    "        \n",
    "        print(obs)\n",
    "        print(noisy_obs)\n",
    "        qs = my_agent.infer_states(noisy_obs)\n",
    "\n",
    "        print(qs.shape)\n",
    "        plot_beliefs(qs.all())\n",
    "\n",
    "    \n",
    "    my_agent.infer_policies()\n",
    "    chosen_action_id = my_agent.sample_action()\n",
    "\n",
    "    movement_id = int(chosen_action_id[0])\n",
    "\n",
    "    choice_action = actions[movement_id]\n",
    "\n",
    "    print(f'Action at time {t}: {choice_action}')\n",
    "\n",
    "    \n",
    "    agent_reward, loc_obs, green_obs, white_obs, red_obs = my_env.step(choice_action)\n",
    "    \n",
    "    print(agent_reward, loc_obs, green_obs, white_obs, red_obs)\n",
    "\n",
    "\n",
    "    history_of_locs.append(loc_obs)\n",
    "\n",
    "    print(f'Grid location at time {t}: {loc_obs}')\n",
    "\n",
    "    print(f'Reward at time {t}: {agent_reward}')"
   ]
  }
 ],
 "metadata": {
  "kernelspec": {
   "display_name": "Python 3",
   "language": "python",
   "name": "python3"
  },
  "language_info": {
   "codemirror_mode": {
    "name": "ipython",
    "version": 3
   },
   "file_extension": ".py",
   "mimetype": "text/x-python",
   "name": "python",
   "nbconvert_exporter": "python",
   "pygments_lexer": "ipython3",
   "version": "3.9.6"
  }
 },
 "nbformat": 4,
 "nbformat_minor": 2
}
