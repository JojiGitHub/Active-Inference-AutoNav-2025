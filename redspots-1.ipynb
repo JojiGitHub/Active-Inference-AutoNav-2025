{
 "cells": [
  {
   "cell_type": "markdown",
   "metadata": {},
   "source": [
    "# Redspots Environment\n",
    "\n",
    "## Environment Description\n",
    "\n",
    "A simple gridworld with white (safe) spots, green (rewarding) spots, and red (undesirable/dangerous) spots.\n",
    "\n",
    "## Goal\n",
    "\n",
    "Have an agent map the environment and infer the best way to avoid red spots and get to the green spot."
   ]
  },
  {
   "cell_type": "markdown",
   "metadata": {},
   "source": [
    "# Setup"
   ]
  },
  {
   "cell_type": "markdown",
   "metadata": {},
   "source": [
    "## Imports"
   ]
  },
  {
   "cell_type": "code",
   "execution_count": 102,
   "metadata": {},
   "outputs": [],
   "source": [
    "import numpy as np\n",
    "\n",
    "import matplotlib.pyplot as plt\n",
    "import matplotlib.patches as patches\n",
    "import matplotlib.cm as cm\n",
    "\n",
    "import seaborn as sns\n",
    "\n",
    "import pymdp\n",
    "from pymdp import utils"
   ]
  },
  {
   "cell_type": "markdown",
   "metadata": {},
   "source": [
    "## Auxilary Functions"
   ]
  },
  {
   "cell_type": "code",
   "execution_count": 103,
   "metadata": {},
   "outputs": [],
   "source": [
    "from auxilaryfunctions import plot_grid, add_noise, plot_likelihood, plot_beliefs"
   ]
  },
  {
   "cell_type": "markdown",
   "metadata": {},
   "source": [
    "## Parameters"
   ]
  },
  {
   "cell_type": "markdown",
   "metadata": {},
   "source": [
    "### Grid"
   ]
  },
  {
   "cell_type": "code",
   "execution_count": 104,
   "metadata": {},
   "outputs": [],
   "source": [
    "# grid_dimensions\n",
    "grid_dims = [8,5]\n",
    "\n",
    "# list of grid positiions\n",
    "grid_locations = []\n",
    "for i in range(grid_dims[0]):\n",
    "    for j in range(grid_dims[1]):\n",
    "        grid_locations.append((i,j))"
   ]
  },
  {
   "cell_type": "code",
   "execution_count": 105,
   "metadata": {},
   "outputs": [],
   "source": [
    "redspots = [(1,2), (3,2), (4,4), (6,1)]"
   ]
  },
  {
   "cell_type": "code",
   "execution_count": 106,
   "metadata": {},
   "outputs": [],
   "source": [
    "# start point\n",
    "agent_pos = (0,0)\n",
    "\n",
    "# end goal\n",
    "goal_location = (6,4)"
   ]
  },
  {
   "cell_type": "markdown",
   "metadata": {},
   "source": [
    "## Generative Model"
   ]
  },
  {
   "cell_type": "markdown",
   "metadata": {},
   "source": [
    "### States & Observations\n",
    "\n",
    "s1 = current location \\\n",
    "s2 = attribute of current location\n",
    "\n",
    "o1 = observed current location \\\n",
    "o2 = color of current location"
   ]
  },
  {
   "cell_type": "code",
   "execution_count": 107,
   "metadata": {},
   "outputs": [],
   "source": [
    "# s1 is already defined = grid_locations\n",
    "\n",
    "# s2\n",
    "current_attribute = ['SAFE', 'DANGER', 'REWARDING']\n",
    "\n",
    "# list of # of possibillities for states\n",
    "num_states = [len(grid_locations), len(current_attribute)] # location"
   ]
  },
  {
   "cell_type": "code",
   "execution_count": 108,
   "metadata": {},
   "outputs": [],
   "source": [
    "# o1 is already defined = grid_locatioons\n",
    "\n",
    "# o2\n",
    "current_color = ['WHITE', 'RED', 'GREEN']\n",
    "\n",
    "# list of # of possibilities for observations\n",
    "num_obs = [len(grid_locations), len(current_color)]"
   ]
  },
  {
   "cell_type": "markdown",
   "metadata": {},
   "source": [
    "# Generative Model"
   ]
  },
  {
   "cell_type": "markdown",
   "metadata": {},
   "source": [
    "## Rule-based Matrix"
   ]
  },
  {
   "cell_type": "code",
   "execution_count": 109,
   "metadata": {},
   "outputs": [
    {
     "data": {
      "text/plain": [
       "array([[0.33333333, 0.33333333, 0.33333333],\n",
       "       [0.33333333, 0.33333333, 0.33333333],\n",
       "       [0.33333333, 0.33333333, 0.33333333],\n",
       "       [0.33333333, 0.33333333, 0.33333333],\n",
       "       [0.33333333, 0.33333333, 0.33333333],\n",
       "       [0.33333333, 0.33333333, 0.33333333],\n",
       "       [0.33333333, 0.33333333, 0.33333333],\n",
       "       [0.33333333, 0.33333333, 0.33333333],\n",
       "       [0.33333333, 0.33333333, 0.33333333],\n",
       "       [0.33333333, 0.33333333, 0.33333333],\n",
       "       [0.33333333, 0.33333333, 0.33333333],\n",
       "       [0.33333333, 0.33333333, 0.33333333],\n",
       "       [0.33333333, 0.33333333, 0.33333333],\n",
       "       [0.33333333, 0.33333333, 0.33333333],\n",
       "       [0.33333333, 0.33333333, 0.33333333],\n",
       "       [0.33333333, 0.33333333, 0.33333333],\n",
       "       [0.33333333, 0.33333333, 0.33333333],\n",
       "       [0.33333333, 0.33333333, 0.33333333],\n",
       "       [0.33333333, 0.33333333, 0.33333333],\n",
       "       [0.33333333, 0.33333333, 0.33333333],\n",
       "       [0.33333333, 0.33333333, 0.33333333],\n",
       "       [0.33333333, 0.33333333, 0.33333333],\n",
       "       [0.33333333, 0.33333333, 0.33333333],\n",
       "       [0.33333333, 0.33333333, 0.33333333],\n",
       "       [0.33333333, 0.33333333, 0.33333333],\n",
       "       [0.33333333, 0.33333333, 0.33333333],\n",
       "       [0.33333333, 0.33333333, 0.33333333],\n",
       "       [0.33333333, 0.33333333, 0.33333333],\n",
       "       [0.33333333, 0.33333333, 0.33333333],\n",
       "       [0.33333333, 0.33333333, 0.33333333],\n",
       "       [0.33333333, 0.33333333, 0.33333333],\n",
       "       [0.33333333, 0.33333333, 0.33333333],\n",
       "       [0.33333333, 0.33333333, 0.33333333],\n",
       "       [0.33333333, 0.33333333, 0.33333333],\n",
       "       [0.33333333, 0.33333333, 0.33333333],\n",
       "       [0.33333333, 0.33333333, 0.33333333],\n",
       "       [0.33333333, 0.33333333, 0.33333333],\n",
       "       [0.33333333, 0.33333333, 0.33333333],\n",
       "       [0.33333333, 0.33333333, 0.33333333],\n",
       "       [0.33333333, 0.33333333, 0.33333333]])"
      ]
     },
     "execution_count": 109,
     "metadata": {},
     "output_type": "execute_result"
    }
   ],
   "source": [
    "rule_matrix = np.zeros((num_states[0], num_states[1]))\n",
    "\n",
    "# Rule-based assignment\n",
    "for loc in range(num_states[0]):\n",
    "    # Example: Assume all locations have [SAFE: 0.7, DANGER: 0.2, REWARDING: 0.1]\n",
    "    rule_matrix[loc] = np.array([0.33, 0.33, 0.33])\n",
    "    rule_matrix[loc] /= rule_matrix[loc].sum()\n",
    "\n",
    "    # Normalize each location's attribute distribution (ensure sum = 1)\n",
    "\n",
    "rule_matrix"
   ]
  },
  {
   "cell_type": "code",
   "execution_count": 110,
   "metadata": {},
   "outputs": [],
   "source": [
    "# red, green, white, one-hot encoded\n",
    "# rule_matrix -> white, red, green -> safe, dangerous, rewarding\n",
    "\n",
    "def update_rule_matrix(rule_matrix, beliefs):\n",
    "\n",
    "    # Take current location\n",
    "    s1 = np.argmax(beliefs[0])\n",
    "\n",
    "    # Take safety belief\n",
    "    s2 = np.argmax(beliefs[1])\n",
    "\n",
    "    # one hot encoding\n",
    "    if s2 == 0: rule_matrix[s1] = [1, 0, 0]\n",
    "    elif s2 == 1: rule_matrix[s1] = [0, 1, 0]\n",
    "    else: rule_matrix[s1] = [0, 0, 1]\n",
    "\n",
    "    return rule_matrix"
   ]
  },
  {
   "cell_type": "markdown",
   "metadata": {},
   "source": [
    "## A Matrix"
   ]
  },
  {
   "cell_type": "code",
   "execution_count": 111,
   "metadata": {},
   "outputs": [
    {
     "data": {
      "text/plain": [
       "((2,), [[40, 40, 3], [3, 40, 3]])"
      ]
     },
     "execution_count": 111,
     "metadata": {},
     "output_type": "execute_result"
    }
   ],
   "source": [
    "# Define A Matrix\n",
    "A_shapes = []\n",
    "for i in num_obs:\n",
    "    A_shapes.append([i] + num_states)\n",
    "\n",
    "A = utils.obj_array_zeros(A_shapes)\n",
    "A.shape, A_shapes"
   ]
  },
  {
   "cell_type": "markdown",
   "metadata": {},
   "source": [
    "### Location Observation Modality A[0]"
   ]
  },
  {
   "cell_type": "code",
   "execution_count": 112,
   "metadata": {},
   "outputs": [
    {
     "name": "stdout",
     "output_type": "stream",
     "text": [
      "New A[0] shape: (40, 40, 3)\n",
      "Column sums: [3. 3. 3. 3. 3. 3. 3. 3. 3. 3. 3. 3. 3. 3. 3. 3. 3. 3. 3. 3. 3. 3. 3. 3.\n",
      " 3. 3. 3. 3. 3. 3. 3. 3. 3. 3. 3. 3. 3. 3. 3. 3.]\n"
     ]
    }
   ],
   "source": [
    "A[0] = np.zeros(A_shapes[0])  # Initialize with zeros\n",
    "\n",
    "# Fill in the observation mapping for each safety level\n",
    "for safety_level in range(num_states[1]):\n",
    "    A[0][:,:,safety_level] = np.eye(num_states[0])  # Copy the identity matrix for each safety level\n",
    "\n",
    "# Verify the shape and normalization\n",
    "print(\"New A[0] shape:\", A[0].shape)\n",
    "print(\"Column sums:\", A[0].sum(axis=0).sum(axis=1))  # Should be all 1's"
   ]
  },
  {
   "cell_type": "code",
   "execution_count": 113,
   "metadata": {},
   "outputs": [
    {
     "ename": "NameError",
     "evalue": "name 'np' is not defined",
     "output_type": "error",
     "traceback": [
      "\u001b[0;31m---------------------------------------------------------------------------\u001b[0m",
      "\u001b[0;31mNameError\u001b[0m                                 Traceback (most recent call last)",
      "Cell \u001b[0;32mIn[113], line 3\u001b[0m\n\u001b[1;32m      1\u001b[0m \u001b[38;5;66;03m# Extract a 2D slice by fixing all other dimensions to 0\u001b[39;00m\n\u001b[1;32m      2\u001b[0m \u001b[38;5;28;01mimport\u001b[39;00m \u001b[38;5;21;01mnumpy\u001b[39;00m \u001b[38;5;28;01mas\u001b[39;00m \u001b[38;5;21;01mnp\u001b[39;00m\n\u001b[0;32m----> 3\u001b[0m plot_likelihood(A[\u001b[38;5;241m0\u001b[39m][:, :, :], \u001b[38;5;124m\"\u001b[39m\u001b[38;5;124mLocation observation likelihood matrix\u001b[39m\u001b[38;5;124m\"\u001b[39m)\n",
      "File \u001b[0;32m~/Desktop/ISEF/Active Inference/Active-Inference-2025/auxilaryfunctions.py:19\u001b[0m, in \u001b[0;36mplot_likelihood\u001b[0;34m(matrix, title_str)\u001b[0m\n\u001b[1;32m     14\u001b[0m \u001b[38;5;28;01mdef\u001b[39;00m \u001b[38;5;21mplot_likelihood\u001b[39m(matrix, title_str \u001b[38;5;241m=\u001b[39m \u001b[38;5;124m\"\u001b[39m\u001b[38;5;124mLikelihood distribution (A)\u001b[39m\u001b[38;5;124m\"\u001b[39m):\n\u001b[1;32m     15\u001b[0m \u001b[38;5;250m    \u001b[39m\u001b[38;5;124;03m\"\"\"\u001b[39;00m\n\u001b[1;32m     16\u001b[0m \u001b[38;5;124;03m    Plots a 2-D likelihood matrix as a heatmap\u001b[39;00m\n\u001b[1;32m     17\u001b[0m \u001b[38;5;124;03m    \"\"\"\u001b[39;00m\n\u001b[0;32m---> 19\u001b[0m     \u001b[38;5;28;01mif\u001b[39;00m \u001b[38;5;129;01mnot\u001b[39;00m np\u001b[38;5;241m.\u001b[39misclose(matrix\u001b[38;5;241m.\u001b[39msum(axis\u001b[38;5;241m=\u001b[39m\u001b[38;5;241m0\u001b[39m), \u001b[38;5;241m1.0\u001b[39m)\u001b[38;5;241m.\u001b[39mall():\n\u001b[1;32m     20\u001b[0m       \u001b[38;5;28;01mraise\u001b[39;00m \u001b[38;5;167;01mValueError\u001b[39;00m(\u001b[38;5;124m\"\u001b[39m\u001b[38;5;124mDistribution not column-normalized! Please normalize (ensure matrix.sum(axis=0) == 1.0 for all columns)\u001b[39m\u001b[38;5;124m\"\u001b[39m)\n\u001b[1;32m     22\u001b[0m     fig \u001b[38;5;241m=\u001b[39m plt\u001b[38;5;241m.\u001b[39mfigure(figsize \u001b[38;5;241m=\u001b[39m (\u001b[38;5;241m6\u001b[39m,\u001b[38;5;241m6\u001b[39m))\n",
      "\u001b[0;31mNameError\u001b[0m: name 'np' is not defined"
     ]
    }
   ],
   "source": [
    "# Extract a 2D slice by fixing all other dimensions to 0\n",
    "import numpy as np\n",
    "plot_likelihood(A[0][:, :, :], \"Location observation likelihood matrix\")"
   ]
  },
  {
   "cell_type": "markdown",
   "metadata": {},
   "source": [
    "### Color observation modality: A[1]"
   ]
  },
  {
   "cell_type": "code",
   "execution_count": 114,
   "metadata": {},
   "outputs": [],
   "source": [
    "# Map safety levels to indices\n",
    "safety_level_to_index = {state: i for i, state in enumerate(current_attribute)}  # {'SAFE': 0, 'DANGER': 1, 'REWARDING': 2}\n",
    "\n",
    "# Probabilities for each color given the safety level (in correct heatmap order: RED, GREEN, WHITE)\n",
    "probabilities = {\n",
    "    \"SAFE\": [1, 0, 0],        # ['WHITE', 'RED', 'GREEN']\n",
    "    \"DANGER\": [0, 1, 0.],      # ['WHITE', 'RED', 'GREEN']\n",
    "    \"REWARDING\": [0, 0, 1]    # ['WHITE', 'RED', 'GREEN']\n",
    "}"
   ]
  },
  {
   "cell_type": "code",
   "execution_count": 115,
   "metadata": {},
   "outputs": [],
   "source": [
    "# Populate A[1]\n",
    "for safety_level, probs in probabilities.items():\n",
    "    safety_idx = safety_level_to_index[safety_level]\n",
    "    for loc in range(len(grid_locations)):  # Iterate over grid locations\n",
    "        for color_idx, prob in enumerate(probs):  # Iterate over colors (RED, GREEN, WHITE)\n",
    "            A[1][color_idx, loc, safety_idx] = prob  # Assign probabilities"
   ]
  },
  {
   "cell_type": "code",
   "execution_count": 116,
   "metadata": {},
   "outputs": [
    {
     "data": {
      "image/png": "[encoded data removed]",
      "text/plain": [
       "<Figure size 1500x500 with 3 Axes>"
      ]
     },
     "metadata": {},
     "output_type": "display_data"
    }
   ],
   "source": [
    "# Create a figure with 3 subplots (one for each safety state)\n",
    "fig, axes = plt.subplots(1, 3, figsize=(15, 5))\n",
    "\n",
    "# Extract and plot each safety state slice\n",
    "for safety_idx in range(3):\n",
    "    # Get a slice for the current safety state (fixing all other dimensions to 0)\n",
    "    slice_matrix = A[1][:, :, safety_idx]\n",
    "    \n",
    "    # Plot the slice\n",
    "    sns.heatmap(slice_matrix, ax=axes[safety_idx], cmap='gray', cbar=False, vmin=0.0, vmax=1.0)\n",
    "    axes[safety_idx].set_title(f'Safety State {safety_idx}')\n",
    "    axes[safety_idx].set_xlabel('Location States')\n",
    "    if safety_idx == 0:\n",
    "        axes[safety_idx].set_ylabel('Color Observations')\n",
    "\n",
    "plt.tight_layout()\n",
    "plt.show()"
   ]
  },
  {
   "cell_type": "markdown",
   "metadata": {},
   "source": [
    "### Add Noise"
   ]
  },
  {
   "cell_type": "code",
   "execution_count": 117,
   "metadata": {},
   "outputs": [
    {
     "ename": "NameError",
     "evalue": "name 'np' is not defined",
     "output_type": "error",
     "traceback": [
      "\u001b[0;31m---------------------------------------------------------------------------\u001b[0m",
      "\u001b[0;31mNameError\u001b[0m                                 Traceback (most recent call last)",
      "Cell \u001b[0;32mIn[117], line 3\u001b[0m\n\u001b[1;32m      1\u001b[0m \u001b[38;5;66;03m# Add noise to each modality separately\u001b[39;00m\n\u001b[1;32m      2\u001b[0m \u001b[38;5;28;01mfor\u001b[39;00m modality \u001b[38;5;129;01min\u001b[39;00m \u001b[38;5;28mrange\u001b[39m(\u001b[38;5;28mlen\u001b[39m(A)):\n\u001b[0;32m----> 3\u001b[0m     A[modality] \u001b[38;5;241m=\u001b[39m add_noise(A[modality], noise_level\u001b[38;5;241m=\u001b[39m\u001b[38;5;241m0\u001b[39m)\n",
      "File \u001b[0;32m~/Desktop/ISEF/Active Inference/Active-Inference-2025/auxilaryfunctions.py:51\u001b[0m, in \u001b[0;36madd_noise\u001b[0;34m(matrix, noise_level)\u001b[0m\n\u001b[1;32m     43\u001b[0m \u001b[38;5;250m\u001b[39m\u001b[38;5;124;03m\"\"\"\u001b[39;00m\n\u001b[1;32m     44\u001b[0m \u001b[38;5;124;03mAdd noise to transition matrix while preserving normalization\u001b[39;00m\n\u001b[1;32m     45\u001b[0m \u001b[38;5;124;03m\u001b[39;00m\n\u001b[0;32m   (...)\u001b[0m\n\u001b[1;32m     48\u001b[0m \u001b[38;5;124;03m    noise_level: Amount of noise to add (0-1)\u001b[39;00m\n\u001b[1;32m     49\u001b[0m \u001b[38;5;124;03m\"\"\"\u001b[39;00m\n\u001b[1;32m     50\u001b[0m \u001b[38;5;66;03m# Generate random noise\u001b[39;00m\n\u001b[0;32m---> 51\u001b[0m noise \u001b[38;5;241m=\u001b[39m np\u001b[38;5;241m.\u001b[39mrandom\u001b[38;5;241m.\u001b[39muniform(\u001b[38;5;241m-\u001b[39mnoise_level, noise_level, size\u001b[38;5;241m=\u001b[39mmatrix\u001b[38;5;241m.\u001b[39mshape)\n\u001b[1;32m     53\u001b[0m \u001b[38;5;28mprint\u001b[39m(noise) \n\u001b[1;32m     55\u001b[0m \u001b[38;5;66;03m# Add noise to matrix\u001b[39;00m\n",
      "\u001b[0;31mNameError\u001b[0m: name 'np' is not defined"
     ]
    }
   ],
   "source": [
    "# Add noise to each modality separately\n",
    "for modality in range(len(A)):\n",
    "    A[modality] = add_noise(A[modality], noise_level=0)"
   ]
  },
  {
   "cell_type": "markdown",
   "metadata": {},
   "source": [
    "### Plot Each Matrix"
   ]
  },
  {
   "cell_type": "markdown",
   "metadata": {},
   "source": [
    "## B Matrix"
   ]
  },
  {
   "cell_type": "markdown",
   "metadata": {},
   "source": [
    "### Define Shape"
   ]
  },
  {
   "cell_type": "code",
   "execution_count": 125,
   "metadata": {},
   "outputs": [
    {
     "data": {
      "text/plain": [
       "[[40, 40, 5], [3, 3, 1]]"
      ]
     },
     "execution_count": 125,
     "metadata": {},
     "output_type": "execute_result"
    }
   ],
   "source": [
    "num_controls = [5, 1]\n",
    "B_f_shapes = [ [ns, ns, num_controls[f]] for f, ns in enumerate(num_states)]\n",
    "B = utils.obj_array_zeros(B_f_shapes)\n",
    "B_f_shapes"
   ]
  },
  {
   "cell_type": "markdown",
   "metadata": {},
   "source": [
    "### B[0] - Control Factor - Location Transitions"
   ]
  },
  {
   "cell_type": "code",
   "execution_count": 126,
   "metadata": {},
   "outputs": [
    {
     "data": {
      "text/plain": [
       "[8, 5]"
      ]
     },
     "execution_count": 126,
     "metadata": {},
     "output_type": "execute_result"
    }
   ],
   "source": [
    "grid_dims"
   ]
  },
  {
   "cell_type": "code",
   "execution_count": 127,
   "metadata": {},
   "outputs": [],
   "source": [
    "actions = [\"UP\", \"DOWN\", \"LEFT\", \"RIGHT\", \"STAY\"]"
   ]
  },
  {
   "cell_type": "code",
   "execution_count": 128,
   "metadata": {},
   "outputs": [],
   "source": [
    "for action_id, action_label in enumerate(actions):\n",
    "  \n",
    "    for curr_state, (x, y) in enumerate(grid_locations):\n",
    "        \n",
    "        # Calculate next position based on action\n",
    "        if action_label == \"UP\":\n",
    "            next_y = max(0, y - 1)        # Move up (decrease y)\n",
    "            next_x = x\n",
    "        elif action_label == \"DOWN\":\n",
    "            next_y = min(grid_dims[1]-1, y + 1)  # Move down (increase y)\n",
    "            next_x = x\n",
    "        elif action_label == \"LEFT\":\n",
    "            next_x = max(0, x - 1)        # Move left (decrease x)\n",
    "            next_y = y\n",
    "        elif action_label == \"RIGHT\":\n",
    "            next_x = min(grid_dims[0]-1, x + 1)  # Move right (increase x)\n",
    "            next_y = y\n",
    "        else:  # STAY\n",
    "            next_x = x\n",
    "            next_y = y\n",
    "        \n",
    "        # Get the state index for the next position\n",
    "        next_state = grid_locations.index((next_x, next_y))\n",
    "        \n",
    "        # Set transition probability to 1.0\n",
    "        B[0][next_state, curr_state, action_id] = 1.0"
   ]
  },
  {
   "cell_type": "markdown",
   "metadata": {},
   "source": [
    "### B[1] - Non-Control Factor - Identity Matrix"
   ]
  },
  {
   "cell_type": "code",
   "execution_count": 129,
   "metadata": {},
   "outputs": [],
   "source": [
    "# Initialize safety level transition matrix (no changes for safety levels)\n",
    "B[1][:,:,0] = np.eye(3)  # Identity matrix for safety level transitions"
   ]
  },
  {
   "cell_type": "markdown",
   "metadata": {},
   "source": [
    "### Normalization"
   ]
  },
  {
   "cell_type": "code",
   "execution_count": 131,
   "metadata": {},
   "outputs": [],
   "source": [
    "# Normalize B matrix columns for each action\n",
    "for action_id in range(len(actions)):\n",
    "    # Get slice for current action\n",
    "    B_action = B[0][..., action_id]\n",
    "    \n",
    "    # Replace zero columns with ones in appropriate positions\n",
    "    zero_cols = (B_action.sum(axis=0) == 0)\n",
    "    for col in range(B_action.shape[1]):\n",
    "        if zero_cols[col]:\n",
    "            # Stay in the same state if no transition is defined\n",
    "            B_action[col, col] = 1.0\n",
    "    \n",
    "    # Normalize columns\n",
    "    column_sums = B_action.sum(axis=0)\n",
    "    B[0][..., action_id] = B_action / column_sums[None, :]\n",
    "\n",
    "# Verify normalization\n",
    "for action_id in range(len(actions)):\n",
    "    assert np.allclose(B[0][..., action_id].sum(axis=0), 1.0), f\"Action {actions[action_id]} not normalized\""
   ]
  },
  {
   "cell_type": "code",
   "execution_count": 132,
   "metadata": {},
   "outputs": [
    {
     "name": "stdout",
     "output_type": "stream",
     "text": [
      "[[[1.]\n",
      "  [0.]\n",
      "  [0.]]\n",
      "\n",
      " [[0.]\n",
      "  [1.]\n",
      "  [0.]]\n",
      "\n",
      " [[0.]\n",
      "  [0.]\n",
      "  [1.]]]\n"
     ]
    }
   ],
   "source": [
    "print(B[1])"
   ]
  },
  {
   "cell_type": "markdown",
   "metadata": {},
   "source": [
    "## C Vectors (prior preferences)"
   ]
  },
  {
   "cell_type": "markdown",
   "metadata": {},
   "source": [
    "### Initialize"
   ]
  },
  {
   "cell_type": "code",
   "execution_count": 133,
   "metadata": {},
   "outputs": [
    {
     "name": "stdout",
     "output_type": "stream",
     "text": [
      "(2,)\n"
     ]
    }
   ],
   "source": [
    "C = utils.obj_array_zeros(num_obs)  # Initialize C array with shape matching num_obs\n",
    "print(C.shape)"
   ]
  },
  {
   "cell_type": "markdown",
   "metadata": {},
   "source": [
    "### C[0] - Preference for location observations"
   ]
  },
  {
   "cell_type": "code",
   "execution_count": 134,
   "metadata": {},
   "outputs": [
    {
     "data": {
      "text/plain": [
       "(6, 4)"
      ]
     },
     "execution_count": 134,
     "metadata": {},
     "output_type": "execute_result"
    }
   ],
   "source": [
    "goal_location"
   ]
  },
  {
   "cell_type": "code",
   "execution_count": 135,
   "metadata": {},
   "outputs": [
    {
     "name": "stdout",
     "output_type": "stream",
     "text": [
      "[1. 1. 1. 1. 1. 1. 1. 1. 1. 1. 1. 1. 1. 1. 1. 1. 1. 1. 1. 1. 1. 1. 1. 1.\n",
      " 1. 1. 1. 1. 1. 1. 1. 1. 1. 1. 2. 1. 1. 1. 1. 1.]\n"
     ]
    }
   ],
   "source": [
    "# Set preferences for state observations (location)\n",
    "C[0] = np.ones(len(grid_locations))\n",
    "C[0][grid_locations.index(goal_location)] += 1\n",
    "\n",
    "print(C[0])"
   ]
  },
  {
   "cell_type": "code",
   "execution_count": 136,
   "metadata": {},
   "outputs": [
    {
     "name": "stdout",
     "output_type": "stream",
     "text": [
      "(0, 0) 0 7.211102550927978\n",
      "(0, 1) 1 6.708203932499369\n",
      "(0, 2) 2 6.324555320336759\n",
      "(0, 3) 3 6.082762530298219\n",
      "(0, 4) 4 6.0\n",
      "(1, 0) 5 6.4031242374328485\n",
      "(1, 1) 6 5.830951894845301\n",
      "(1, 2) 7 5.385164807134504\n",
      "(1, 3) 8 5.0990195135927845\n",
      "(1, 4) 9 5.0\n",
      "(2, 0) 10 5.656854249492381\n",
      "(2, 1) 11 5.0\n",
      "(2, 2) 12 4.47213595499958\n",
      "(2, 3) 13 4.123105625617661\n",
      "(2, 4) 14 4.0\n",
      "(3, 0) 15 5.0\n",
      "(3, 1) 16 4.242640687119285\n",
      "(3, 2) 17 3.605551275463989\n",
      "(3, 3) 18 3.1622776601683795\n",
      "(3, 4) 19 3.0\n",
      "(4, 0) 20 4.47213595499958\n",
      "(4, 1) 21 3.605551275463989\n",
      "(4, 2) 22 2.8284271247461903\n",
      "(4, 3) 23 2.23606797749979\n",
      "(4, 4) 24 2.0\n",
      "(5, 0) 25 4.123105625617661\n",
      "(5, 1) 26 3.1622776601683795\n",
      "(5, 2) 27 2.23606797749979\n",
      "(5, 3) 28 1.4142135623730951\n",
      "(5, 4) 29 1.0\n",
      "(6, 0) 30 4.0\n",
      "(6, 1) 31 3.0\n",
      "(6, 2) 32 2.0\n",
      "(6, 3) 33 1.0\n",
      "(6, 4) 34 0.0\n",
      "(7, 0) 35 4.123105625617661\n",
      "(7, 1) 36 3.1622776601683795\n",
      "(7, 2) 37 2.23606797749979\n",
      "(7, 3) 38 1.4142135623730951\n",
      "(7, 4) 39 1.0\n"
     ]
    }
   ],
   "source": [
    "for i, loc in enumerate(grid_locations):\n",
    "    x = ((goal_location[0] - loc[0])**2 + (goal_location[1] - loc[1])**2) ** 0.5\n",
    "    print(loc, i, x)\n",
    "    C[0][i] -= x * 0.1"
   ]
  },
  {
   "cell_type": "code",
   "execution_count": 137,
   "metadata": {},
   "outputs": [
    {
     "name": "stdout",
     "output_type": "stream",
     "text": [
      "[0.27888974 0.32917961 0.36754447 0.39172375 0.4        0.35968758\n",
      " 0.41690481 0.46148352 0.49009805 0.5        0.43431458 0.5\n",
      " 0.5527864  0.58768944 0.6        0.5        0.57573593 0.63944487\n",
      " 0.68377223 0.7        0.5527864  0.63944487 0.71715729 0.7763932\n",
      " 0.8        0.58768944 0.68377223 0.7763932  0.85857864 0.9\n",
      " 0.6        0.7        0.8        0.9        2.         0.58768944\n",
      " 0.68377223 0.7763932  0.85857864 0.9       ]\n"
     ]
    }
   ],
   "source": [
    "print(C[0])"
   ]
  },
  {
   "cell_type": "code",
   "execution_count": 138,
   "metadata": {},
   "outputs": [],
   "source": [
    "from pymdp.maths import softmax"
   ]
  },
  {
   "cell_type": "code",
   "execution_count": 139,
   "metadata": {},
   "outputs": [],
   "source": [
    "C[0] = softmax(C[0])"
   ]
  },
  {
   "cell_type": "code",
   "execution_count": 140,
   "metadata": {},
   "outputs": [
    {
     "ename": "NameError",
     "evalue": "name 'np' is not defined",
     "output_type": "error",
     "traceback": [
      "\u001b[0;31m---------------------------------------------------------------------------\u001b[0m",
      "\u001b[0;31mNameError\u001b[0m                                 Traceback (most recent call last)",
      "Cell \u001b[0;32mIn[140], line 1\u001b[0m\n\u001b[0;32m----> 1\u001b[0m plot_beliefs(C[\u001b[38;5;241m0\u001b[39m])\n",
      "File \u001b[0;32m~/Desktop/ISEF/Active Inference/Active-Inference-2025/auxilaryfunctions.py:33\u001b[0m, in \u001b[0;36mplot_beliefs\u001b[0;34m(belief_dist, title_str)\u001b[0m\n\u001b[1;32m     30\u001b[0m \u001b[38;5;28;01mdef\u001b[39;00m \u001b[38;5;21mplot_beliefs\u001b[39m(belief_dist, title_str\u001b[38;5;241m=\u001b[39m\u001b[38;5;124m\"\u001b[39m\u001b[38;5;124m\"\u001b[39m):\n\u001b[1;32m     31\u001b[0m \u001b[38;5;250m    \u001b[39m\u001b[38;5;124;03m\"\"\"\u001b[39;00m\n\u001b[1;32m     32\u001b[0m \u001b[38;5;124;03m    Plot a categorical distribution or belief distribution, stored in the 1-D numpy vector `belief_dist`\u001b[39;00m\n\u001b[0;32m---> 33\u001b[0m \u001b[38;5;124;03m    \"\"\"\u001b[39;00m\n\u001b[1;32m     35\u001b[0m     \u001b[38;5;28;01mif\u001b[39;00m \u001b[38;5;129;01mnot\u001b[39;00m np\u001b[38;5;241m.\u001b[39misclose(belief_dist\u001b[38;5;241m.\u001b[39msum(), \u001b[38;5;241m1.0\u001b[39m):\n\u001b[1;32m     36\u001b[0m       \u001b[38;5;28;01mraise\u001b[39;00m \u001b[38;5;167;01mValueError\u001b[39;00m(\u001b[38;5;124m\"\u001b[39m\u001b[38;5;124mDistribution not normalized! Please normalize\u001b[39m\u001b[38;5;124m\"\u001b[39m)\n",
      "\u001b[0;31mNameError\u001b[0m: name 'np' is not defined"
     ]
    }
   ],
   "source": [
    "plot_beliefs(C[0])"
   ]
  },
  {
   "cell_type": "markdown",
   "metadata": {},
   "source": [
    "### C[1] - Preference for color observations"
   ]
  },
  {
   "cell_type": "code",
   "execution_count": 141,
   "metadata": {},
   "outputs": [],
   "source": [
    "# white, red, green <- order it's encoded in"
   ]
  },
  {
   "cell_type": "code",
   "execution_count": 142,
   "metadata": {},
   "outputs": [
    {
     "name": "stdout",
     "output_type": "stream",
     "text": [
      "[-0.1 -1.   1.1]\n"
     ]
    }
   ],
   "source": [
    "# Set preferences for color observations\n",
    "C[1] = np.zeros((num_obs[1],))\n",
    "C[1][0] = -0.1\n",
    "C[1][1] = -1\n",
    "C[1][2] = 1.1\n",
    "\n",
    "print(C[1])\n"
   ]
  },
  {
   "cell_type": "markdown",
   "metadata": {},
   "source": [
    "## D Vectors: Prior beliefs about hidden states"
   ]
  },
  {
   "cell_type": "markdown",
   "metadata": {},
   "source": [
    "### Initialize"
   ]
  },
  {
   "cell_type": "code",
   "execution_count": 144,
   "metadata": {},
   "outputs": [
    {
     "data": {
      "text/plain": [
       "[40, 3]"
      ]
     },
     "execution_count": 144,
     "metadata": {},
     "output_type": "execute_result"
    }
   ],
   "source": [
    "# Shape\n",
    "num_states"
   ]
  },
  {
   "cell_type": "code",
   "execution_count": 145,
   "metadata": {},
   "outputs": [],
   "source": [
    "D = utils.obj_array_uniform(num_states)"
   ]
  },
  {
   "cell_type": "markdown",
   "metadata": {},
   "source": [
    "### D[0] - Belief About Current Location"
   ]
  },
  {
   "cell_type": "code",
   "execution_count": 146,
   "metadata": {},
   "outputs": [
    {
     "name": "stdout",
     "output_type": "stream",
     "text": [
      "D[0] shape (Location prior): (40,)\n"
     ]
    },
    {
     "data": {
      "text/plain": [
       "array([1., 0., 0., 0., 0., 0., 0., 0., 0., 0., 0., 0., 0., 0., 0., 0., 0.,\n",
       "       0., 0., 0., 0., 0., 0., 0., 0., 0., 0., 0., 0., 0., 0., 0., 0., 0.,\n",
       "       0., 0., 0., 0., 0., 0.])"
      ]
     },
     "execution_count": 146,
     "metadata": {},
     "output_type": "execute_result"
    }
   ],
   "source": [
    "# Define prior belief about agent's location (same as before)\n",
    "D[0] = np.zeros(num_states[0])  # Shape (35,)\n",
    "D[0][grid_locations.index(agent_pos)] = 1.0  # One-hot encoding for location\n",
    "\n",
    "print(\"D[0] shape (Location prior):\", D[0].shape)  # (35,)\n",
    "D[0]"
   ]
  },
  {
   "cell_type": "code",
   "execution_count": 147,
   "metadata": {},
   "outputs": [],
   "source": [
    "# # Initialize uniform distribution over locations\n",
    "# D[0] = np.ones(num_states[0]) / num_states[0]  # Create normalized uniform distribution over all locations\n",
    "\n",
    "# D[0]"
   ]
  },
  {
   "cell_type": "markdown",
   "metadata": {},
   "source": [
    "### D[1] - Belief About Attribute of Current Location"
   ]
  },
  {
   "cell_type": "code",
   "execution_count": 148,
   "metadata": {},
   "outputs": [
    {
     "data": {
      "text/plain": [
       "(3,)"
      ]
     },
     "execution_count": 148,
     "metadata": {},
     "output_type": "execute_result"
    }
   ],
   "source": [
    "D[1] = np.ones(num_states[1]) / num_states[1]  # Create normalized uniform distribution over all locations\n",
    "D[1].shape"
   ]
  },
  {
   "cell_type": "code",
   "execution_count": 149,
   "metadata": {},
   "outputs": [
    {
     "ename": "NameError",
     "evalue": "name 'np' is not defined",
     "output_type": "error",
     "traceback": [
      "\u001b[0;31m---------------------------------------------------------------------------\u001b[0m",
      "\u001b[0;31mNameError\u001b[0m                                 Traceback (most recent call last)",
      "Cell \u001b[0;32mIn[149], line 1\u001b[0m\n\u001b[0;32m----> 1\u001b[0m plot_beliefs(D[\u001b[38;5;241m0\u001b[39m])\n",
      "File \u001b[0;32m~/Desktop/ISEF/Active Inference/Active-Inference-2025/auxilaryfunctions.py:33\u001b[0m, in \u001b[0;36mplot_beliefs\u001b[0;34m(belief_dist, title_str)\u001b[0m\n\u001b[1;32m     30\u001b[0m \u001b[38;5;28;01mdef\u001b[39;00m \u001b[38;5;21mplot_beliefs\u001b[39m(belief_dist, title_str\u001b[38;5;241m=\u001b[39m\u001b[38;5;124m\"\u001b[39m\u001b[38;5;124m\"\u001b[39m):\n\u001b[1;32m     31\u001b[0m \u001b[38;5;250m    \u001b[39m\u001b[38;5;124;03m\"\"\"\u001b[39;00m\n\u001b[1;32m     32\u001b[0m \u001b[38;5;124;03m    Plot a categorical distribution or belief distribution, stored in the 1-D numpy vector `belief_dist`\u001b[39;00m\n\u001b[0;32m---> 33\u001b[0m \u001b[38;5;124;03m    \"\"\"\u001b[39;00m\n\u001b[1;32m     35\u001b[0m     \u001b[38;5;28;01mif\u001b[39;00m \u001b[38;5;129;01mnot\u001b[39;00m np\u001b[38;5;241m.\u001b[39misclose(belief_dist\u001b[38;5;241m.\u001b[39msum(), \u001b[38;5;241m1.0\u001b[39m):\n\u001b[1;32m     36\u001b[0m       \u001b[38;5;28;01mraise\u001b[39;00m \u001b[38;5;167;01mValueError\u001b[39;00m(\u001b[38;5;124m\"\u001b[39m\u001b[38;5;124mDistribution not normalized! Please normalize\u001b[39m\u001b[38;5;124m\"\u001b[39m)\n",
      "\u001b[0;31mNameError\u001b[0m: name 'np' is not defined"
     ]
    }
   ],
   "source": [
    "plot_beliefs(D[0])"
   ]
  },
  {
   "cell_type": "code",
   "execution_count": 150,
   "metadata": {},
   "outputs": [
    {
     "ename": "NameError",
     "evalue": "name 'np' is not defined",
     "output_type": "error",
     "traceback": [
      "\u001b[0;31m---------------------------------------------------------------------------\u001b[0m",
      "\u001b[0;31mNameError\u001b[0m                                 Traceback (most recent call last)",
      "Cell \u001b[0;32mIn[150], line 1\u001b[0m\n\u001b[0;32m----> 1\u001b[0m plot_beliefs(D[\u001b[38;5;241m1\u001b[39m])\n",
      "File \u001b[0;32m~/Desktop/ISEF/Active Inference/Active-Inference-2025/auxilaryfunctions.py:33\u001b[0m, in \u001b[0;36mplot_beliefs\u001b[0;34m(belief_dist, title_str)\u001b[0m\n\u001b[1;32m     30\u001b[0m \u001b[38;5;28;01mdef\u001b[39;00m \u001b[38;5;21mplot_beliefs\u001b[39m(belief_dist, title_str\u001b[38;5;241m=\u001b[39m\u001b[38;5;124m\"\u001b[39m\u001b[38;5;124m\"\u001b[39m):\n\u001b[1;32m     31\u001b[0m \u001b[38;5;250m    \u001b[39m\u001b[38;5;124;03m\"\"\"\u001b[39;00m\n\u001b[1;32m     32\u001b[0m \u001b[38;5;124;03m    Plot a categorical distribution or belief distribution, stored in the 1-D numpy vector `belief_dist`\u001b[39;00m\n\u001b[0;32m---> 33\u001b[0m \u001b[38;5;124;03m    \"\"\"\u001b[39;00m\n\u001b[1;32m     35\u001b[0m     \u001b[38;5;28;01mif\u001b[39;00m \u001b[38;5;129;01mnot\u001b[39;00m np\u001b[38;5;241m.\u001b[39misclose(belief_dist\u001b[38;5;241m.\u001b[39msum(), \u001b[38;5;241m1.0\u001b[39m):\n\u001b[1;32m     36\u001b[0m       \u001b[38;5;28;01mraise\u001b[39;00m \u001b[38;5;167;01mValueError\u001b[39;00m(\u001b[38;5;124m\"\u001b[39m\u001b[38;5;124mDistribution not normalized! Please normalize\u001b[39m\u001b[38;5;124m\"\u001b[39m)\n",
      "\u001b[0;31mNameError\u001b[0m: name 'np' is not defined"
     ]
    }
   ],
   "source": [
    "plot_beliefs(D[1])"
   ]
  },
  {
   "cell_type": "markdown",
   "metadata": {},
   "source": [
    "# Generative Process"
   ]
  },
  {
   "cell_type": "code",
   "execution_count": 152,
   "metadata": {},
   "outputs": [],
   "source": [
    "def update_vision(current_location, grid_dims, distance):\n",
    "    \"\"\"\n",
    "    Update the agent's field of vision based on the current location and distance\n",
    "    Returns a list of all grid positions within the vision range\n",
    "    \n",
    "    Args:\n",
    "        current_location (tuple): Current (x,y) position of the agent\n",
    "        grid_dims (list): Dimensions of the grid [width, height]\n",
    "        distance (int): Vision range/distance\n",
    "        \n",
    "    Returns:\n",
    "        list: List of (x,y) tuples representing visible grid positions\n",
    "    \"\"\"\n",
    "    x, y = current_location\n",
    "    x_min = max(0, x - distance)\n",
    "    x_max = min(grid_dims[0], x + distance + 1)\n",
    "    y_min = max(0, y - distance)\n",
    "    y_max = min(grid_dims[1], y + distance + 1)\n",
    "    \n",
    "    visible_locations = []\n",
    "    for y_pos in range(y_min, y_max):\n",
    "        for x_pos in range(x_min, x_max):\n",
    "            visible_locations.append((x_pos, y_pos))\n",
    "            \n",
    "    return visible_locations"
   ]
  },
  {
   "cell_type": "code",
   "execution_count": 153,
   "metadata": {},
   "outputs": [],
   "source": [
    "X, Y = 0, 0"
   ]
  },
  {
   "cell_type": "code",
   "execution_count": 154,
   "metadata": {},
   "outputs": [],
   "source": [
    "class GridWorldEnv():\n",
    "    def __init__(self, starting_loc=(0, 0), redspots=[(1, 2), (3, 2), (4, 4), (6, 1)], goal=(6,4)):\n",
    "        # Initialize coordinates\n",
    "        self.x, self.y = starting_loc\n",
    "        self.init_loc = starting_loc\n",
    "        self.current_location = (self.x, self.y)\n",
    "\n",
    "        self.goal = goal\n",
    "\n",
    "        self.redspots = redspots\n",
    "\n",
    "        self.red_obs = ['Null']\n",
    "        self.green_obs = 'Null'\n",
    "        self.white_obs = ['Null']\n",
    "\n",
    "        self.agent_reward = 0\n",
    "        \n",
    "        print(f\"Starting location is {self.current_location} | Red spot locations are {self.redspots} | Goal is {self.goal}\")\n",
    "    \n",
    "    def step(self, action_label):\n",
    "        if action_label == \"UP\": \n",
    "            self.y = max(0, self.y - 1)  # Move up (decrease y)\n",
    "            \n",
    "        elif action_label == \"DOWN\": \n",
    "            self.y = min(grid_dims[1] - 1, self.y + 1)  # Move down (increase y)\n",
    "\n",
    "        elif action_label == \"LEFT\": \n",
    "            self.x = max(0, self.x - 1)  # Move left (decrease x)\n",
    "\n",
    "        elif action_label == \"RIGHT\": \n",
    "            self.x = min(grid_dims[0] - 1, self.x + 1)  # Move right (increase x)\n",
    "\n",
    "        # Update current_location tuple after movement\n",
    "        self.current_location = (self.x, self.y)\n",
    "        print(f\"self.current_location: {self.current_location}\")\n",
    "        \n",
    "        # Update vision with current coordinates\n",
    "        self.vision = update_vision(self.current_location, grid_dims, 6)\n",
    "\n",
    "        self.loc_obs = self.current_location\n",
    "\n",
    "        # Reset observations at each step\n",
    "        self.red_obs = ['Null']\n",
    "        self.white_obs = ['Null']\n",
    "        self.green_obs = 'Null'\n",
    "\n",
    "        # Update observations based on vision\n",
    "        for spot in self.vision:\n",
    "            if spot in self.redspots:\n",
    "                if 'Null' in self.red_obs:\n",
    "                    self.red_obs = [spot]\n",
    "                else:\n",
    "                    self.red_obs.append(spot)\n",
    "            elif spot == self.goal:\n",
    "                self.green_obs = spot\n",
    "            else:\n",
    "                if 'Null' in self.white_obs:\n",
    "                    self.white_obs = [spot]\n",
    "                else:\n",
    "                    self.white_obs.append(spot)\n",
    "\n",
    "        # Update rewards and observations based on current location\n",
    "        if self.current_location in self.redspots:\n",
    "            self.agent_reward -= 5\n",
    "            if 'Null' in self.red_obs:\n",
    "                self.red_obs = [self.current_location]\n",
    "            else:\n",
    "                self.red_obs.append(self.current_location)\n",
    "        elif self.current_location == self.goal:\n",
    "            self.agent_reward += 20\n",
    "            self.green_obs = self.current_location\n",
    "        else:\n",
    "            if 'Null' in self.white_obs:\n",
    "                self.white_obs = [self.current_location]\n",
    "            else:\n",
    "                self.white_obs.append(self.current_location)\n",
    "        \n",
    "        return self.loc_obs, self.green_obs, self.white_obs, self.red_obs, self.agent_reward\n",
    "    \n",
    "    def reset(self):\n",
    "        self.x, self.y = self.init_loc\n",
    "        self.current_location = (self.x, self.y)\n",
    "        print(f'Re-initialized location to {self.current_location}')\n",
    "        self.loc_obs = self.current_location\n",
    "        self.green_obs, self.white_obs, self.red_obs, self.agent_reward = 'Null', ['Null'], ['Null'], 0\n",
    "\n",
    "        return self.loc_obs, self.green_obs, self.white_obs, self.red_obs, self.agent_reward"
   ]
  },
  {
   "cell_type": "markdown",
   "metadata": {},
   "source": [
    "# New Functions"
   ]
  },
  {
   "cell_type": "code",
   "execution_count": 168,
   "metadata": {},
   "outputs": [],
   "source": [
    "import numpy as np\n",
    "from pymdp import utils\n",
    "\n",
    "class RuleMatrixAgent:\n",
    "    def __init__(self, pymdp_agent, rule_matrix):\n",
    "        self.agent = pymdp_agent\n",
    "        self.rule_matrix = rule_matrix\n",
    "        \n",
    "    def infer_policies(self):\n",
    "        \"\"\"\n",
    "        Policy inference using rule matrix to predict attributes of next locations\n",
    "        \"\"\"\n",
    "        policies = self.agent.policies\n",
    "        policy_values = np.zeros(len(policies))\n",
    "        \n",
    "        # Get current location from beliefs\n",
    "        current_loc = np.argmax(self.agent.qs[0])\n",
    "        \n",
    "        for pol_idx, policy in enumerate(policies):\n",
    "            # Get first action (you could extend this to consider full sequence)\n",
    "            action = policy[0]\n",
    "            \n",
    "            # Use B[0] to predict next location\n",
    "            next_loc_dist = self.agent.B[0][:, current_loc, action]\n",
    "            next_loc = np.argmax(next_loc_dist)\n",
    "            \n",
    "            # Use rule matrix to predict attributes at next location\n",
    "            predicted_attributes = self.rule_matrix[next_loc]\n",
    "            \n",
    "            # Calculate value components\n",
    "            pragmatic_value = self._calculate_pragmatic_value(predicted_attributes)\n",
    "            epistemic_value = self._calculate_epistemic_value(predicted_attributes)\n",
    "            \n",
    "            # Combine values (you can adjust these weights)\n",
    "            policy_values[pol_idx] = pragmatic_value + 0.5 * epistemic_value\n",
    "        \n",
    "        # Convert to probabilities\n",
    "        policy_probs = utils.softmax(-policy_values)  # Negative because we minimize free energy\n",
    "        self.agent.q_pi = policy_probs\n",
    "        \n",
    "        return policy_probs\n",
    "    \n",
    "    def _calculate_pragmatic_value(self, predicted_attributes):\n",
    "        \"\"\"\n",
    "        Calculate pragmatic value by comparing predicted attributes with preferences\n",
    "        \"\"\"\n",
    "        # Get preferences from C matrix\n",
    "        preferences = self.agent.C[1]  # Your preferences over attributes\n",
    "        \n",
    "        # Calculate how well predicted attributes match preferences\n",
    "        # Using negative KL divergence as measure of alignment\n",
    "        pragmatic_value = -np.sum(predicted_attributes * np.log(predicted_attributes / preferences + 1e-16))\n",
    "        \n",
    "        return pragmatic_value\n",
    "    \n",
    "    def _calculate_epistemic_value(self, predicted_attributes):\n",
    "        \"\"\"\n",
    "        Calculate epistemic value (encourages exploration of uncertain locations)\n",
    "        \"\"\"\n",
    "        # Calculate entropy of predictions (higher means more uncertain)\n",
    "        entropy = -np.sum(predicted_attributes * np.log(predicted_attributes + 1e-16))\n",
    "        \n",
    "        return entropy\n",
    "    \n",
    "    def sample_action(self):\n",
    "        \"\"\"Use original agent's action sampling\"\"\"\n",
    "        return self.agent.sample_action()\n",
    "\n",
    "# Helper function to create predicted observations\n",
    "def get_predicted_obs(location_id, attribute_beliefs, A):\n",
    "    \"\"\"\n",
    "    Generate predicted observations given location and attribute beliefs\n",
    "    \"\"\"\n",
    "    # Location observation (from A[0])\n",
    "    loc_obs = A[0][:, location_id, :]  # Shape: [num_loc_obs, num_attr]\n",
    "    \n",
    "    # Attribute observation (from A[1])\n",
    "    attr_obs = np.zeros(A[1].shape[0])  # Shape: [num_attr_obs]\n",
    "    for attr_idx in range(len(attribute_beliefs)):\n",
    "        attr_obs += attribute_beliefs[attr_idx] * A[1][:, location_id, attr_idx]\n",
    "    \n",
    "    return [loc_obs, attr_obs]"
   ]
  },
  {
   "cell_type": "markdown",
   "metadata": {},
   "source": [
    "# Active Inference"
   ]
  },
  {
   "cell_type": "code",
   "execution_count": 155,
   "metadata": {},
   "outputs": [],
   "source": [
    "from pymdp.agent import Agent"
   ]
  },
  {
   "cell_type": "code",
   "execution_count": 156,
   "metadata": {},
   "outputs": [
    {
     "data": {
      "text/plain": [
       "((0, 0), [(1, 2), (3, 2), (4, 4), (6, 1)], (6, 4))"
      ]
     },
     "execution_count": 156,
     "metadata": {},
     "output_type": "execute_result"
    }
   ],
   "source": [
    "agent_pos, redspots, goal_location"
   ]
  },
  {
   "cell_type": "code",
   "execution_count": 157,
   "metadata": {},
   "outputs": [
    {
     "name": "stdout",
     "output_type": "stream",
     "text": [
      "Starting location is (0, 0) | Red spot locations are [(1, 2), (3, 2), (4, 4), (6, 1)] | Goal is (6, 4)\n"
     ]
    }
   ],
   "source": [
    "my_agent = Agent(A=A, B=B, C=C, D=D, policy_len=6)\n",
    "\n",
    "my_env = GridWorldEnv(starting_loc = agent_pos, redspots=redspots, goal = goal_location)"
   ]
  },
  {
   "cell_type": "code",
   "execution_count": 158,
   "metadata": {},
   "outputs": [
    {
     "name": "stdout",
     "output_type": "stream",
     "text": [
      "Re-initialized location to (0, 0)\n"
     ]
    },
    {
     "data": {
      "text/plain": [
       "((0, 0), 'Null', ['Null'], ['Null'], 0)"
      ]
     },
     "execution_count": 158,
     "metadata": {},
     "output_type": "execute_result"
    }
   ],
   "source": [
    "loc_obs, green_obs, white_obs, red_obs, agent_reward = my_env.reset()\n",
    "loc_obs, green_obs, white_obs, red_obs, agent_reward"
   ]
  },
  {
   "cell_type": "code",
   "execution_count": 159,
   "metadata": {},
   "outputs": [
    {
     "name": "stdout",
     "output_type": "stream",
     "text": [
      "self.current_location: (0, 0)\n"
     ]
    }
   ],
   "source": [
    "loc_obs, green_obs, white_obs, red_obs, agent_reward = my_env.step('STAY')"
   ]
  },
  {
   "cell_type": "code",
   "execution_count": 160,
   "metadata": {},
   "outputs": [
    {
     "data": {
      "text/plain": [
       "((0, 0),\n",
       " (6, 4),\n",
       " [(0, 0),\n",
       "  (1, 0),\n",
       "  (2, 0),\n",
       "  (3, 0),\n",
       "  (4, 0),\n",
       "  (5, 0),\n",
       "  (6, 0),\n",
       "  (0, 1),\n",
       "  (1, 1),\n",
       "  (2, 1),\n",
       "  (3, 1),\n",
       "  (4, 1),\n",
       "  (5, 1),\n",
       "  (0, 2),\n",
       "  (2, 2),\n",
       "  (4, 2),\n",
       "  (5, 2),\n",
       "  (6, 2),\n",
       "  (0, 3),\n",
       "  (1, 3),\n",
       "  (2, 3),\n",
       "  (3, 3),\n",
       "  (4, 3),\n",
       "  (5, 3),\n",
       "  (6, 3),\n",
       "  (0, 4),\n",
       "  (1, 4),\n",
       "  (2, 4),\n",
       "  (3, 4),\n",
       "  (5, 4),\n",
       "  (0, 0)],\n",
       " [(6, 1), (1, 2), (3, 2), (4, 4)],\n",
       " 0)"
      ]
     },
     "execution_count": 160,
     "metadata": {},
     "output_type": "execute_result"
    }
   ],
   "source": [
    "loc_obs, green_obs, white_obs, red_obs, agent_reward"
   ]
  },
  {
   "cell_type": "markdown",
   "metadata": {},
   "source": [
    "## Create Observation"
   ]
  },
  {
   "cell_type": "code",
   "execution_count": 161,
   "metadata": {},
   "outputs": [
    {
     "data": {
      "text/plain": [
       "(0, 0)"
      ]
     },
     "execution_count": 161,
     "metadata": {},
     "output_type": "execute_result"
    }
   ],
   "source": [
    "loc_obs"
   ]
  },
  {
   "cell_type": "code",
   "execution_count": 162,
   "metadata": {},
   "outputs": [
    {
     "data": {
      "text/plain": [
       "[(0, 0),\n",
       " (0, 1),\n",
       " (0, 2),\n",
       " (0, 3),\n",
       " (0, 4),\n",
       " (1, 0),\n",
       " (1, 1),\n",
       " (1, 2),\n",
       " (1, 3),\n",
       " (1, 4),\n",
       " (2, 0),\n",
       " (2, 1),\n",
       " (2, 2),\n",
       " (2, 3),\n",
       " (2, 4),\n",
       " (3, 0),\n",
       " (3, 1),\n",
       " (3, 2),\n",
       " (3, 3),\n",
       " (3, 4),\n",
       " (4, 0),\n",
       " (4, 1),\n",
       " (4, 2),\n",
       " (4, 3),\n",
       " (4, 4),\n",
       " (5, 0),\n",
       " (5, 1),\n",
       " (5, 2),\n",
       " (5, 3),\n",
       " (5, 4),\n",
       " (6, 0),\n",
       " (6, 1),\n",
       " (6, 2),\n",
       " (6, 3),\n",
       " (6, 4),\n",
       " (7, 0),\n",
       " (7, 1),\n",
       " (7, 2),\n",
       " (7, 3),\n",
       " (7, 4)]"
      ]
     },
     "execution_count": 162,
     "metadata": {},
     "output_type": "execute_result"
    }
   ],
   "source": [
    "grid_locations"
   ]
  },
  {
   "cell_type": "code",
   "execution_count": 163,
   "metadata": {},
   "outputs": [],
   "source": [
    "def create_color_observation(position, red_obs, green_obs, white_obs):\n",
    "\n",
    "    if red_obs != ['Null']:\n",
    "        if position in red_obs: return 1  # RED\n",
    "    if green_obs == position: return 2 # GREEN\n",
    "    elif white_obs != ['Null']:\n",
    "        if position in white_obs: return 0 # WHITE\n",
    "    return 3"
   ]
  },
  {
   "cell_type": "code",
   "execution_count": 164,
   "metadata": {},
   "outputs": [],
   "source": [
    "def create_observation(position, red_obs, green_obs, white_obs):\n",
    "    return [grid_locations.index(position), create_color_observation(position, red_obs, green_obs, white_obs), create_color_observation((position[0] + 1, position[1]), red_obs, green_obs, white_obs), create_color_observation((position[0] - 1, position[1]), red_obs, green_obs, white_obs), create_color_observation((position[0], position[1] - 1), red_obs, green_obs, white_obs), create_color_observation((position[0], position[1] + 1), red_obs, green_obs, white_obs)]"
   ]
  },
  {
   "cell_type": "markdown",
   "metadata": {},
   "source": [
    "## Loop"
   ]
  },
  {
   "cell_type": "code",
   "execution_count": 165,
   "metadata": {},
   "outputs": [
    {
     "data": {
      "text/plain": [
       "(array([0.025, 0.025, 0.025, 0.025, 0.025, 0.025, 0.025, 0.025, 0.025,\n",
       "        0.025, 0.025, 0.025, 0.025, 0.025, 0.025, 0.025, 0.025, 0.025,\n",
       "        0.025, 0.025, 0.025, 0.025, 0.025, 0.025, 0.025, 0.025, 0.025,\n",
       "        0.025, 0.025, 0.025, 0.025, 0.025, 0.025, 0.025, 0.025, 0.025,\n",
       "        0.025, 0.025, 0.025, 0.025]),\n",
       " array([0.33333333, 0.33333333, 0.33333333]))"
      ]
     },
     "execution_count": 165,
     "metadata": {},
     "output_type": "execute_result"
    }
   ],
   "source": [
    "my_agent.qs[0], my_agent.qs[1]"
   ]
  },
  {
   "cell_type": "code",
   "execution_count": 166,
   "metadata": {},
   "outputs": [
    {
     "data": {
      "text/plain": [
       "[0, 0, 0, 3, 3, 0]"
      ]
     },
     "execution_count": 166,
     "metadata": {},
     "output_type": "execute_result"
    }
   ],
   "source": [
    "obs = create_observation(loc_obs, red_obs, green_obs, white_obs)\n",
    "obs"
   ]
  },
  {
   "cell_type": "code",
   "execution_count": 167,
   "metadata": {},
   "outputs": [
    {
     "name": "stdout",
     "output_type": "stream",
     "text": [
      "Observation: [0, 0, 0, 3, 3, 0]\n"
     ]
    },
    {
     "ename": "NameError",
     "evalue": "name 'np' is not defined",
     "output_type": "error",
     "traceback": [
      "\u001b[0;31m---------------------------------------------------------------------------\u001b[0m",
      "\u001b[0;31mNameError\u001b[0m                                 Traceback (most recent call last)",
      "Cell \u001b[0;32mIn[167], line 16\u001b[0m\n\u001b[1;32m     13\u001b[0m qs \u001b[38;5;241m=\u001b[39m my_agent\u001b[38;5;241m.\u001b[39minfer_states(obs) \u001b[38;5;66;03m#directly updates using bayesian inference \u001b[39;00m\n\u001b[1;32m     15\u001b[0m \u001b[38;5;66;03m# plot belief posterior\u001b[39;00m\n\u001b[0;32m---> 16\u001b[0m plot_beliefs(qs[\u001b[38;5;241m0\u001b[39m])\n\u001b[1;32m     17\u001b[0m plot_beliefs(qs[\u001b[38;5;241m1\u001b[39m])\n\u001b[1;32m     19\u001b[0m \u001b[38;5;66;03m# use belief posterior to update rule matrix\u001b[39;00m\n",
      "File \u001b[0;32m~/Desktop/ISEF/Active Inference/Active-Inference-2025/auxilaryfunctions.py:33\u001b[0m, in \u001b[0;36mplot_beliefs\u001b[0;34m(belief_dist, title_str)\u001b[0m\n\u001b[1;32m     30\u001b[0m \u001b[38;5;28;01mdef\u001b[39;00m \u001b[38;5;21mplot_beliefs\u001b[39m(belief_dist, title_str\u001b[38;5;241m=\u001b[39m\u001b[38;5;124m\"\u001b[39m\u001b[38;5;124m\"\u001b[39m):\n\u001b[1;32m     31\u001b[0m \u001b[38;5;250m    \u001b[39m\u001b[38;5;124;03m\"\"\"\u001b[39;00m\n\u001b[1;32m     32\u001b[0m \u001b[38;5;124;03m    Plot a categorical distribution or belief distribution, stored in the 1-D numpy vector `belief_dist`\u001b[39;00m\n\u001b[0;32m---> 33\u001b[0m \u001b[38;5;124;03m    \"\"\"\u001b[39;00m\n\u001b[1;32m     35\u001b[0m     \u001b[38;5;28;01mif\u001b[39;00m \u001b[38;5;129;01mnot\u001b[39;00m np\u001b[38;5;241m.\u001b[39misclose(belief_dist\u001b[38;5;241m.\u001b[39msum(), \u001b[38;5;241m1.0\u001b[39m):\n\u001b[1;32m     36\u001b[0m       \u001b[38;5;28;01mraise\u001b[39;00m \u001b[38;5;167;01mValueError\u001b[39;00m(\u001b[38;5;124m\"\u001b[39m\u001b[38;5;124mDistribution not normalized! Please normalize\u001b[39m\u001b[38;5;124m\"\u001b[39m)\n",
      "\u001b[0;31mNameError\u001b[0m: name 'np' is not defined"
     ]
    }
   ],
   "source": [
    "history_of_locs = [loc_obs]\n",
    "\n",
    "T = 15\n",
    "\n",
    "for t in range(T):\n",
    "\n",
    "    obs = create_observation(loc_obs, red_obs, green_obs, white_obs)\n",
    "\n",
    "    # generate observations\n",
    "    print(f\"Observation: {obs}\")\n",
    "\n",
    "    # belief posterior\n",
    "    qs = my_agent.infer_states(obs) #directly updates using bayesian inference \n",
    "\n",
    "    # plot belief posterior\n",
    "    plot_beliefs(qs[0])\n",
    "    plot_beliefs(qs[1])\n",
    "\n",
    "    # use belief posterior to update rule matrix\n",
    "    rule_matrix = update_rule_matrix(rule_matrix, qs)\n",
    "    print(f\"Rule Matrix at loc {loc_obs}: {rule_matrix[obs[0]]}\")\n",
    "\n",
    "    # ruled based update on A\n",
    "    # A = rule_based_update_A(rule_matrix, A)\n",
    "\n",
    "    # plot updated A\n",
    "    # plot_A_1(A)\n",
    "\n",
    "\n",
    "    # policy selection\n",
    "    my_agent.infer_policies()\n",
    "    \n",
    "    chosen_action_id = my_agent.sample_action()\n",
    "\n",
    "    movement_id = int(chosen_action_id[0])\n",
    "\n",
    "    choice_action = actions[movement_id]\n",
    "\n",
    "    print(f'Action at time {t}: {choice_action}')\n",
    "\n",
    "    \n",
    "    loc_obs, green_obs, white_obs, red_obs, agent_reward = my_env.step(choice_action)\n",
    "    \n",
    "    print(agent_reward, loc_obs, green_obs, white_obs, red_obs)\n",
    "\n",
    "\n",
    "    history_of_locs.append(loc_obs)\n",
    "\n",
    "    print(f'Grid location at time {t}: {loc_obs}')\n",
    "\n",
    "    print(f'Reward at time {t}: {agent_reward}')"
   ]
  },
  {
   "cell_type": "code",
   "execution_count": null,
   "metadata": {},
   "outputs": [],
   "source": []
  }
 ],
 "metadata": {
  "kernelspec": {
   "display_name": "base",
   "language": "python",
   "name": "python3"
  },
  "language_info": {
   "codemirror_mode": {
    "name": "ipython",
    "version": 3
   },
   "file_extension": ".py",
   "mimetype": "text/x-python",
   "name": "python",
   "nbconvert_exporter": "python",
   "pygments_lexer": "ipython3",
   "version": "3.11.7"
  }
 },
 "nbformat": 4,
 "nbformat_minor": 2
}
